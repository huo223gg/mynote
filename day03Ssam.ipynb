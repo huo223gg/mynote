{
 "cells": [
  {
   "cell_type": "code",
   "execution_count": 18,
   "metadata": {},
   "outputs": [
    {
     "data": {
      "text/plain": [
       "5"
      ]
     },
     "execution_count": 18,
     "metadata": {},
     "output_type": "execute_result"
    }
   ],
   "source": [
    "a=[]\n",
    "a=[0,1,2,3,4,5]\n",
    "#indexing\n",
    "a[-1]\n"
   ]
  },
  {
   "cell_type": "code",
   "execution_count": 11,
   "metadata": {},
   "outputs": [
    {
     "data": {
      "text/plain": [
       "list"
      ]
     },
     "execution_count": 11,
     "metadata": {},
     "output_type": "execute_result"
    }
   ],
   "source": [
    "#slicing\n",
    "a[0:2]\n",
    "a[::2]\n",
    "a[::-1]\n",
    "a[0:3:2]\n",
    "type(a[0:3:2])"
   ]
  },
  {
   "cell_type": "code",
   "execution_count": 12,
   "metadata": {},
   "outputs": [
    {
     "data": {
      "text/plain": [
       "[0, 1, 2, 3, 4, 5, 0, 1, 2, 3, 4, 5]"
      ]
     },
     "execution_count": 12,
     "metadata": {},
     "output_type": "execute_result"
    }
   ],
   "source": [
    "#반복\n",
    "a * 2"
   ]
  },
  {
   "cell_type": "code",
   "execution_count": 13,
   "metadata": {},
   "outputs": [
    {
     "data": {
      "text/plain": [
       "[0, 1, 2, 3, 4, 5, 10, 20, 30]"
      ]
     },
     "execution_count": 13,
     "metadata": {},
     "output_type": "execute_result"
    }
   ],
   "source": [
    "#연결하기 \n",
    "a + [10,20,30]"
   ]
  },
  {
   "cell_type": "code",
   "execution_count": 22,
   "metadata": {},
   "outputs": [
    {
     "data": {
      "text/plain": [
       "[0, 1, 2, 3, 4, 5]"
      ]
     },
     "execution_count": 22,
     "metadata": {},
     "output_type": "execute_result"
    }
   ],
   "source": [
    "a = [0,1,2,3,4,5]\n",
    "a"
   ]
  },
  {
   "cell_type": "code",
   "execution_count": 23,
   "metadata": {},
   "outputs": [
    {
     "data": {
      "text/plain": [
       "[0, 1, 77, 88, 99, 55, 5]"
      ]
     },
     "execution_count": 23,
     "metadata": {},
     "output_type": "execute_result"
    }
   ],
   "source": [
    "#여러개의 값을 변경 \n",
    "a[2:5] = [77,88,99,55]\n",
    "a"
   ]
  },
  {
   "cell_type": "code",
   "execution_count": 24,
   "metadata": {},
   "outputs": [
    {
     "data": {
      "text/plain": [
       "[11, 1, 77, 88, 99, 55, 5]"
      ]
     },
     "execution_count": 24,
     "metadata": {},
     "output_type": "execute_result"
    }
   ],
   "source": [
    "#단일값으로 변경 \n",
    "a[0] = 11\n",
    "a"
   ]
  },
  {
   "cell_type": "code",
   "execution_count": 28,
   "metadata": {},
   "outputs": [
    {
     "name": "stdout",
     "output_type": "stream",
     "text": [
      "1 2 3 \n",
      "4 5 6 7 \n",
      "8 9 \n"
     ]
    },
    {
     "data": {
      "text/plain": [
       "2"
      ]
     },
     "execution_count": 28,
     "metadata": {},
     "output_type": "execute_result"
    }
   ],
   "source": [
    "a = [[1,2,3],[4,5,6,7],[8,9]]\n",
    "for item in a:\n",
    "    #print(item)\n",
    "    for su in item:\n",
    "        print(su, end=\" \")\n",
    "    print()\n",
    "a[0][1]    "
   ]
  },
  {
   "cell_type": "code",
   "execution_count": 30,
   "metadata": {},
   "outputs": [
    {
     "data": {
      "text/plain": [
       "[1, 4, 9, 16, 25, 36, 49, 64, 81, 100]"
      ]
     },
     "execution_count": 30,
     "metadata": {},
     "output_type": "execute_result"
    }
   ],
   "source": [
    "#1,2,3,4,5,6,7,8,9,10\n",
    "#1,4,9,16 ~~~~~~\n",
    "alist = []\n",
    "for su in range(1,11):\n",
    "    alist.append(su ** 2)\n",
    "alist    "
   ]
  },
  {
   "cell_type": "code",
   "execution_count": 32,
   "metadata": {},
   "outputs": [
    {
     "data": {
      "text/plain": [
       "[1, 4, 9, 16, 25, 36, 49, 64, 81, 100]"
      ]
     },
     "execution_count": 32,
     "metadata": {},
     "output_type": "execute_result"
    }
   ],
   "source": [
    "[su**2 for su in range(1,11)]"
   ]
  },
  {
   "cell_type": "code",
   "execution_count": 34,
   "metadata": {},
   "outputs": [
    {
     "data": {
      "text/plain": [
       "[36, 49, 64, 81, 100]"
      ]
     },
     "execution_count": 34,
     "metadata": {},
     "output_type": "execute_result"
    }
   ],
   "source": [
    "[su**2 for su in range(1,11) if  su > 5 ]"
   ]
  },
  {
   "cell_type": "code",
   "execution_count": 41,
   "metadata": {},
   "outputs": [
    {
     "data": {
      "text/plain": [
       "[1, 2, 10, 20, 30, 88, 3, 4, 5]"
      ]
     },
     "execution_count": 41,
     "metadata": {},
     "output_type": "execute_result"
    }
   ],
   "source": [
    "a=[1,2,3,4]\n",
    "b=[10,20,30]\n",
    "\n",
    "a.append(5)\n",
    "a.insert(2,88)\n",
    "type(a[2:2])\n",
    "a[2:2] = b   #리스트의 결합 \n",
    "a"
   ]
  },
  {
   "cell_type": "code",
   "execution_count": 44,
   "metadata": {},
   "outputs": [
    {
     "data": {
      "text/plain": [
       "[1, 2, [77, 20, 30], [77, 20, 30], 30, 88, 3, 4, 5]"
      ]
     },
     "execution_count": 44,
     "metadata": {},
     "output_type": "execute_result"
    }
   ],
   "source": [
    "a[2] = b\n",
    "a[3] = b\n",
    "a"
   ]
  },
  {
   "cell_type": "code",
   "execution_count": 45,
   "metadata": {},
   "outputs": [
    {
     "data": {
      "text/plain": [
       "[1, 2, [66, 20, 30], [66, 20, 30], 30, 88, 3, 4, 5]"
      ]
     },
     "execution_count": 45,
     "metadata": {},
     "output_type": "execute_result"
    }
   ],
   "source": [
    "b[0]=66\n",
    "a"
   ]
  },
  {
   "cell_type": "code",
   "execution_count": 52,
   "metadata": {},
   "outputs": [
    {
     "data": {
      "text/plain": [
       "[10, 20, [1, 2, 3]]"
      ]
     },
     "execution_count": 52,
     "metadata": {},
     "output_type": "execute_result"
    }
   ],
   "source": [
    "score=[10,20,30]\n",
    "score[2]=[1,2,3]\n",
    "score"
   ]
  },
  {
   "cell_type": "code",
   "execution_count": 53,
   "metadata": {},
   "outputs": [
    {
     "data": {
      "text/plain": [
       "[77, 88, 99, 20, [1, 2, 3]]"
      ]
     },
     "execution_count": 53,
     "metadata": {},
     "output_type": "execute_result"
    }
   ],
   "source": [
    "score[0:1] = [77, 88,99]\n",
    "score"
   ]
  },
  {
   "cell_type": "code",
   "execution_count": 54,
   "metadata": {},
   "outputs": [
    {
     "data": {
      "text/plain": [
       "[77, 88, 99, 20, [1, [1, 2, 3], 3]]"
      ]
     },
     "execution_count": 54,
     "metadata": {},
     "output_type": "execute_result"
    }
   ],
   "source": [
    "score[4][1] = [1,2,3]\n",
    "score"
   ]
  },
  {
   "cell_type": "code",
   "execution_count": 55,
   "metadata": {},
   "outputs": [
    {
     "data": {
      "text/plain": [
       "[77, 88, 99, 20, [99, [1, 2, 3], 3]]"
      ]
     },
     "execution_count": 55,
     "metadata": {},
     "output_type": "execute_result"
    }
   ],
   "source": [
    "score[4][0] = 99\n",
    "score"
   ]
  },
  {
   "cell_type": "code",
   "execution_count": 65,
   "metadata": {},
   "outputs": [
    {
     "data": {
      "text/plain": [
       "[1, 2, 3, 5, 100, [66, 20, 30], [66, 20, 30]]"
      ]
     },
     "execution_count": 65,
     "metadata": {},
     "output_type": "execute_result"
    }
   ],
   "source": [
    "score = [1,2,3,100,5,100, b, b]\n",
    "score.remove(100)\n",
    "score"
   ]
  },
  {
   "cell_type": "code",
   "execution_count": 69,
   "metadata": {},
   "outputs": [
    {
     "data": {
      "text/plain": [
       "[1, 2, 3, 5]"
      ]
     },
     "execution_count": 69,
     "metadata": {},
     "output_type": "execute_result"
    }
   ],
   "source": [
    "score = [1,2,3,100,5,100]\n",
    "score.count(100)\n",
    "[s for s in score if s != 100]"
   ]
  },
  {
   "cell_type": "code",
   "execution_count": 87,
   "metadata": {},
   "outputs": [
    {
     "name": "stdout",
     "output_type": "stream",
     "text": [
      "100 점 맞은 사람 몇명? 3\n"
     ]
    }
   ],
   "source": [
    "score = [88,99,100,77, 66, 100, 100]\n",
    "print(\"100 점 맞은 사람 몇명?\", score.count(100))"
   ]
  },
  {
   "cell_type": "code",
   "execution_count": 75,
   "metadata": {},
   "outputs": [
    {
     "data": {
      "text/plain": [
       "2"
      ]
     },
     "execution_count": 75,
     "metadata": {},
     "output_type": "execute_result"
    }
   ],
   "source": [
    "score.index(100)"
   ]
  },
  {
   "cell_type": "code",
   "execution_count": 83,
   "metadata": {},
   "outputs": [
    {
     "name": "stdout",
     "output_type": "stream",
     "text": [
      "만점은  2째 사람입니다.\n",
      "만점은  5째 사람입니다.\n",
      "만점은  6째 사람입니다.\n"
     ]
    }
   ],
   "source": [
    "#몇번째 사람이 100점인가?\n",
    "idx=0\n",
    "while True:\n",
    "    try:\n",
    "        idx = score.index(100, idx)\n",
    "        \n",
    "        #print(\"만점은  %d째 사람입니다.\"% idx)\n",
    "        print(\"만점은  {}째 사람입니다.\".format(idx))\n",
    "        idx += 1\n",
    "    except ValueError:\n",
    "        break\n",
    "    "
   ]
  },
  {
   "cell_type": "code",
   "execution_count": 85,
   "metadata": {},
   "outputs": [
    {
     "data": {
      "text/plain": [
       "[2, 5, 6]"
      ]
     },
     "execution_count": 85,
     "metadata": {},
     "output_type": "execute_result"
    }
   ],
   "source": [
    "\n",
    "msg = \"만점은  {}째 사람입니다.\"\n",
    "[msg.format(idx) for idx, s in enumerate(score) if s == 100]\n",
    "[idx for idx, s in enumerate(score) if s == 100]\n"
   ]
  },
  {
   "cell_type": "code",
   "execution_count": 94,
   "metadata": {},
   "outputs": [
    {
     "data": {
      "text/plain": [
       "(100, 66, 3, False, True)"
      ]
     },
     "execution_count": 94,
     "metadata": {},
     "output_type": "execute_result"
    }
   ],
   "source": [
    "max(score), min(score), score.count(100), 10 in score, 10 not in score"
   ]
  },
  {
   "cell_type": "code",
   "execution_count": 98,
   "metadata": {},
   "outputs": [
    {
     "data": {
      "text/plain": [
       "[50, 22, 20, 10, 5, 3]"
      ]
     },
     "execution_count": 98,
     "metadata": {},
     "output_type": "execute_result"
    }
   ],
   "source": [
    "mylist = [10,3,5,20,50,22]\n",
    "mylist.sort()\n",
    "mylist.reverse()\n",
    "mylist"
   ]
  },
  {
   "cell_type": "code",
   "execution_count": 100,
   "metadata": {},
   "outputs": [
    {
     "data": {
      "text/plain": [
       "[10, 3, 5, 20, 50, 22]"
      ]
     },
     "execution_count": 100,
     "metadata": {},
     "output_type": "execute_result"
    }
   ],
   "source": [
    "mylist = [10,3,5,20,50,22]\n",
    "sorted(mylist)\n",
    "mylist"
   ]
  },
  {
   "cell_type": "code",
   "execution_count": 103,
   "metadata": {},
   "outputs": [
    {
     "data": {
      "text/plain": [
       "[50, 22, 20, 10, 5, 3]"
      ]
     },
     "execution_count": 103,
     "metadata": {},
     "output_type": "execute_result"
    }
   ],
   "source": [
    "mylist = [10,3,5,20,50,22]\n",
    "mylist.sort( reverse=True) #default=Ascending \n",
    "mylist"
   ]
  },
  {
   "cell_type": "code",
   "execution_count": 115,
   "metadata": {},
   "outputs": [
    {
     "data": {
      "text/plain": [
       "['__add__',\n",
       " '__class__',\n",
       " '__contains__',\n",
       " '__delattr__',\n",
       " '__delitem__',\n",
       " '__dir__',\n",
       " '__doc__',\n",
       " '__eq__',\n",
       " '__format__',\n",
       " '__ge__',\n",
       " '__getattribute__',\n",
       " '__getitem__',\n",
       " '__gt__',\n",
       " '__hash__',\n",
       " '__iadd__',\n",
       " '__imul__',\n",
       " '__init__',\n",
       " '__init_subclass__',\n",
       " '__iter__',\n",
       " '__le__',\n",
       " '__len__',\n",
       " '__lt__',\n",
       " '__mul__',\n",
       " '__ne__',\n",
       " '__new__',\n",
       " '__reduce__',\n",
       " '__reduce_ex__',\n",
       " '__repr__',\n",
       " '__reversed__',\n",
       " '__rmul__',\n",
       " '__setattr__',\n",
       " '__setitem__',\n",
       " '__sizeof__',\n",
       " '__str__',\n",
       " '__subclasshook__',\n",
       " 'append',\n",
       " 'clear',\n",
       " 'copy',\n",
       " 'count',\n",
       " 'extend',\n",
       " 'index',\n",
       " 'insert',\n",
       " 'pop',\n",
       " 'remove',\n",
       " 'reverse',\n",
       " 'sort']"
      ]
     },
     "execution_count": 115,
     "metadata": {},
     "output_type": "execute_result"
    }
   ],
   "source": [
    "dir(str)\n",
    "dir(int)\n",
    "dir(bool)\n",
    "dir(list)"
   ]
  },
  {
   "cell_type": "code",
   "execution_count": 116,
   "metadata": {},
   "outputs": [
    {
     "data": {
      "text/plain": [
       "['Java', 'JavaScript', 'oracle', 'Python']"
      ]
     },
     "execution_count": 116,
     "metadata": {},
     "output_type": "execute_result"
    }
   ],
   "source": [
    "mylist = [\"Python\", 'Java', 'oracle', 'JavaScript']\n",
    "mylist.sort(key=str.lower)\n",
    "mylist"
   ]
  },
  {
   "cell_type": "code",
   "execution_count": 110,
   "metadata": {},
   "outputs": [
    {
     "data": {
      "text/plain": [
       "['Java', 'JavaScript', 'oracle', 'Python']"
      ]
     },
     "execution_count": 110,
     "metadata": {},
     "output_type": "execute_result"
    }
   ],
   "source": [
    "mylist = [\"Python\", 'Java', 'oracle', 'JavaScript']\n",
    "mylist.sort(key=f)\n",
    "mylist"
   ]
  },
  {
   "cell_type": "code",
   "execution_count": 111,
   "metadata": {},
   "outputs": [
    {
     "data": {
      "text/plain": [
       "['Java', 'JavaScript', 'oracle', 'Python']"
      ]
     },
     "execution_count": 111,
     "metadata": {},
     "output_type": "execute_result"
    }
   ],
   "source": [
    "mylist = [\"Python\", 'Java', 'oracle', 'JavaScript']\n",
    "mylist.sort(key=lambda s : s.lower()  )\n",
    "mylist"
   ]
  },
  {
   "cell_type": "code",
   "execution_count": 109,
   "metadata": {},
   "outputs": [],
   "source": [
    "def f(s):\n",
    "    return s.lower()  "
   ]
  },
  {
   "cell_type": "code",
   "execution_count": 118,
   "metadata": {},
   "outputs": [
    {
     "data": {
      "text/plain": [
       "['Java',\n",
       " 'JavaScript',\n",
       " 'oracle',\n",
       " 'Python',\n",
       " ['oracle', 'Python'],\n",
       " ['oracle', 'Python']]"
      ]
     },
     "execution_count": 118,
     "metadata": {},
     "output_type": "execute_result"
    }
   ],
   "source": [
    "mylist.append(['oracle', 'Python'])\n",
    "mylist"
   ]
  },
  {
   "cell_type": "code",
   "execution_count": 119,
   "metadata": {},
   "outputs": [],
   "source": [
    "mylist += ['oracle', 'Python']"
   ]
  },
  {
   "cell_type": "code",
   "execution_count": 122,
   "metadata": {},
   "outputs": [
    {
     "data": {
      "text/plain": [
       "['Java',\n",
       " 'JavaScript',\n",
       " 'oracle',\n",
       " 'Python',\n",
       " ['oracle', 'Python'],\n",
       " ['oracle', 'Python'],\n",
       " 'oracle',\n",
       " 'Python',\n",
       " 'oracle',\n",
       " 'Python',\n",
       " 'oracle',\n",
       " 'Python']"
      ]
     },
     "execution_count": 122,
     "metadata": {},
     "output_type": "execute_result"
    }
   ],
   "source": [
    "mylist.extend(['oracle', 'Python'])\n",
    "mylist"
   ]
  },
  {
   "cell_type": "code",
   "execution_count": null,
   "metadata": {},
   "outputs": [],
   "source": [
    "1. list1 = [ 1, 2, 3, 4, 5, 6]과 같은 리스트가 있다고 하자. 다음 수식의 값을 쓰시오.\n",
    "(1) list1[2]\n",
    "(2) list1[-2]\n",
    "(2) list1[1:3]\n",
    "(3) len(list1)\n",
    "(4) list1.index(5)\n",
    "(5) max(list1)\n",
    "(6) sum(list1)\n"
   ]
  },
  {
   "cell_type": "code",
   "execution_count": 130,
   "metadata": {},
   "outputs": [
    {
     "data": {
      "text/plain": [
       "21"
      ]
     },
     "execution_count": 130,
     "metadata": {},
     "output_type": "execute_result"
    }
   ],
   "source": [
    "list1 = [ 1, 2, 3, 4, 5, 6]\n",
    "list1[2] #3\n",
    "list1[-2] #5\n",
    "list1[1:3] #[2,3]\n",
    "len(list1)\n",
    "list1.index(5) #4\n",
    "max(list1)\n",
    "sum(list1)"
   ]
  },
  {
   "cell_type": "code",
   "execution_count": null,
   "metadata": {},
   "outputs": [],
   "source": [
    "2. list1 = [ 1, 2, 3, 4, 5, 6]과 같은 리스트가 있다고 하자. 다음 함수를 호출한 후의 리스트는 어떻게 될까? \n",
    "(1) list1.append(10)\n",
    "(2) list1.pop()\n",
    "(3) list1.insert(1, 20)\n"
   ]
  },
  {
   "cell_type": "code",
   "execution_count": 136,
   "metadata": {},
   "outputs": [
    {
     "data": {
      "text/plain": [
       "[1, 20, 2, 3, 4, 5, 6]"
      ]
     },
     "execution_count": 136,
     "metadata": {},
     "output_type": "execute_result"
    }
   ],
   "source": [
    "list1 = [ 1, 2, 3, 4, 5, 6]\n",
    "list1.append(10)\n",
    "list1\n",
    "list1.pop()\n",
    "list1\n",
    "list1.insert(1, 20)\n",
    "list1"
   ]
  },
  {
   "cell_type": "code",
   "execution_count": null,
   "metadata": {},
   "outputs": [],
   "source": [
    "3. list1 = [ 1, 2, 3 ]와 list2 =[ 4, 5, 6 ]가 있다고 하자. 다음 수식이 반환하는 값은 무엇인가? \n",
    "(1) list1 + list2 \n",
    "(2) list1 * 2\n",
    "(3) list1 == list2\n"
   ]
  },
  {
   "cell_type": "code",
   "execution_count": 149,
   "metadata": {},
   "outputs": [
    {
     "data": {
      "text/plain": [
       "[1, 2, 3]"
      ]
     },
     "execution_count": 149,
     "metadata": {},
     "output_type": "execute_result"
    }
   ],
   "source": [
    "list1 = [ 1, 2, 3 ]\n",
    "list2 =[ 4, 5, 6 ]\n",
    "list1 + list2 \n",
    "list2\n",
    "list1 * 2\n",
    "list1 == list2\n",
    "\n",
    "list3 = list1\n",
    "list3 == list1\n",
    "list4 = list1 + list2 \n",
    "list4\n",
    "del list1\n",
    "list4\n",
    "list3\n"
   ]
  },
  {
   "cell_type": "code",
   "execution_count": 153,
   "metadata": {},
   "outputs": [
    {
     "name": "stdout",
     "output_type": "stream",
     "text": [
      "1783228060808\n",
      "1783228220104\n",
      "1783228060808\n",
      "[2, 3]\n",
      "[2, 3]\n"
     ]
    }
   ],
   "source": [
    "list1 = [ 1, 2, 3 ]\n",
    "list2 =[ 4, 5, 6 ]\n",
    "list3 = list1\n",
    "print(id(list1))\n",
    "print(id(list2))\n",
    "print(id(list3))\n",
    "\n",
    "del list1[0]\n",
    "print(list1)\n",
    "print(list3)"
   ]
  },
  {
   "cell_type": "code",
   "execution_count": 154,
   "metadata": {},
   "outputs": [
    {
     "name": "stdout",
     "output_type": "stream",
     "text": [
      "정수를 입력하세요:10\n",
      "정수를 입력하세요:20\n",
      "정수를 입력하세요:30\n",
      "정수를 입력하세요:40\n",
      "정수를 입력하세요:50\n",
      "30.0\n"
     ]
    }
   ],
   "source": [
    "total = 0\n",
    "cnt = 5\n",
    "for i in range(cnt):\n",
    "    su = int(input(\"정수를 입력하세요:\"))\n",
    "    total += su\n",
    "avg =  total / cnt\n",
    "print(avg)\n",
    "\n",
    "\n",
    "#평균을 상화하는 숫자의 개수= 2\n"
   ]
  },
  {
   "cell_type": "code",
   "execution_count": 167,
   "metadata": {},
   "outputs": [
    {
     "name": "stdout",
     "output_type": "stream",
     "text": [
      "5개 정수를 입력하세요:10,20,30,40,50,60\n",
      "평균은  35.0\n",
      "[40, 50, 60]\n"
     ]
    },
    {
     "data": {
      "text/plain": [
       "3"
      ]
     },
     "execution_count": 167,
     "metadata": {},
     "output_type": "execute_result"
    }
   ],
   "source": [
    "alist = input(\"5개 정수를 입력하세요:\").split(\",\")\n",
    "blist = [int(su) for su in alist]\n",
    "avg = sum(blist) / len(blist)\n",
    "print(\"평균은 \", avg)\n",
    "print([su for su in blist if su > avg])\n",
    "len([su for su in blist if su > avg])"
   ]
  },
  {
   "cell_type": "code",
   "execution_count": null,
   "metadata": {},
   "outputs": [],
   "source": [
    "5. 정수 리스트를 읽어서 역순으로 반환하는 reverseList() 함수를 작성하고 이것을 이용하여서 정수 리스트를 \n",
    "역순으로 출력하는 프로그램을 작성해보자. "
   ]
  },
  {
   "cell_type": "code",
   "execution_count": 173,
   "metadata": {},
   "outputs": [],
   "source": [
    "def reverseList(alist):\n",
    "    blist=[]\n",
    "    for su in alist:\n",
    "        blist.insert(0, su)\n",
    "    return blist"
   ]
  },
  {
   "cell_type": "code",
   "execution_count": 179,
   "metadata": {},
   "outputs": [],
   "source": [
    "def reverseList(blist):\n",
    "    blist.reverse()"
   ]
  },
  {
   "cell_type": "code",
   "execution_count": 182,
   "metadata": {},
   "outputs": [],
   "source": [
    "def reverseList(blist):\n",
    "    return reversed(blist)"
   ]
  },
  {
   "cell_type": "code",
   "execution_count": 189,
   "metadata": {},
   "outputs": [
    {
     "data": {
      "text/plain": [
       "<list_reverseiterator at 0x19f30ae1320>"
      ]
     },
     "execution_count": 189,
     "metadata": {},
     "output_type": "execute_result"
    }
   ],
   "source": [
    "alist = [1,2,3,4,5]\n",
    "aa = reverseList(alist)\n",
    "list(aa)\n",
    "aa"
   ]
  },
  {
   "cell_type": "code",
   "execution_count": 187,
   "metadata": {},
   "outputs": [
    {
     "data": {
      "text/plain": [
       "[1, 2, 3, 4, 5]"
      ]
     },
     "execution_count": 187,
     "metadata": {},
     "output_type": "execute_result"
    }
   ],
   "source": [
    "alist"
   ]
  },
  {
   "cell_type": "code",
   "execution_count": 195,
   "metadata": {},
   "outputs": [
    {
     "data": {
      "text/plain": [
       "['썬', '이', '파']"
      ]
     },
     "execution_count": 195,
     "metadata": {},
     "output_type": "execute_result"
    }
   ],
   "source": [
    "a = \"파이썬\"\n",
    "tuple(reversed(a))\n",
    "list(reversed(a))"
   ]
  },
  {
   "cell_type": "code",
   "execution_count": 211,
   "metadata": {},
   "outputs": [
    {
     "name": "stdout",
     "output_type": "stream",
     "text": [
      "Requirement already satisfied: numpy in c:\\users\\user\\anaconda3\\envs\\encore\\lib\\site-packages (1.16.1)\n"
     ]
    }
   ],
   "source": [
    "!pip install numpy"
   ]
  },
  {
   "cell_type": "code",
   "execution_count": 214,
   "metadata": {},
   "outputs": [
    {
     "name": "stdout",
     "output_type": "stream",
     "text": [
      "정수 리스트 입력:10 20 30 40 50\n"
     ]
    },
    {
     "data": {
      "text/plain": [
       "14.142135623730951"
      ]
     },
     "execution_count": 214,
     "metadata": {},
     "output_type": "execute_result"
    }
   ],
   "source": [
    "#정수 리스트 입력: 10 20 30 40 50\n",
    "alist = input(\"정수 리스트 입력:\").split(\" \")\n",
    "blist = [int(su) for su in alist]\n",
    "sum(blist) / len(blist)\n",
    "\n",
    "import numpy\n",
    "numpy.std(blist)\n",
    "#평균= 30.0"
   ]
  },
  {
   "cell_type": "code",
   "execution_count": null,
   "metadata": {},
   "outputs": [],
   "source": []
  },
  {
   "cell_type": "code",
   "execution_count": null,
   "metadata": {},
   "outputs": [],
   "source": []
  },
  {
   "cell_type": "code",
   "execution_count": null,
   "metadata": {},
   "outputs": [],
   "source": []
  },
  {
   "cell_type": "code",
   "execution_count": null,
   "metadata": {},
   "outputs": [],
   "source": [
    "7. 주사위를 던져서 나오는 값들의 빈도를 계산하는 프로그램을 작성해보자. \n",
    "즉 1, 2, 3, 4, 5, 6의 값이 각각 몇 번이나 나오는지를 계산한다. \n",
    "난수 발생 함수와 리스트를 사용해보자. (1000번 던진다. )\n",
    "#random.randint(6)"
   ]
  },
  {
   "cell_type": "code",
   "execution_count": 221,
   "metadata": {},
   "outputs": [
    {
     "data": {
      "text/plain": [
       "[181, 151, 165, 167, 176, 160]"
      ]
     },
     "execution_count": 221,
     "metadata": {},
     "output_type": "execute_result"
    }
   ],
   "source": [
    "import random\n",
    "result_list = [0,0,0,0,0,0]\n",
    "\n",
    "for i in range(1000):\n",
    "    val = random.randint(1,6)\n",
    "    result_list[val-1] += 1\n",
    "result_list    "
   ]
  },
  {
   "cell_type": "code",
   "execution_count": 231,
   "metadata": {},
   "outputs": [
    {
     "data": {
      "text/plain": [
       "[151, 190, 160, 158, 177, 164]"
      ]
     },
     "execution_count": 231,
     "metadata": {},
     "output_type": "execute_result"
    }
   ],
   "source": [
    "a = [ random.randint(1,6) for i in range(1000)]\n",
    "\n",
    "[a.count(i) for i in range(1,7)]\n",
    "\n",
    "# for i in range(1,7):\n",
    "#     print(a.count(i))\n",
    "\n"
   ]
  },
  {
   "cell_type": "code",
   "execution_count": null,
   "metadata": {},
   "outputs": [],
   "source": []
  },
  {
   "cell_type": "code",
   "execution_count": null,
   "metadata": {},
   "outputs": [],
   "source": []
  },
  {
   "cell_type": "code",
   "execution_count": 196,
   "metadata": {},
   "outputs": [],
   "source": [
    "alist = [10,20,30,40,50]\n",
    "alist.reverse()"
   ]
  },
  {
   "cell_type": "code",
   "execution_count": 197,
   "metadata": {},
   "outputs": [
    {
     "data": {
      "text/plain": [
       "[50, 40, 30, 20, 10]"
      ]
     },
     "execution_count": 197,
     "metadata": {},
     "output_type": "execute_result"
    }
   ],
   "source": [
    "alist"
   ]
  },
  {
   "cell_type": "code",
   "execution_count": 234,
   "metadata": {},
   "outputs": [
    {
     "data": {
      "text/plain": [
       "['34', '56', '123', '2345']"
      ]
     },
     "execution_count": 234,
     "metadata": {},
     "output_type": "execute_result"
    }
   ],
   "source": [
    "alist = [\"123\",\"34\",\"56\",\"2345\"]\n",
    "alist.sort(key=int)\n",
    "alist"
   ]
  },
  {
   "cell_type": "code",
   "execution_count": 239,
   "metadata": {},
   "outputs": [
    {
     "data": {
      "text/plain": [
       "[6, 3, 9, 6, 4, 7, 2, 8, 5]"
      ]
     },
     "execution_count": 239,
     "metadata": {},
     "output_type": "execute_result"
    }
   ],
   "source": [
    "alist = [2,6,8,3,9,5,6,4,7]\n",
    "alist.sort(key=lambda x:x%3)\n",
    "alist"
   ]
  },
  {
   "cell_type": "code",
   "execution_count": 236,
   "metadata": {},
   "outputs": [],
   "source": [
    "def f(x):\n",
    "    return x % 3"
   ]
  },
  {
   "cell_type": "code",
   "execution_count": 242,
   "metadata": {},
   "outputs": [],
   "source": [
    "alist = [(\"lee\", 100),(\"yang\", 90),(\"kim\", 95),(\"jeoung\", 88)]"
   ]
  },
  {
   "cell_type": "code",
   "execution_count": 245,
   "metadata": {},
   "outputs": [
    {
     "data": {
      "text/plain": [
       "[('lee', 100), ('kim', 95), ('yang', 90), ('jeoung', 88)]"
      ]
     },
     "execution_count": 245,
     "metadata": {},
     "output_type": "execute_result"
    }
   ],
   "source": [
    "alist.sort(key=lambda x:x[1], reverse=True)\n",
    "alist"
   ]
  },
  {
   "cell_type": "code",
   "execution_count": 240,
   "metadata": {},
   "outputs": [
    {
     "data": {
      "text/plain": [
       "'lee'"
      ]
     },
     "execution_count": 240,
     "metadata": {},
     "output_type": "execute_result"
    }
   ],
   "source": [
    "atuple = (\"lee\", 100)\n",
    "atuple[0]"
   ]
  },
  {
   "cell_type": "code",
   "execution_count": 249,
   "metadata": {},
   "outputs": [
    {
     "data": {
      "text/plain": [
       "[(4, 3), (8, 6)]"
      ]
     },
     "execution_count": 249,
     "metadata": {},
     "output_type": "execute_result"
    }
   ],
   "source": [
    "#1~10까지의 2배수를 리스트로 만들기 \n",
    "#2의 배수와 3의 배수의 합계가 7의 배수인 것만 리스트로 만들기 \n",
    "[(su,su2) for su in range(2,11,2) for su2 in range(3,11,3) if (su+su2)%7==0]"
   ]
  },
  {
   "cell_type": "code",
   "execution_count": 251,
   "metadata": {},
   "outputs": [
    {
     "data": {
      "text/plain": [
       "[4, 6, 8, 10, 12, 14, 16, 18, 20]"
      ]
     },
     "execution_count": 251,
     "metadata": {},
     "output_type": "execute_result"
    }
   ],
   "source": [
    "[su*2 for su in range(2,11)] "
   ]
  },
  {
   "cell_type": "code",
   "execution_count": 250,
   "metadata": {},
   "outputs": [
    {
     "data": {
      "text/plain": [
       "[(2, 3),\n",
       " (2, 6),\n",
       " (2, 9),\n",
       " (4, 3),\n",
       " (4, 6),\n",
       " (4, 9),\n",
       " (6, 3),\n",
       " (6, 6),\n",
       " (6, 9),\n",
       " (8, 3),\n",
       " (8, 6),\n",
       " (8, 9),\n",
       " (10, 3),\n",
       " (10, 6),\n",
       " (10, 9)]"
      ]
     },
     "execution_count": 250,
     "metadata": {},
     "output_type": "execute_result"
    }
   ],
   "source": [
    "[(su*2,su2) for su in range(2,11,2) for su2 in range(3,11,3) ]"
   ]
  },
  {
   "cell_type": "code",
   "execution_count": 247,
   "metadata": {},
   "outputs": [
    {
     "name": "stdout",
     "output_type": "stream",
     "text": [
      "4 3\n",
      "8 6\n"
     ]
    }
   ],
   "source": [
    "for su in range(2,11,2):\n",
    "    for su2 in range(3,11,3):\n",
    "        if (su+su2)%7==0:\n",
    "            print(su, su2)"
   ]
  },
  {
   "cell_type": "code",
   "execution_count": 252,
   "metadata": {},
   "outputs": [
    {
     "data": {
      "text/plain": [
       "['a', 'b', 'c', 'd']"
      ]
     },
     "execution_count": 252,
     "metadata": {},
     "output_type": "execute_result"
    }
   ],
   "source": [
    "seq1 = \"abcd\"\n",
    "list(seq1)"
   ]
  },
  {
   "cell_type": "code",
   "execution_count": 254,
   "metadata": {},
   "outputs": [
    {
     "data": {
      "text/plain": [
       "(1, 2, 3, 4)"
      ]
     },
     "execution_count": 254,
     "metadata": {},
     "output_type": "execute_result"
    }
   ],
   "source": [
    "seq2 = (1,2,3,4)\n",
    "seq2"
   ]
  },
  {
   "cell_type": "code",
   "execution_count": 261,
   "metadata": {},
   "outputs": [
    {
     "data": {
      "text/plain": [
       "{'a': 1, 'b': 2, 'c': 3, 'd': 4}"
      ]
     },
     "execution_count": 261,
     "metadata": {},
     "output_type": "execute_result"
    }
   ],
   "source": [
    "[(x,y) for x in seq1 for y in seq2] #모든조합 \n",
    "\n",
    "#zip : 같은인덱스끼리 \n",
    "list(zip(seq1, seq2))\n",
    "tuple(zip(seq1, seq2))\n",
    "dict(zip(seq1, seq2))"
   ]
  },
  {
   "cell_type": "code",
   "execution_count": null,
   "metadata": {},
   "outputs": [],
   "source": [
    "row : 0~3\n",
    "col: 0~3\n"
   ]
  },
  {
   "cell_type": "code",
   "execution_count": 263,
   "metadata": {},
   "outputs": [
    {
     "name": "stdout",
     "output_type": "stream",
     "text": [
      "1 0 0 \n",
      "0 1 0 \n",
      "0 0 1 \n"
     ]
    }
   ],
   "source": [
    "for row in range(3):\n",
    "    for col in range(3):\n",
    "        if row == col:\n",
    "            print(1,end=\" \")\n",
    "        else:\n",
    "            print(0,end=\" \")\n",
    "    print()"
   ]
  },
  {
   "cell_type": "code",
   "execution_count": 288,
   "metadata": {},
   "outputs": [
    {
     "data": {
      "text/plain": [
       "[[1, 0, 0], [0, 1, 0], [0, 0, 1], [0, 0, 0], [0, 0, 0]]"
      ]
     },
     "execution_count": 288,
     "metadata": {},
     "output_type": "execute_result"
    }
   ],
   "source": [
    "[ [ 1 if row == col else 0 for col in range(3)] for row in range(5) ]"
   ]
  },
  {
   "cell_type": "code",
   "execution_count": 265,
   "metadata": {},
   "outputs": [
    {
     "data": {
      "text/plain": [
       "[[1, 0, 0], [0, 1, 0], [0, 0, 1]]"
      ]
     },
     "execution_count": 265,
     "metadata": {},
     "output_type": "execute_result"
    }
   ],
   "source": [
    "[[1 if row == col else 0 for col in range(3)] for row in range(3)]"
   ]
  },
  {
   "cell_type": "markdown",
   "metadata": {},
   "source": [
    "# tuple"
   ]
  },
  {
   "cell_type": "code",
   "execution_count": 307,
   "metadata": {},
   "outputs": [
    {
     "data": {
      "text/plain": [
       "True"
      ]
     },
     "execution_count": 307,
     "metadata": {},
     "output_type": "execute_result"
    }
   ],
   "source": [
    "t = ()\n",
    "t=1,\n",
    "t = 1,2,3\n",
    "t = 1,2,3,\n",
    "t = (1,2,3,4,)\n",
    "type(t)\n",
    "t\n",
    "t[0]\n",
    "#t[0] = 99\n",
    "#del t[0]\n",
    "t + (5,6,7) #결합\n",
    "t * 2 #반복 \n",
    "t[0:3]\n",
    "len(t)\n",
    "9 in t\n",
    "3 in t"
   ]
  },
  {
   "cell_type": "code",
   "execution_count": 313,
   "metadata": {},
   "outputs": [
    {
     "data": {
      "text/plain": [
       "7"
      ]
     },
     "execution_count": 313,
     "metadata": {},
     "output_type": "execute_result"
    }
   ],
   "source": [
    "t = (1,2,3,4,1,2,3,2,2,2)\n",
    "t.count(2)\n",
    "t.index(2, 6)"
   ]
  },
  {
   "cell_type": "code",
   "execution_count": 316,
   "metadata": {},
   "outputs": [
    {
     "data": {
      "text/plain": [
       "((12345, 'Hello'), (1, 2, 3, 4))"
      ]
     },
     "execution_count": 316,
     "metadata": {},
     "output_type": "execute_result"
    }
   ],
   "source": [
    "t = (12345, \"Hello\")\n",
    "t2 = t, (1,2,3,4)\n",
    "t2 = (t, (1,2,3,4))\n",
    "t2"
   ]
  },
  {
   "cell_type": "code",
   "execution_count": 317,
   "metadata": {},
   "outputs": [
    {
     "name": "stdout",
     "output_type": "stream",
     "text": [
      "10 20 30\n"
     ]
    }
   ],
   "source": [
    "x, y, z = 10,20,30\n",
    "print(x, y, z)"
   ]
  },
  {
   "cell_type": "code",
   "execution_count": 320,
   "metadata": {},
   "outputs": [
    {
     "name": "stdout",
     "output_type": "stream",
     "text": [
      "(1, 2)\n",
      "(3, 4)\n"
     ]
    }
   ],
   "source": [
    "a, b = (1,2),(3,4)\n",
    "print(a)\n",
    "print(b)"
   ]
  },
  {
   "cell_type": "code",
   "execution_count": 321,
   "metadata": {},
   "outputs": [
    {
     "name": "stdout",
     "output_type": "stream",
     "text": [
      "1\n",
      "2\n",
      "3\n",
      "4\n"
     ]
    }
   ],
   "source": [
    "(x,y), (b1, b2) = (1,2),(3,4)\n",
    "print(x)\n",
    "print(y)\n",
    "print(b1)\n",
    "print(b2)"
   ]
  },
  {
   "cell_type": "code",
   "execution_count": 324,
   "metadata": {},
   "outputs": [
    {
     "name": "stdout",
     "output_type": "stream",
     "text": [
      "3\n",
      "1\n"
     ]
    }
   ],
   "source": [
    "a = divmod(10,3)\n",
    "type(a)\n",
    "mok, na = divmod(10,3)\n",
    "print(mok)\n",
    "print(na)"
   ]
  },
  {
   "cell_type": "code",
   "execution_count": 326,
   "metadata": {},
   "outputs": [],
   "source": [
    "import time\n",
    "\n",
    "def gettime():\n",
    "    #시간, 분\n",
    "    now = time.localtime()\n",
    "    return now.tm_hour, now.tm_min"
   ]
  },
  {
   "cell_type": "code",
   "execution_count": 327,
   "metadata": {},
   "outputs": [
    {
     "name": "stdout",
     "output_type": "stream",
     "text": [
      "14 시 28 분\n"
     ]
    }
   ],
   "source": [
    "h, m = gettime()\n",
    "print(h, \"시\", m, \"분\")"
   ]
  },
  {
   "cell_type": "code",
   "execution_count": 328,
   "metadata": {},
   "outputs": [
    {
     "name": "stdout",
     "output_type": "stream",
     "text": [
      "14 시 29 분\n"
     ]
    }
   ],
   "source": [
    "hm = gettime()\n",
    "print(hm[0], \"시\", hm[1], \"분\")"
   ]
  },
  {
   "cell_type": "code",
   "execution_count": 329,
   "metadata": {},
   "outputs": [
    {
     "data": {
      "text/plain": [
       "(12345, 'Hello', 5, 6, 7)"
      ]
     },
     "execution_count": 329,
     "metadata": {},
     "output_type": "execute_result"
    }
   ],
   "source": [
    "t = t + (5,6,7) #결합\n",
    "t"
   ]
  },
  {
   "cell_type": "code",
   "execution_count": 330,
   "metadata": {},
   "outputs": [],
   "source": [
    "def calc(*args):\n",
    "    a,b = args\n",
    "    return a+b, a*b"
   ]
  },
  {
   "cell_type": "code",
   "execution_count": 338,
   "metadata": {},
   "outputs": [
    {
     "data": {
      "text/plain": [
       "(tuple, 7, 12)"
      ]
     },
     "execution_count": 338,
     "metadata": {},
     "output_type": "execute_result"
    }
   ],
   "source": [
    "data = (3,4)\n",
    "ret = calc(*data)\n",
    "ret = calc(*(3,4))\n",
    "type(ret), ret[0], ret[1]"
   ]
  },
  {
   "cell_type": "code",
   "execution_count": null,
   "metadata": {},
   "outputs": [],
   "source": [
    "#패킹....변수하나에 값 여러개 \n",
    "#언패킹 ......하나의 변수에서 여러개의 값을 꺼내오는것 "
   ]
  },
  {
   "cell_type": "code",
   "execution_count": 339,
   "metadata": {},
   "outputs": [],
   "source": [
    "t = 100, \"파이썬\", True\n",
    "a,b,c = t"
   ]
  },
  {
   "cell_type": "code",
   "execution_count": 342,
   "metadata": {},
   "outputs": [
    {
     "name": "stdout",
     "output_type": "stream",
     "text": [
      "1\n",
      "파이썬\n"
     ]
    }
   ],
   "source": [
    "alist = [1,2,3,4,\"파이썬\"]\n",
    "a,b,c,d,e = alist\n",
    "print(a)\n",
    "print(e)"
   ]
  },
  {
   "cell_type": "code",
   "execution_count": 348,
   "metadata": {},
   "outputs": [
    {
     "name": "stdout",
     "output_type": "stream",
     "text": [
      "1 <class 'int'> [2, 3, 4, 5] <class 'list'> (1, 2, 3, 4, 5) <class 'tuple'>\n",
      "[1, 2, 3, 4] <class 'list'> 5 <class 'int'> (1, 2, 3, 4, 5) <class 'tuple'>\n",
      "1 <class 'int'> 2 <class 'int'> [3, 4, 5] <class 'list'> (1, 2, 3, 4, 5) <class 'tuple'>\n"
     ]
    }
   ],
   "source": [
    "t = (1,2,3,4,5)\n",
    "a, *b = t\n",
    "print(a, type(a), b, type(b), t, type(t))\n",
    "\n",
    "*a, b = t\n",
    "print(a, type(a), b, type(b), t, type(t))\n",
    "\n",
    "\n",
    "a, b, *c = t\n",
    "print(a, type(a), b, type(b), c, type(c),t, type(t))\n"
   ]
  },
  {
   "cell_type": "code",
   "execution_count": 350,
   "metadata": {},
   "outputs": [
    {
     "data": {
      "text/plain": [
       "(1, 2, 3, 4, 5)"
      ]
     },
     "execution_count": 350,
     "metadata": {},
     "output_type": "execute_result"
    }
   ],
   "source": [
    "t = (1,2,3,4,5)\n",
    "alist = [1,2,3,4,5]\n",
    "list(t)\n",
    "tuple(t)"
   ]
  },
  {
   "cell_type": "code",
   "execution_count": 386,
   "metadata": {},
   "outputs": [
    {
     "name": "stdout",
     "output_type": "stream",
     "text": [
      "1\n",
      "2\n",
      "10\n",
      "20\n"
     ]
    }
   ],
   "source": [
    "#이름이 있는 튜플\n",
    "from collections import namedtuple\n",
    "aa = namedtuple(\"PP\", \"x y\")\n",
    "\n",
    "p1 = PP(1,2)\n",
    "print(p1.x)\n",
    "print(p1.y)\n",
    "\n",
    "\n",
    "p2 = PP(10,20)\n",
    "print(p2.x)\n",
    "print(p2.y)\n",
    "\n"
   ]
  },
  {
   "cell_type": "code",
   "execution_count": 370,
   "metadata": {},
   "outputs": [
    {
     "name": "stdout",
     "output_type": "stream",
     "text": [
      "파이썬입니다.10----20\n",
      "파이썬입니다.AA----20\n"
     ]
    }
   ],
   "source": [
    "print(\"파이썬입니다.{0}----{1}\".format(10,20))\n",
    "print(\"파이썬입니다.{name}----{age}\".format(name=\"AA\",age=20))"
   ]
  },
  {
   "cell_type": "code",
   "execution_count": 371,
   "metadata": {},
   "outputs": [
    {
     "data": {
      "text/plain": [
       "3"
      ]
     },
     "execution_count": 371,
     "metadata": {},
     "output_type": "execute_result"
    }
   ],
   "source": [
    "a = (1,2,3,4)\n",
    "a[2]"
   ]
  },
  {
   "cell_type": "code",
   "execution_count": 392,
   "metadata": {},
   "outputs": [
    {
     "name": "stdout",
     "output_type": "stream",
     "text": [
      "C:\\mynote\\day03.ipynb\n"
     ]
    },
    {
     "data": {
      "text/plain": [
       "('day03', '.ipynb')"
      ]
     },
     "execution_count": 392,
     "metadata": {},
     "output_type": "execute_result"
    }
   ],
   "source": [
    "import os\n",
    "fname = \"day03.ipynb\"\n",
    "#fname=\"c:\\workspace\\jsoup-1.11.3.jar\"\n",
    "print(os.path.abspath(fname))\n",
    "os.path.exists(fname)\n",
    "os.path.getsize(fname)\n",
    "######################################\n",
    "os.path.split(fname)#폴더, 파일이름분리 \n",
    "type(os.path.split(fname)) \n",
    "os.path.splitext(fname) #확장명 과 분리 "
   ]
  },
  {
   "cell_type": "code",
   "execution_count": null,
   "metadata": {},
   "outputs": [],
   "source": []
  },
  {
   "cell_type": "code",
   "execution_count": null,
   "metadata": {},
   "outputs": [],
   "source": []
  },
  {
   "cell_type": "code",
   "execution_count": null,
   "metadata": {},
   "outputs": [],
   "source": []
  }
 ],
 "metadata": {
  "kernelspec": {
   "display_name": "encore3.6",
   "language": "python",
   "name": "encore"
  },
  "language_info": {
   "codemirror_mode": {
    "name": "ipython",
    "version": 3
   },
   "file_extension": ".py",
   "mimetype": "text/x-python",
   "name": "python",
   "nbconvert_exporter": "python",
   "pygments_lexer": "ipython3",
   "version": "3.6.8"
  }
 },
 "nbformat": 4,
 "nbformat_minor": 2
}
