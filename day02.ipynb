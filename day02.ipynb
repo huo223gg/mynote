{
 "cells": [
  {
   "cell_type": "code",
   "execution_count": null,
   "metadata": {},
   "outputs": [],
   "source": [
    "#review"
   ]
  },
  {
   "cell_type": "code",
   "execution_count": 5,
   "metadata": {},
   "outputs": [
    {
     "name": "stdout",
     "output_type": "stream",
     "text": [
      "10 파이썬 True [1, 2, 3, 4, 5] (1, 2, 3, 4, 5) {'name': '엔코아', 'address': '교대역'}\n",
      "<class 'int'> <class 'str'> <class 'bool'> <class 'list'> <class 'tuple'> <class 'dict'>\n"
     ]
    }
   ],
   "source": [
    "a=10\n",
    "b=\"파이썬\"\n",
    "c=True\n",
    "d=[1,2,3,4,5]\n",
    "e=(1,2,3,4,5)\n",
    "f={\"name\":\"엔코아\", \"address\":\"교대역\"}\n",
    "print(a,b,c,d,e,f)\n",
    "print(type(a),type(b),type(c),type(d),type(e),type(f))"
   ]
  },
  {
   "cell_type": "code",
   "execution_count": 21,
   "metadata": {},
   "outputs": [],
   "source": [
    "def f1():\n",
    "    print(\"return없는 함수\")\n",
    "    \n",
    "def f2():\n",
    "    print(\"return있는 함수\")    \n",
    "    return 10\n",
    "\n",
    "def f3(p1):\n",
    "    print(\"parameter있는 함수\")    \n",
    "    return 10 + p1\n",
    "\n",
    "def f4(p1, p2=20):\n",
    "    print(\"parameter가 default가 있는 함수\")    \n",
    "    return 10 + p1 + p2\n",
    "\n",
    "def f5(p1, *p2):\n",
    "    print(\"parameter가 여러개 있는 함수\")    \n",
    "    total = 0\n",
    "    for item in p2:\n",
    "        total += item\n",
    "    return total + p1     \n"
   ]
  },
  {
   "cell_type": "code",
   "execution_count": 23,
   "metadata": {},
   "outputs": [
    {
     "name": "stdout",
     "output_type": "stream",
     "text": [
      "return없는 함수\n",
      "None \n",
      "\n",
      "return있는 함수\n",
      "10 \n",
      "\n",
      "parameter있는 함수\n",
      "30 \n",
      "\n",
      "parameter가 default가 있는 함수\n",
      "50 \n",
      "\n",
      "parameter가 default가 있는 함수\n",
      "60 \n",
      "\n",
      "parameter가 여러개 있는 함수\n",
      "25 \n",
      "\n",
      "parameter가 여러개 있는 함수\n",
      "25 \n",
      "\n"
     ]
    }
   ],
   "source": [
    "a = f1()\n",
    "print(a, \"\\n\")\n",
    "\n",
    "a = f2()\n",
    "print(a, \"\\n\")\n",
    "\n",
    "a = f3(20)\n",
    "print(a, \"\\n\")\n",
    "\n",
    "\n",
    "a = f4(20)\n",
    "print(a, \"\\n\")\n",
    "\n",
    "a = f4(20, 30)\n",
    "print(a, \"\\n\")\n",
    "\n",
    "\n",
    "alist = [1,2,3,4,5]\n",
    "blist = (1,2,3,4,5)\n",
    "a = f5(10, *[1,2,3,4,5])\n",
    "print(a, \"\\n\")\n",
    "a = f5(10, *(1,2,3,4,5))\n",
    "print(a, \"\\n\")"
   ]
  },
  {
   "cell_type": "code",
   "execution_count": 31,
   "metadata": {},
   "outputs": [],
   "source": [
    "def f8(**person):\n",
    "    print(\"parameter의 형태가 키:값의 형태\")\n",
    "    for key, val in person.items():\n",
    "        print(key, val, sep=\"->\")\n",
    "    "
   ]
  },
  {
   "cell_type": "code",
   "execution_count": 34,
   "metadata": {},
   "outputs": [],
   "source": [
    "def f7(name, age, job):\n",
    "    print(name, age, job)\n",
    "    \n",
    "    "
   ]
  },
  {
   "cell_type": "code",
   "execution_count": 35,
   "metadata": {},
   "outputs": [
    {
     "name": "stdout",
     "output_type": "stream",
     "text": [
      "송혜교 20 연예인\n",
      "송혜교 20 연예인\n",
      "parameter의 형태가 키:값의 형태\n",
      "name->송혜교\n",
      "age->30\n",
      "job->학생\n"
     ]
    }
   ],
   "source": [
    "f7(\"송혜교\", 20, \"연예인\")\n",
    "f7(job=\"연예인\", name=\"송혜교\", age=20)\n",
    "\n",
    "a = { \"name\":\"송혜교\", \"age\":30, \"job\":\"학생\" }\n",
    "f8(**a)"
   ]
  },
  {
   "cell_type": "code",
   "execution_count": null,
   "metadata": {},
   "outputs": [],
   "source": [
    "#재귀함수 "
   ]
  },
  {
   "cell_type": "code",
   "execution_count": 41,
   "metadata": {},
   "outputs": [],
   "source": [
    "def mypint(n):\n",
    "    if n == 0: \n",
    "        return\n",
    "    print(\"파이썬\", n)\n",
    "    mypint(n-1)"
   ]
  },
  {
   "cell_type": "code",
   "execution_count": 42,
   "metadata": {},
   "outputs": [
    {
     "name": "stdout",
     "output_type": "stream",
     "text": [
      "파이썬 5\n",
      "파이썬 4\n",
      "파이썬 3\n",
      "파이썬 2\n",
      "파이썬 1\n"
     ]
    }
   ],
   "source": [
    "mypint(5)"
   ]
  },
  {
   "cell_type": "code",
   "execution_count": 47,
   "metadata": {},
   "outputs": [],
   "source": [
    "def myfact(n):\n",
    "    print(n, end=\"*\")\n",
    "    if n == 1:\n",
    "        return 1\n",
    "    \n",
    "    return n * myfact(n-1)"
   ]
  },
  {
   "cell_type": "code",
   "execution_count": 48,
   "metadata": {},
   "outputs": [
    {
     "name": "stdout",
     "output_type": "stream",
     "text": [
      "5*4*3*2*1*"
     ]
    },
    {
     "data": {
      "text/plain": [
       "120"
      ]
     },
     "execution_count": 48,
     "metadata": {},
     "output_type": "execute_result"
    }
   ],
   "source": [
    "myfact(5)"
   ]
  },
  {
   "cell_type": "code",
   "execution_count": 49,
   "metadata": {},
   "outputs": [],
   "source": [
    "def f1(x):\n",
    "    return x+10"
   ]
  },
  {
   "cell_type": "code",
   "execution_count": 50,
   "metadata": {},
   "outputs": [
    {
     "data": {
      "text/plain": [
       "11"
      ]
     },
     "execution_count": 50,
     "metadata": {},
     "output_type": "execute_result"
    }
   ],
   "source": [
    "f1(1)"
   ]
  },
  {
   "cell_type": "code",
   "execution_count": 54,
   "metadata": {},
   "outputs": [
    {
     "name": "stdout",
     "output_type": "stream",
     "text": [
      "<function <lambda> at 0x0000020AFBF67950> <class 'function'>\n"
     ]
    }
   ],
   "source": [
    "f2 = lambda x : x + 10 \n",
    "print(f2, type(f2))"
   ]
  },
  {
   "cell_type": "code",
   "execution_count": 53,
   "metadata": {},
   "outputs": [
    {
     "data": {
      "text/plain": [
       "12"
      ]
     },
     "execution_count": 53,
     "metadata": {},
     "output_type": "execute_result"
    }
   ],
   "source": [
    "f2(2)\n",
    "(lambda x : x + 10 )(2)"
   ]
  },
  {
   "cell_type": "code",
   "execution_count": 63,
   "metadata": {},
   "outputs": [
    {
     "data": {
      "text/plain": [
       "[11, 12, 13]"
      ]
     },
     "execution_count": 63,
     "metadata": {},
     "output_type": "execute_result"
    }
   ],
   "source": [
    "f = lambda x : x+10\n",
    "list(map(lambda x : x+10, [1,2,3]))"
   ]
  },
  {
   "cell_type": "code",
   "execution_count": 66,
   "metadata": {},
   "outputs": [
    {
     "data": {
      "text/plain": [
       "[7, 9, 11, 13, 15]"
      ]
     },
     "execution_count": 66,
     "metadata": {},
     "output_type": "execute_result"
    }
   ],
   "source": [
    "a = [1,2,3,4,5]\n",
    "b = [6,7,8,9,10]\n",
    "f = lambda x,y : x+y\n",
    "list(map(f, a , b))"
   ]
  },
  {
   "cell_type": "code",
   "execution_count": 69,
   "metadata": {},
   "outputs": [
    {
     "data": {
      "text/plain": [
       "[7, 9, 11, 13, 15]"
      ]
     },
     "execution_count": 69,
     "metadata": {},
     "output_type": "execute_result"
    }
   ],
   "source": [
    "import operator\n",
    "type(operator.add)\n",
    "\n",
    "list(map(operator.add, a , b))"
   ]
  },
  {
   "cell_type": "code",
   "execution_count": 70,
   "metadata": {},
   "outputs": [],
   "source": [
    "def f(x):\n",
    "    if x % 3 == 0:\n",
    "        return str(x)\n",
    "    else:\n",
    "        return x\n",
    "        "
   ]
  },
  {
   "cell_type": "code",
   "execution_count": 79,
   "metadata": {},
   "outputs": [],
   "source": [
    "f = lambda x : str(x) if x % 3 == 0 else x+90 "
   ]
  },
  {
   "cell_type": "code",
   "execution_count": 74,
   "metadata": {},
   "outputs": [
    {
     "data": {
      "text/plain": [
       "'6'"
      ]
     },
     "execution_count": 74,
     "metadata": {},
     "output_type": "execute_result"
    }
   ],
   "source": [
    "f(6)"
   ]
  },
  {
   "cell_type": "code",
   "execution_count": 81,
   "metadata": {},
   "outputs": [
    {
     "data": {
      "text/plain": [
       "[91, 92, '3', 94, 95, '6', 97, 98, '9', 100]"
      ]
     },
     "execution_count": 81,
     "metadata": {},
     "output_type": "execute_result"
    }
   ],
   "source": [
    "alist = [1,2,3,4,5,6,7,8,9,10]\n",
    "blist = range(1,11)\n",
    "list(map( f, blist))"
   ]
  },
  {
   "cell_type": "code",
   "execution_count": null,
   "metadata": {},
   "outputs": [],
   "source": [
    "def f(x):\n",
    "    if x ==1:\n",
    "        return str(x)\n",
    "    elif x == 2:\n",
    "        return float(x)\n",
    "    else:\n",
    "        return x"
   ]
  },
  {
   "cell_type": "code",
   "execution_count": 90,
   "metadata": {},
   "outputs": [
    {
     "data": {
      "text/plain": [
       "['1', 2.0, 3, 4, 5, 6, 7, 8, 9, 10]"
      ]
     },
     "execution_count": 90,
     "metadata": {},
     "output_type": "execute_result"
    }
   ],
   "source": [
    "f = lambda x : str(x) if x ==1  else float(x)   if x == 2 else  x\n",
    "f(1)\n",
    "f(2)\n",
    "f(3)\n",
    "list(map(f, alist))"
   ]
  },
  {
   "cell_type": "code",
   "execution_count": 96,
   "metadata": {},
   "outputs": [
    {
     "data": {
      "text/plain": [
       "[11, 22, 90, 160, 250, 66, 77, 88, 99, 110]"
      ]
     },
     "execution_count": 96,
     "metadata": {},
     "output_type": "execute_result"
    }
   ],
   "source": [
    "alist = [1,2,3,4,5,6,7,8,9,10]\n",
    "blist = range(10,101,10)\n",
    "f = lambda x, y : x*y if x >=3 and x<=5  else x+y\n",
    "list(map(f, alist, blist))"
   ]
  },
  {
   "cell_type": "code",
   "execution_count": 101,
   "metadata": {},
   "outputs": [
    {
     "data": {
      "text/plain": [
       "[5, 6, 7, 8, 9, 10]"
      ]
     },
     "execution_count": 101,
     "metadata": {},
     "output_type": "execute_result"
    }
   ],
   "source": [
    "alist = [1,2,3,4,5,6,7,8,9,10]\n",
    "# for i in alist:\n",
    "#     if i>=5:\n",
    "#         print(i)\n",
    "\n",
    "[i for i in alist if i>=5]\n",
    "list(i for i in alist if i>=5)"
   ]
  },
  {
   "cell_type": "code",
   "execution_count": 105,
   "metadata": {},
   "outputs": [
    {
     "data": {
      "text/plain": [
       "[5, 6, 7, 8, 9, 10]"
      ]
     },
     "execution_count": 105,
     "metadata": {},
     "output_type": "execute_result"
    }
   ],
   "source": [
    "list(filter(lambda x : x>=5, alist))"
   ]
  },
  {
   "cell_type": "code",
   "execution_count": null,
   "metadata": {},
   "outputs": [],
   "source": [
    "#5<= <=8"
   ]
  },
  {
   "cell_type": "code",
   "execution_count": 107,
   "metadata": {},
   "outputs": [
    {
     "data": {
      "text/plain": [
       "[5, 6, 7, 8]"
      ]
     },
     "execution_count": 107,
     "metadata": {},
     "output_type": "execute_result"
    }
   ],
   "source": [
    "list(filter( lambda x : x>=5 and x<=8 , alist))"
   ]
  },
  {
   "cell_type": "code",
   "execution_count": null,
   "metadata": {},
   "outputs": [],
   "source": [
    "import functools\n",
    "functools.reduce"
   ]
  },
  {
   "cell_type": "code",
   "execution_count": 112,
   "metadata": {},
   "outputs": [
    {
     "data": {
      "text/plain": [
       "36288000000000000"
      ]
     },
     "execution_count": 112,
     "metadata": {},
     "output_type": "execute_result"
    }
   ],
   "source": [
    "alist = [10,20,30,40,50,60,70,80,90,100]\n",
    "from functools import reduce\n",
    "f = lambda x,y : x*y\n",
    "reduce(f,alist)"
   ]
  },
  {
   "cell_type": "code",
   "execution_count": 115,
   "metadata": {},
   "outputs": [
    {
     "name": "stdout",
     "output_type": "stream",
     "text": [
      "함수밖에서: 1000\n",
      "함수내에서: 500\n",
      "함수밖에서: 1000\n"
     ]
    }
   ],
   "source": [
    "price=1000\n",
    "def f():\n",
    "    price=500  #지역변수 \n",
    "    print(\"함수내에서:\", price)\n",
    "    \n",
    "print(\"함수밖에서:\", price)\n",
    "f()\n",
    "print(\"함수밖에서:\", price)"
   ]
  },
  {
   "cell_type": "code",
   "execution_count": 138,
   "metadata": {},
   "outputs": [
    {
     "name": "stdout",
     "output_type": "stream",
     "text": [
      "함수밖에서: 1000\n",
      "함수내에서: 500\n",
      "함수내에서:localval2= 200\n",
      "inner Function:a= 10\n",
      "inner Function:price= 500\n",
      "inner Function:localval2= 300\n",
      " 함수 호출후 .....localval2= 300\n",
      "함수밖에서: 500\n"
     ]
    }
   ],
   "source": [
    "a=10\n",
    "b=True\n",
    "price=1000\n",
    "def f(param1, param2):\n",
    "    \"함수에 대한 설명입니다.......이 함수는 ~~~~~\"\n",
    "    global price\n",
    "    price=500  #전역변수 \n",
    "    localval = 100\n",
    "    localval2 = 200\n",
    "    print(\"함수내에서:\", price)\n",
    "    print(\"함수내에서:localval2=\", localval2) #200\n",
    "    def innerF():\n",
    "        a=10\n",
    "        nonlocal localval2 #함수밖의 변수이다..\n",
    "        localval2 = 300\n",
    "        print(\"inner Function:a=\" , a )\n",
    "        print(\"inner Function:price=\" , price )\n",
    "        print(\"inner Function:localval2=\" , localval2 )#300\n",
    "        \n",
    "    innerF()\n",
    "    print(\" 함수 호출후 .....localval2=\", localval2)#300\n",
    "    \n",
    "    \n",
    "print(\"함수밖에서:\", price)\n",
    "f(10,20)\n",
    "print(\"함수밖에서:\", price)"
   ]
  },
  {
   "cell_type": "code",
   "execution_count": 135,
   "metadata": {},
   "outputs": [
    {
     "name": "stdout",
     "output_type": "stream",
     "text": [
      "함수에 대한 설명입니다.......이 함수는 ~~~~~\n",
      "f\n",
      "<code object f at 0x0000020AFC081930, file \"<ipython-input-132-3a90bbade8a9>\", line 4>\n",
      "f\n",
      "2\n",
      "('param1', 'param2', 'localval', 'localval2')\n",
      "4\n"
     ]
    }
   ],
   "source": [
    "print(f.__doc__)\n",
    "print(f.__name__)\n",
    "code = f.__code__\n",
    "print(code)\n",
    "print(code.co_name)#함수이름 \n",
    "print(code.co_argcount) #\n",
    "print(code.co_varnames) #\n",
    "print(code.co_nlocals) #"
   ]
  },
  {
   "cell_type": "code",
   "execution_count": 125,
   "metadata": {},
   "outputs": [
    {
     "data": {
      "text/plain": [
       "['__annotations__',\n",
       " '__call__',\n",
       " '__class__',\n",
       " '__closure__',\n",
       " '__code__',\n",
       " '__defaults__',\n",
       " '__delattr__',\n",
       " '__dict__',\n",
       " '__dir__',\n",
       " '__doc__',\n",
       " '__eq__',\n",
       " '__format__',\n",
       " '__ge__',\n",
       " '__get__',\n",
       " '__getattribute__',\n",
       " '__globals__',\n",
       " '__gt__',\n",
       " '__hash__',\n",
       " '__init__',\n",
       " '__init_subclass__',\n",
       " '__kwdefaults__',\n",
       " '__le__',\n",
       " '__lt__',\n",
       " '__module__',\n",
       " '__name__',\n",
       " '__ne__',\n",
       " '__new__',\n",
       " '__qualname__',\n",
       " '__reduce__',\n",
       " '__reduce_ex__',\n",
       " '__repr__',\n",
       " '__setattr__',\n",
       " '__sizeof__',\n",
       " '__str__',\n",
       " '__subclasshook__']"
      ]
     },
     "execution_count": 125,
     "metadata": {},
     "output_type": "execute_result"
    }
   ],
   "source": [
    "dir(f)"
   ]
  },
  {
   "cell_type": "code",
   "execution_count": 142,
   "metadata": {},
   "outputs": [
    {
     "data": {
      "text/plain": [
       "10"
      ]
     },
     "execution_count": 142,
     "metadata": {},
     "output_type": "execute_result"
    }
   ],
   "source": [
    "del abs\n",
    "abs(-10)"
   ]
  },
  {
   "cell_type": "code",
   "execution_count": 140,
   "metadata": {},
   "outputs": [],
   "source": [
    "abs = 100\n"
   ]
  },
  {
   "cell_type": "code",
   "execution_count": 143,
   "metadata": {},
   "outputs": [
    {
     "data": {
      "text/plain": [
       "<function abs(x, /)>"
      ]
     },
     "execution_count": 143,
     "metadata": {},
     "output_type": "execute_result"
    }
   ],
   "source": [
    "getattr(__builtin__, \"abs\")"
   ]
  },
  {
   "cell_type": "code",
   "execution_count": 145,
   "metadata": {},
   "outputs": [],
   "source": [
    "#dir(__builtin__)"
   ]
  },
  {
   "cell_type": "code",
   "execution_count": 147,
   "metadata": {},
   "outputs": [
    {
     "data": {
      "text/plain": [
       "10"
      ]
     },
     "execution_count": 147,
     "metadata": {},
     "output_type": "execute_result"
    }
   ],
   "source": [
    "globals()[\"a\"]"
   ]
  },
  {
   "cell_type": "code",
   "execution_count": 149,
   "metadata": {},
   "outputs": [
    {
     "data": {
      "text/plain": [
       "10"
      ]
     },
     "execution_count": 149,
     "metadata": {},
     "output_type": "execute_result"
    }
   ],
   "source": [
    "locals()[\"a\"]"
   ]
  },
  {
   "cell_type": "code",
   "execution_count": 151,
   "metadata": {},
   "outputs": [
    {
     "name": "stdout",
     "output_type": "stream",
     "text": [
      "10\n",
      "3\n",
      "{'p3': 100, 'p2': 2, 'p1': 1}\n"
     ]
    }
   ],
   "source": [
    "v1=10\n",
    "def calc(p1, p2):\n",
    "    p3 = 100\n",
    "    print(p1+p2)\n",
    "    print(locals())\n",
    "print(globals()[\"v1\"])    \n",
    "calc(1,2)"
   ]
  },
  {
   "cell_type": "code",
   "execution_count": 160,
   "metadata": {},
   "outputs": [],
   "source": [
    "def calc():\n",
    "    x=1\n",
    "    def add(a,b):\n",
    "        nonlocal x\n",
    "        x = a+b+x\n",
    "        return x\n",
    "    print(add(1,2))\n",
    "    print(add(3,4))"
   ]
  },
  {
   "cell_type": "code",
   "execution_count": 161,
   "metadata": {},
   "outputs": [
    {
     "name": "stdout",
     "output_type": "stream",
     "text": [
      "4\n",
      "11\n"
     ]
    }
   ],
   "source": [
    "calc()"
   ]
  },
  {
   "cell_type": "code",
   "execution_count": 162,
   "metadata": {},
   "outputs": [],
   "source": [
    "def calc():\n",
    "    x=1\n",
    "    def add(a,b):\n",
    "        nonlocal x\n",
    "        x = a+b+x\n",
    "        return x\n",
    "    return add"
   ]
  },
  {
   "cell_type": "code",
   "execution_count": 165,
   "metadata": {},
   "outputs": [
    {
     "data": {
      "text/plain": [
       "11"
      ]
     },
     "execution_count": 165,
     "metadata": {},
     "output_type": "execute_result"
    }
   ],
   "source": [
    "f = calc()\n",
    "f(1,2)\n",
    "f(3,4)"
   ]
  },
  {
   "cell_type": "code",
   "execution_count": 185,
   "metadata": {},
   "outputs": [],
   "source": [
    "#counter함수 \n",
    "def counter(s):\n",
    "    v1 = s\n",
    "    def f2():\n",
    "        nonlocal v1 \n",
    "        v1 = v1 + 1\n",
    "        return v1\n",
    "    return f2\n",
    "    "
   ]
  },
  {
   "cell_type": "code",
   "execution_count": 186,
   "metadata": {},
   "outputs": [
    {
     "name": "stdout",
     "output_type": "stream",
     "text": [
      "<function counter.<locals>.f2 at 0x0000020AFC09B730>\n",
      "1\n",
      "2\n",
      "3\n",
      "101\n",
      "102\n",
      "103\n"
     ]
    }
   ],
   "source": [
    "c1 = counter(0)\n",
    "print(c1)\n",
    "#v1=0\n",
    "# def f2():\n",
    "#         nonlocal v1 \n",
    "#         v1 = v1 + 1\n",
    "#         return v1\n",
    "    \n",
    "c2 = counter(100)\n",
    "print(c1())\n",
    "print(c1())\n",
    "print(c1())\n",
    "print(c2())\n",
    "print(c2())\n",
    "print(c2())"
   ]
  },
  {
   "cell_type": "code",
   "execution_count": 180,
   "metadata": {},
   "outputs": [],
   "source": [
    "a=0\n",
    "b=0\n",
    "def counter(v):\n",
    "    return v+1"
   ]
  },
  {
   "cell_type": "code",
   "execution_count": 183,
   "metadata": {},
   "outputs": [
    {
     "name": "stdout",
     "output_type": "stream",
     "text": [
      "3\n",
      "103\n"
     ]
    }
   ],
   "source": [
    "\n",
    "a = counter(a)\n",
    "print(a)\n",
    "b = counter(b)\n",
    "print(b)"
   ]
  },
  {
   "cell_type": "code",
   "execution_count": 189,
   "metadata": {},
   "outputs": [
    {
     "name": "stdout",
     "output_type": "stream",
     "text": [
      "p , y , t , h , o , n , "
     ]
    }
   ],
   "source": [
    "s = \"python\"\n",
    "for a in s:\n",
    "    print(a, end=\" , \")"
   ]
  },
  {
   "cell_type": "code",
   "execution_count": 196,
   "metadata": {},
   "outputs": [
    {
     "name": "stdout",
     "output_type": "stream",
     "text": [
      "t\n",
      "n\n",
      "tho\n",
      "thon\n",
      "pytho\n",
      "python\n",
      "th\n"
     ]
    }
   ],
   "source": [
    "#위치이용 \n",
    "print(s[2])\n",
    "print(s[-1])\n",
    "#slicing\n",
    "print(s[2:5]) #2<=  <5\n",
    "print(s[2:]) #2<=  끝까지 \n",
    "print(s[:5]) # 0<=  <5\n",
    "print(s[:]) # 전체 \n",
    "print(s[2:-2]) # 시작은 앞에서부터 2<=  끝은 뒤에서부터 <-2 "
   ]
  },
  {
   "cell_type": "code",
   "execution_count": 210,
   "metadata": {},
   "outputs": [
    {
     "name": "stdout",
     "output_type": "stream",
     "text": [
      "   python-     python-     python-  \n"
     ]
    }
   ],
   "source": [
    "s = \"   python-  \" * 3\n",
    "print(s)"
   ]
  },
  {
   "cell_type": "code",
   "execution_count": 204,
   "metadata": {},
   "outputs": [
    {
     "name": "stdout",
     "output_type": "stream",
     "text": [
      "21\n",
      "-1\n",
      "1\n"
     ]
    }
   ],
   "source": [
    "print(len(s))\n",
    "print(s.find('z')) #찾는 문자열이 없다면 -1\n",
    "print(s.index('y')) #찾는 문자열이 없다면 에러 "
   ]
  },
  {
   "cell_type": "code",
   "execution_count": 209,
   "metadata": {},
   "outputs": [
    {
     "data": {
      "text/plain": [
       "'python- python- python- '"
      ]
     },
     "execution_count": 209,
     "metadata": {},
     "output_type": "execute_result"
    }
   ],
   "source": [
    "s.capitalize()\n",
    "s.title()\n",
    "s #s는 변경되지 않는다. "
   ]
  },
  {
   "cell_type": "code",
   "execution_count": 217,
   "metadata": {},
   "outputs": [
    {
     "data": {
      "text/plain": [
       "['python-', 'python-', 'python-']"
      ]
     },
     "execution_count": 217,
     "metadata": {},
     "output_type": "execute_result"
    }
   ],
   "source": [
    "s.lstrip()\n",
    "s.rstrip()\n",
    "s.strip()\n",
    "s.strip().split()"
   ]
  },
  {
   "cell_type": "code",
   "execution_count": 221,
   "metadata": {},
   "outputs": [
    {
     "data": {
      "text/plain": [
       "['',\n",
       " '',\n",
       " '',\n",
       " '(세종=연합뉴스) 윤종석 기자 = 올해 1월 1일 기준으로 전국 표준지 50만 필지의 공시지가가 1년 전에 비해 9.42% 오른 것으로 집계됐다.',\n",
       " '',\n",
       " '앞서 표준 단독주택은 시세 15억원 이상 고가주택의 공시가격을 많이 올렸다면, 표준지는 ㎡당 2천만원이 넘는 고가토지를 중심으로 공시가를 집중적으로 상향 조정했다.',\n",
       " '',\n",
       " '작년 개발호재로 땅값이 많이 오르거나 그동안 저평가된 고가 토지가 많은 서울, 부산, 광주 등지는 상승률이 10%를 넘겼다.',\n",
       " '',\n",
       " '시세 대비 공시가격의 비율인 현실화율은 작년 62.6%에서 2.2% 포인트 상승한 64.8%로 파악됐다.',\n",
       " '',\n",
       " '국토교통부는 12일 정부세종청사에서 전국 표준지 공시지가 상승률을 공개했다.',\n",
       " '',\n",
       " '',\n",
       " '']"
      ]
     },
     "execution_count": 221,
     "metadata": {},
     "output_type": "execute_result"
    }
   ],
   "source": [
    "s =\"\"\"\n",
    "\n",
    "\n",
    "(세종=연합뉴스) 윤종석 기자 = 올해 1월 1일 기준으로 전국 표준지 50만 필지의 공시지가가 1년 전에 비해 9.42% 오른 것으로 집계됐다.\n",
    "\n",
    "앞서 표준 단독주택은 시세 15억원 이상 고가주택의 공시가격을 많이 올렸다면, 표준지는 ㎡당 2천만원이 넘는 고가토지를 중심으로 공시가를 집중적으로 상향 조정했다.\n",
    "\n",
    "작년 개발호재로 땅값이 많이 오르거나 그동안 저평가된 고가 토지가 많은 서울, 부산, 광주 등지는 상승률이 10%를 넘겼다.\n",
    "\n",
    "시세 대비 공시가격의 비율인 현실화율은 작년 62.6%에서 2.2% 포인트 상승한 64.8%로 파악됐다.\n",
    "\n",
    "국토교통부는 12일 정부세종청사에서 전국 표준지 공시지가 상승률을 공개했다.\n",
    "\n",
    "\n",
    "\n",
    "\"\"\"\n",
    "s.splitlines()"
   ]
  },
  {
   "cell_type": "code",
   "execution_count": 223,
   "metadata": {},
   "outputs": [
    {
     "data": {
      "text/plain": [
       "'P**Y**T**H**O**N'"
      ]
     },
     "execution_count": 223,
     "metadata": {},
     "output_type": "execute_result"
    }
   ],
   "source": [
    "s = \"PYTHON\"\n",
    "\"**\".join(s)"
   ]
  },
  {
   "cell_type": "code",
   "execution_count": 225,
   "metadata": {},
   "outputs": [
    {
     "data": {
      "text/plain": [
       "['one', 'two', 'three:four']"
      ]
     },
     "execution_count": 225,
     "metadata": {},
     "output_type": "execute_result"
    }
   ],
   "source": [
    "s = \"one:two:three:four\"\n",
    "s.split(\":\", 2)"
   ]
  },
  {
   "cell_type": "code",
   "execution_count": 228,
   "metadata": {},
   "outputs": [
    {
     "data": {
      "text/plain": [
       "['one', 'two', '', '', '', '', 'three', 'four']"
      ]
     },
     "execution_count": 228,
     "metadata": {},
     "output_type": "execute_result"
    }
   ],
   "source": [
    "s = \"one\\ntwo\\n\\n\\n\\n\\nthree\\nfour\"\n",
    "s.splitlines()"
   ]
  },
  {
   "cell_type": "code",
   "execution_count": 239,
   "metadata": {},
   "outputs": [
    {
     "name": "stdout",
     "output_type": "stream",
     "text": [
      "가격은        500 \n",
      "옆집은        600\n",
      "가격은 500        \n",
      "옆집은 600       \n",
      "가격은 500 \n",
      "옆집은 600\n",
      "가격은 500 \n",
      "옆집은 600\n",
      "가격은 700 \n",
      "옆집은 800\n"
     ]
    }
   ],
   "source": [
    "price=500\n",
    "price2=600\n",
    "\n",
    "print(\"가격은 %10d \\n옆집은 %10d\"%(price, price2))\n",
    "print(\"가격은 %-10d \\n옆집은 %-10d\"%(price, price2))\n",
    "print(\"가격은 {} \\n옆집은 {}\".format(price, price2))\n",
    "print(\"가격은 {1} \\n옆집은 {0}\".format(price2, price))\n",
    "\n",
    "#키워드인수 \n",
    "print(\"가격은 {price2} \\n옆집은 {price}\".format(price2=700, price=800))"
   ]
  },
  {
   "cell_type": "code",
   "execution_count": null,
   "metadata": {},
   "outputs": [],
   "source": [
    "#1. 성적이 90점이상이면 A, 80점 이상이면 B, 70점 이상이면 C, 60점 이상이면 D,\n",
    "#그외에는 F를 반환하는 함수 getGrade(score)를 작성하고 테스트하라. "
   ]
  },
  {
   "cell_type": "code",
   "execution_count": 285,
   "metadata": {},
   "outputs": [],
   "source": [
    "def getGrade(score):\n",
    "    grade ='F'\n",
    "    if score>=90:\n",
    "        grade='A' \n",
    "    elif score>=80:\n",
    "        grade='B'\n",
    "    elif score>=70:\n",
    "        grade='C'\n",
    "    elif score>=60:\n",
    "        grade='D'\n",
    "    return grade"
   ]
  },
  {
   "cell_type": "code",
   "execution_count": 296,
   "metadata": {},
   "outputs": [],
   "source": [
    "def getGrade(score):\n",
    "    grade = ['A','A','B','C','D','F','F','F','F','F']\n",
    "    return grade[10-score//10]"
   ]
  },
  {
   "cell_type": "code",
   "execution_count": 298,
   "metadata": {},
   "outputs": [
    {
     "data": {
      "text/plain": [
       "'F'"
      ]
     },
     "execution_count": 298,
     "metadata": {},
     "output_type": "execute_result"
    }
   ],
   "source": [
    "getGrade(40)"
   ]
  },
  {
   "cell_type": "code",
   "execution_count": 299,
   "metadata": {},
   "outputs": [
    {
     "name": "stdout",
     "output_type": "stream",
     "text": [
      "1\n"
     ]
    }
   ],
   "source": [
    "def decrement(value):\n",
    "\tvalue -= 1\n",
    "\n",
    "n = 1\n",
    "decrement(n)\n",
    "print(n)\n"
   ]
  },
  {
   "cell_type": "code",
   "execution_count": null,
   "metadata": {},
   "outputs": [],
   "source": [
    "첫 번째 정수: 36\n",
    "두 번째 정수: 12\n",
    "12\n"
   ]
  },
  {
   "cell_type": "code",
   "execution_count": 300,
   "metadata": {},
   "outputs": [],
   "source": [
    "def getGcd(a,b):\n",
    "    c = min(a,b)\n",
    "    for i in range(c, 0, -1):\n",
    "        if a%i==0 and b%i==0:\n",
    "            break;\n",
    "        \n",
    "    return i"
   ]
  },
  {
   "cell_type": "code",
   "execution_count": 303,
   "metadata": {},
   "outputs": [
    {
     "data": {
      "text/plain": [
       "12"
      ]
     },
     "execution_count": 303,
     "metadata": {},
     "output_type": "execute_result"
    }
   ],
   "source": [
    "getGcd(36,12)"
   ]
  },
  {
   "cell_type": "code",
   "execution_count": 306,
   "metadata": {},
   "outputs": [],
   "source": [
    "#소수 ------- 1과 자기 자신으로만 나누어 떨어지는 수 \n",
    "def getPrime(n):    \n",
    "    for i in range(n-1, 1, -1):\n",
    "        if n%i==0:\n",
    "            return False\n",
    "        \n",
    "    return True\n"
   ]
  },
  {
   "cell_type": "code",
   "execution_count": 308,
   "metadata": {},
   "outputs": [
    {
     "name": "stdout",
     "output_type": "stream",
     "text": [
      "2,3,5,7,11,13,17,19,23,29,31,37,41,43,47,53,59,61,67,71,73,79,83,89,97,"
     ]
    }
   ],
   "source": [
    "for su in range(2,101): #7 =>6~2  10->9...5\n",
    "    if getPrime(su):\n",
    "        print(su, end=\",\")"
   ]
  },
  {
   "cell_type": "code",
   "execution_count": 310,
   "metadata": {},
   "outputs": [
    {
     "name": "stdout",
     "output_type": "stream",
     "text": [
      "0\n",
      "1\n",
      "0\n"
     ]
    }
   ],
   "source": [
    "global_var = 0\n",
    "def sub():\n",
    "\tlocal_var = 1\n",
    "\tprint(global_var)\n",
    "\tprint(local_var)\n",
    "sub()\n",
    "print(global_var)\n",
    "#print(local_var) #지역변수 접근불가 \n"
   ]
  },
  {
   "cell_type": "code",
   "execution_count": null,
   "metadata": {},
   "outputs": [],
   "source": [
    "7. 원의 면적을 계산하는 함수 calcArea(radius)을 정의하고 테스트한다. \n",
    "만약 원의 반지름이 주어지지 않았으면 5.0으로 간주한다. \n",
    "함수의 ”기본 인수“를 사용하라. "
   ]
  },
  {
   "cell_type": "code",
   "execution_count": 312,
   "metadata": {},
   "outputs": [],
   "source": [
    "def calcArea(radius=5.0):\n",
    "    return radius*radius*3.14"
   ]
  },
  {
   "cell_type": "code",
   "execution_count": null,
   "metadata": {},
   "outputs": [],
   "source": []
  },
  {
   "cell_type": "code",
   "execution_count": null,
   "metadata": {},
   "outputs": [],
   "source": []
  },
  {
   "cell_type": "code",
   "execution_count": null,
   "metadata": {},
   "outputs": [],
   "source": []
  },
  {
   "cell_type": "code",
   "execution_count": null,
   "metadata": {},
   "outputs": [],
   "source": []
  },
  {
   "cell_type": "code",
   "execution_count": 314,
   "metadata": {},
   "outputs": [
    {
     "data": {
      "text/plain": [
       "314.0"
      ]
     },
     "execution_count": 314,
     "metadata": {},
     "output_type": "execute_result"
    }
   ],
   "source": [
    "calcArea()\n",
    "calcArea(10)"
   ]
  },
  {
   "cell_type": "code",
   "execution_count": null,
   "metadata": {},
   "outputs": [],
   "source": [
    "8. 두 개의 수를 받아서 오름차순으로 반환하는 함수 getSorted(x, y)를 작성하고 \n",
    "반환한다. \n",
    "함수가 2개의 값을 반환하려면 다음과 같이 한다. "
   ]
  },
  {
   "cell_type": "code",
   "execution_count": 319,
   "metadata": {},
   "outputs": [],
   "source": [
    "def getSorted(x, y):\n",
    "    if x > y:\n",
    "        return y,x\n",
    "    return x,y"
   ]
  },
  {
   "cell_type": "code",
   "execution_count": 337,
   "metadata": {},
   "outputs": [
    {
     "name": "stdout",
     "output_type": "stream",
     "text": [
      "<class 'tuple'>\n",
      "40 100\n",
      "40 100\n"
     ]
    }
   ],
   "source": [
    "f = lambda x, y : (y,x) if x > y else (x,y)\n",
    "a,b = f(100,40)\n",
    "print(type(f(100,40)))\n",
    "print(a, b)\n",
    "a,b = (lambda x, y : (y,x) if x > y else (x,y))(100,40)\n",
    "print(a, b)"
   ]
  },
  {
   "cell_type": "code",
   "execution_count": 322,
   "metadata": {},
   "outputs": [],
   "source": [
    "x,y=getSorted(100,20)"
   ]
  },
  {
   "cell_type": "code",
   "execution_count": 323,
   "metadata": {},
   "outputs": [
    {
     "data": {
      "text/plain": [
       "20"
      ]
     },
     "execution_count": 323,
     "metadata": {},
     "output_type": "execute_result"
    }
   ],
   "source": [
    "x"
   ]
  },
  {
   "cell_type": "code",
   "execution_count": 324,
   "metadata": {},
   "outputs": [
    {
     "data": {
      "text/plain": [
       "100"
      ]
     },
     "execution_count": 324,
     "metadata": {},
     "output_type": "execute_result"
    }
   ],
   "source": [
    "y"
   ]
  },
  {
   "cell_type": "code",
   "execution_count": null,
   "metadata": {},
   "outputs": [],
   "source": [
    "#10. 정육면체의 부피를 계산하는 함수 calcCubeVol(side)를 작성하고 테스트하라. "
   ]
  },
  {
   "cell_type": "code",
   "execution_count": 341,
   "metadata": {},
   "outputs": [
    {
     "data": {
      "text/plain": [
       "1000"
      ]
     },
     "execution_count": 341,
     "metadata": {},
     "output_type": "execute_result"
    }
   ],
   "source": [
    "calcCubeVol = lambda side:side*side*side\n",
    "calcCubeVol(10)"
   ]
  },
  {
   "cell_type": "code",
   "execution_count": 342,
   "metadata": {},
   "outputs": [],
   "source": [
    "import re"
   ]
  },
  {
   "cell_type": "code",
   "execution_count": 359,
   "metadata": {},
   "outputs": [
    {
     "name": "stdout",
     "output_type": "stream",
     "text": [
      "True\n",
      "<_sre.SRE_Match object; span=(0, 12), match='02 2222 4444'>\n",
      "0\n",
      "12\n",
      "(0, 12)\n"
     ]
    }
   ],
   "source": [
    "s = \"(010)-2222-4444\"\n",
    "s = \"010-2222-4444\"\n",
    "s = \"02-2222-4444\"\n",
    "s = \"02 2222 4444\"\n",
    "regex = \"\\(?\\d{2,3}\\)?-\\d{3,4}-\\d{4}\"\n",
    "regex = \"\\(?\\d{2,3}\\)?\\s\\d{3,4}\\s\\d{4}\"\n",
    "\n",
    "result = re.match(regex, s)\n",
    "print(bool(result))\n",
    "print(result)\n",
    "if result:\n",
    "    print(result.start())\n",
    "    print(result.end())\n",
    "    print(result.span())\n",
    "    \n"
   ]
  },
  {
   "cell_type": "code",
   "execution_count": 380,
   "metadata": {},
   "outputs": [
    {
     "data": {
      "text/plain": [
       "['(010)-3333-5555',\n",
       " '02-555-9999',\n",
       " '02 555-8888',\n",
       " '02 555     7777',\n",
       " '02 555-----8888']"
      ]
     },
     "execution_count": 380,
     "metadata": {},
     "output_type": "execute_result"
    }
   ],
   "source": [
    "s = '''\n",
    "존재하지 않는 페이지입니다.....error 404\n",
    "내부오류입니다........error 500\n",
    "(010)-3333-5555\n",
    "02-555-9999\n",
    "02 555-8888\n",
    "02 555     7777\n",
    "02 555-----8888\n",
    "'''\n",
    "pattern = \"error\\s\\d{3,}\"\n",
    "pattern2 = \"\\(?\\d{2,3}\\)?[-|\\s]\\d{3,4}[-|\\s]+\\d{4}\"\n",
    "re.findall(pattern, s) #list\n",
    "re.findall(pattern2, s)"
   ]
  },
  {
   "cell_type": "code",
   "execution_count": 386,
   "metadata": {},
   "outputs": [
    {
     "name": "stdout",
     "output_type": "stream",
     "text": [
      "02-1234-5678\n",
      "02\n",
      "1234\n",
      "5678\n",
      "02\n",
      "1234\n",
      "5678\n"
     ]
    }
   ],
   "source": [
    "s = \"02-1234-5678\"\n",
    "pattern = \"(\\d{2})-(\\d{4})-(\\d{4})\"\n",
    "pattern = \"(?P<aa>\\d{2})-(?P<bb>\\d{4})-(?P<cc>\\d{4})\"\n",
    "\n",
    "pattern = \"(?P<kuk>\\d{2})-(?P<before>\\d{4})-(?P<after>\\d{4})\"\n",
    "\n",
    "result = re.search(pattern, s)\n",
    "print(result.group())\n",
    "print(result.group(1))\n",
    "print(result.group(2))\n",
    "print(result.group(3))\n",
    "print(result.group(\"kuk\"))\n",
    "print(result.group(\"before\"))\n",
    "print(result.group(\"after\"))"
   ]
  },
  {
   "cell_type": "code",
   "execution_count": 389,
   "metadata": {},
   "outputs": [],
   "source": [
    "s = \"\"\"\n",
    "고객센터\n",
    "Tel : 1566-5701 (평일 09:00~18:00)\n",
    "스마일클럽/SVIP 전용 : 1522-5700 (365일 09:00~18:00)\n",
    "경기도 부천시 원미구 부일로 223(상동) 투나빌딩 6층 \n",
    "Fax : 02-589-8842 | Mail : gmarket@corp.gmarket.co.kr\n",
    "\n",
    "\"\"\""
   ]
  },
  {
   "cell_type": "code",
   "execution_count": 399,
   "metadata": {},
   "outputs": [
    {
     "data": {
      "text/plain": [
       "['09:00~18:00', '09:00~18:00']"
      ]
     },
     "execution_count": 399,
     "metadata": {},
     "output_type": "execute_result"
    }
   ],
   "source": [
    "pattern = r\"\\d{2}:[0-9]{2}\\~\\d{2}:\\d{2}\"\n",
    "re.findall(pattern, s)"
   ]
  },
  {
   "cell_type": "code",
   "execution_count": null,
   "metadata": {},
   "outputs": [],
   "source": []
  },
  {
   "cell_type": "code",
   "execution_count": null,
   "metadata": {},
   "outputs": [],
   "source": []
  },
  {
   "cell_type": "code",
   "execution_count": null,
   "metadata": {},
   "outputs": [],
   "source": []
  },
  {
   "cell_type": "code",
   "execution_count": null,
   "metadata": {},
   "outputs": [],
   "source": []
  },
  {
   "cell_type": "code",
   "execution_count": null,
   "metadata": {},
   "outputs": [],
   "source": []
  },
  {
   "cell_type": "code",
   "execution_count": null,
   "metadata": {},
   "outputs": [],
   "source": []
  },
  {
   "cell_type": "code",
   "execution_count": 272,
   "metadata": {},
   "outputs": [
    {
     "data": {
      "text/plain": [
       "['에러 404', '에러 405']"
      ]
     },
     "execution_count": 272,
     "metadata": {},
     "output_type": "execute_result"
    }
   ],
   "source": [
    "error_str = \"페이지가 에러 404  에러 405  \"\n",
    "result = re.findall(\"에러 \\d{3}\", error_str)"
   ]
  },
  {
   "cell_type": "code",
   "execution_count": 252,
   "metadata": {},
   "outputs": [
    {
     "name": "stdout",
     "output_type": "stream",
     "text": [
      "<_sre.SRE_Match object; span=(0, 15), match='(010) 8888 9999'>\n"
     ]
    }
   ],
   "source": [
    "import re\n",
    "s= \"010-8888-9999\"\n",
    "s= \"(010)-8888-9999\"\n",
    "s= \"(010) 8888 9999\"\n",
    "regex = \"\\d\\d\\d-\\d\\d\\d\\d-\\d\\d\\d\\d\"\n",
    "regex = \"\\(?\\d{3}\\)?-\\d{4}-\\d{4}\"\n",
    "regex = \"\\(\\d{3}\\)-\\d{4}-\\d{4}\"\n",
    "regex = \"\\(\\d{3}\\)\\s?\\d{4}\\s?\\d{4}\"\n",
    "result = re.match(pattern=regex, string=s)\n",
    "print(result)"
   ]
  },
  {
   "cell_type": "code",
   "execution_count": 339,
   "metadata": {},
   "outputs": [
    {
     "data": {
      "text/plain": [
       "['010-589-8842', '02-589-8842']"
      ]
     },
     "execution_count": 339,
     "metadata": {},
     "output_type": "execute_result"
    }
   ],
   "source": [
    "s = \"\"\"\n",
    "고객센터\n",
    "Tel : 1566-5701 (평일 09:00~18:00) 010-589-8842\n",
    "스마일클럽/SVIP 전용 : 1522-5700 (365일 09:00~18:00)\n",
    "경기도 부천시 원미구 부일로 223(상동) 투나빌딩 6층 \n",
    "Fax : 02-589-8842 | Mail : gmarket@corp.gmarket.co.kr\n",
    "\"\"\"\n",
    "\n",
    "regex = \"\\(?\\d{2,3}\\)?-\\d{3,4}-\\d{4}\"\n",
    "re.findall(regex, s)"
   ]
  },
  {
   "cell_type": "code",
   "execution_count": 340,
   "metadata": {},
   "outputs": [
    {
     "name": "stdout",
     "output_type": "stream",
     "text": [
      "011\n",
      "444\n",
      "5555\n",
      "011-444-5555\n",
      "011\n",
      "444\n",
      "5555\n"
     ]
    },
    {
     "data": {
      "text/plain": [
       "<_sre.SRE_Match object; span=(12, 24), match='011-444-5555'>"
      ]
     },
     "execution_count": 340,
     "metadata": {},
     "output_type": "execute_result"
    }
   ],
   "source": [
    "s = \"aaaaaaaaaaa 011-444-5555 \"\n",
    "regex = \"(?P<aa>\\d{3})-(?P<bb>\\d{3})-(?P<cc>\\d{4})\"\n",
    "result = re.search(regex, s)\n",
    "print(result.group(1))\n",
    "print(result.group(2))\n",
    "print(result.group(3))\n",
    "print(result.group())\n",
    "print(result.group(\"aa\"))\n",
    "print(result.group(\"bb\"))\n",
    "print(result.group(\"cc\"))\n",
    "result"
   ]
  },
  {
   "cell_type": "code",
   "execution_count": null,
   "metadata": {},
   "outputs": [],
   "source": []
  }
 ],
 "metadata": {
  "kernelspec": {
   "display_name": "encore3.6",
   "language": "python",
   "name": "encore"
  },
  "language_info": {
   "codemirror_mode": {
    "name": "ipython",
    "version": 3
   },
   "file_extension": ".py",
   "mimetype": "text/x-python",
   "name": "python",
   "nbconvert_exporter": "python",
   "pygments_lexer": "ipython3",
   "version": "3.6.8"
  }
 },
 "nbformat": 4,
 "nbformat_minor": 2
}
