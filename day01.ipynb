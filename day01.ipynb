{
 "cells": [
  {
   "cell_type": "code",
   "execution_count": 1,
   "metadata": {},
   "outputs": [
    {
     "data": {
      "text/plain": [
       "3"
      ]
     },
     "execution_count": 1,
     "metadata": {},
     "output_type": "execute_result"
    }
   ],
   "source": [
    "1+2"
   ]
  },
  {
   "cell_type": "code",
   "execution_count": 2,
   "metadata": {},
   "outputs": [
    {
     "data": {
      "text/plain": [
       "'3.6.8 |Anaconda, Inc.| (default, Dec 30 2018, 18:50:55) [MSC v.1915 64 bit (AMD64)]'"
      ]
     },
     "execution_count": 2,
     "metadata": {},
     "output_type": "execute_result"
    }
   ],
   "source": [
    "import sys\n",
    "sys.version"
   ]
  },
  {
   "cell_type": "code",
   "execution_count": 2,
   "metadata": {},
   "outputs": [
    {
     "data": {
      "text/plain": [
       "'Windows-10-10.0.17134-SP0'"
      ]
     },
     "execution_count": 2,
     "metadata": {},
     "output_type": "execute_result"
    }
   ],
   "source": [
    "import platform\n",
    "platform.platform()"
   ]
  },
  {
   "cell_type": "code",
   "execution_count": 3,
   "metadata": {},
   "outputs": [
    {
     "data": {
      "text/plain": [
       "'Windows'"
      ]
     },
     "execution_count": 3,
     "metadata": {},
     "output_type": "execute_result"
    }
   ],
   "source": [
    "platform.system()"
   ]
  },
  {
   "cell_type": "code",
   "execution_count": 7,
   "metadata": {},
   "outputs": [
    {
     "name": "stdout",
     "output_type": "stream",
     "text": [
      "10\n",
      "10.0.17134\n"
     ]
    }
   ],
   "source": [
    "print(platform.release())\n",
    "print(platform.version())"
   ]
  },
  {
   "cell_type": "code",
   "execution_count": 19,
   "metadata": {},
   "outputs": [
    {
     "name": "stdout",
     "output_type": "stream",
     "text": [
      "10**20**30!!!!\n",
      "10 20\n"
     ]
    }
   ],
   "source": [
    "a=10\n",
    "b=20\n",
    "print(a,b,a+b, sep=\"**\", end=\"!!!!\")\n",
    "print()\n",
    "print(a, end=\" \")\n",
    "print(b)"
   ]
  },
  {
   "cell_type": "code",
   "execution_count": 21,
   "metadata": {},
   "outputs": [
    {
     "name": "stdout",
     "output_type": "stream",
     "text": [
      "2000/10/27 11:43:59\n"
     ]
    }
   ],
   "source": [
    "year = 2000\n",
    "month = 10\n",
    "day = 27\n",
    "hour = 11\n",
    "minute = 43\n",
    "second = 59\n",
    "print(year, month, day, sep=\"/\", end=\" \")\n",
    "print(hour, minute, second, sep=\":\")\n",
    "\n",
    "#[출력] \n",
    "#2000/10/27 11:43:59"
   ]
  },
  {
   "cell_type": "code",
   "execution_count": 7,
   "metadata": {},
   "outputs": [
    {
     "name": "stdout",
     "output_type": "stream",
     "text": [
      "내 나이는?10\n",
      "너 나이는?20\n",
      "30\n"
     ]
    }
   ],
   "source": [
    "age1 = input(\"내 나이는?\")\n",
    "age2 = input(\"너 나이는?\")\n",
    "#print( age1+ age2, age1*age2 )\n",
    "print( int(age1) + int(age2) )"
   ]
  },
  {
   "cell_type": "code",
   "execution_count": 4,
   "metadata": {
    "scrolled": true
   },
   "outputs": [
    {
     "name": "stdout",
     "output_type": "stream",
     "text": [
      "점수?100,200\n",
      "300\n",
      "score1: 100\n",
      "score2: 200\n"
     ]
    }
   ],
   "source": [
    "score1, score2 = map(int, input(\"점수?\").split(\",\"))\n",
    "print(score1 + score2)\n",
    "print(\"score1:\", score1)\n",
    "print(\"score2:\", score2)"
   ]
  },
  {
   "cell_type": "code",
   "execution_count": 31,
   "metadata": {},
   "outputs": [
    {
     "name": "stdout",
     "output_type": "stream",
     "text": [
      "점수?80 90\n",
      "170\n",
      "score1: 80\n",
      "score2: 90\n"
     ]
    }
   ],
   "source": [
    "score1, score2 = map(int, input(\"점수?\").split(\" \"))\n",
    "print(score1 + score2)\n",
    "print(\"score1:\", score1)\n",
    "print(\"score2:\", score2)"
   ]
  },
  {
   "cell_type": "code",
   "execution_count": 11,
   "metadata": {},
   "outputs": [
    {
     "ename": "NameError",
     "evalue": "name 'age1' is not defined",
     "output_type": "error",
     "traceback": [
      "\u001b[1;31m---------------------------------------------------------------------------\u001b[0m",
      "\u001b[1;31mNameError\u001b[0m                                 Traceback (most recent call last)",
      "\u001b[1;32m<ipython-input-11-a1034ad6d734>\u001b[0m in \u001b[0;36m<module>\u001b[1;34m\u001b[0m\n\u001b[0;32m      1\u001b[0m \u001b[1;32mdel\u001b[0m \u001b[0mage1\u001b[0m\u001b[1;33m\u001b[0m\u001b[1;33m\u001b[0m\u001b[0m\n\u001b[1;32m----> 2\u001b[1;33m \u001b[0mprint\u001b[0m\u001b[1;33m(\u001b[0m\u001b[0mscore1\u001b[0m \u001b[1;33m+\u001b[0m \u001b[0mint\u001b[0m\u001b[1;33m(\u001b[0m\u001b[0mage1\u001b[0m\u001b[1;33m)\u001b[0m\u001b[1;33m)\u001b[0m\u001b[1;33m\u001b[0m\u001b[1;33m\u001b[0m\u001b[0m\n\u001b[0m",
      "\u001b[1;31mNameError\u001b[0m: name 'age1' is not defined"
     ]
    }
   ],
   "source": [
    "del age1\n",
    "print(score1 + int(age1))"
   ]
  },
  {
   "cell_type": "code",
   "execution_count": 12,
   "metadata": {},
   "outputs": [
    {
     "data": {
      "text/plain": [
       "['\\nThe',\n",
       " 'open-source',\n",
       " 'Anaconda',\n",
       " 'Distribution',\n",
       " 'is',\n",
       " 'the',\n",
       " 'easiest',\n",
       " 'way',\n",
       " 'to',\n",
       " 'perform',\n",
       " 'Python/R',\n",
       " 'data',\n",
       " 'science',\n",
       " 'and',\n",
       " 'machine',\n",
       " 'learning',\n",
       " 'on',\n",
       " 'Linux,',\n",
       " 'Windows,',\n",
       " 'and',\n",
       " 'Mac',\n",
       " 'OS',\n",
       " 'X.',\n",
       " 'With',\n",
       " 'over',\n",
       " '11',\n",
       " 'million',\n",
       " 'users',\n",
       " 'worldwide,',\n",
       " 'it',\n",
       " 'is',\n",
       " 'the',\n",
       " 'industry',\n",
       " 'standard',\n",
       " 'for',\n",
       " 'developing,',\n",
       " 'testing,',\n",
       " 'and',\n",
       " 'training',\n",
       " 'on',\n",
       " 'a',\n",
       " 'single',\n",
       " 'machine,',\n",
       " 'enabling',\n",
       " 'individual',\n",
       " 'data',\n",
       " 'scientists',\n",
       " 'to:\\n\\nQuickly',\n",
       " 'download',\n",
       " '1,500+',\n",
       " 'Python/R',\n",
       " 'data',\n",
       " 'science',\n",
       " 'packages\\nManage',\n",
       " 'libraries,',\n",
       " 'dependencies,',\n",
       " 'and',\n",
       " 'environments',\n",
       " 'with',\n",
       " 'Conda\\nDevelop',\n",
       " 'and',\n",
       " 'train',\n",
       " 'machine',\n",
       " 'learning',\n",
       " 'and',\n",
       " 'deep',\n",
       " 'learning',\n",
       " 'models',\n",
       " 'with',\n",
       " 'scikit-learn,',\n",
       " 'TensorFlow,',\n",
       " 'and',\n",
       " 'Theano\\nAnalyze',\n",
       " 'data',\n",
       " 'with',\n",
       " 'scalability',\n",
       " 'and',\n",
       " 'performance',\n",
       " 'with',\n",
       " 'Dask,',\n",
       " 'NumPy,',\n",
       " 'pandas,',\n",
       " 'and',\n",
       " 'Numba\\nVisualize',\n",
       " 'results',\n",
       " 'with',\n",
       " 'Matplotlib,',\n",
       " 'Bokeh,',\n",
       " 'Datashader,',\n",
       " 'and',\n",
       " 'Holoviews\\n']"
      ]
     },
     "execution_count": 12,
     "metadata": {},
     "output_type": "execute_result"
    }
   ],
   "source": [
    "s = \"\"\"\n",
    "The open-source Anaconda Distribution is the easiest way to perform Python/R data science and machine learning on Linux, Windows, and Mac OS X. With over 11 million users worldwide, it is the industry standard for developing, testing, and training on a single machine, enabling individual data scientists to:\n",
    "\n",
    "Quickly download 1,500+ Python/R data science packages\n",
    "Manage libraries, dependencies, and environments with Conda\n",
    "Develop and train machine learning and deep learning models with scikit-learn, TensorFlow, and Theano\n",
    "Analyze data with scalability and performance with Dask, NumPy, pandas, and Numba\n",
    "Visualize results with Matplotlib, Bokeh, Datashader, and Holoviews\n",
    "\"\"\"\n",
    "s.split(\" \")"
   ]
  },
  {
   "cell_type": "code",
   "execution_count": 17,
   "metadata": {},
   "outputs": [
    {
     "data": {
      "text/plain": [
       "['The',\n",
       " 'open-source',\n",
       " 'Anaconda',\n",
       " 'Distribution',\n",
       " 'is',\n",
       " 'the',\n",
       " 'easiest',\n",
       " 'way',\n",
       " 'to',\n",
       " 'perform',\n",
       " 'Python/R',\n",
       " 'data',\n",
       " 'science',\n",
       " 'and',\n",
       " 'machine',\n",
       " 'learning',\n",
       " 'on',\n",
       " 'Linux,',\n",
       " 'Windows,',\n",
       " 'and',\n",
       " 'Mac',\n",
       " 'OS',\n",
       " 'X.',\n",
       " 'With',\n",
       " 'over',\n",
       " '11',\n",
       " 'millio',\n",
       " 'machine,',\n",
       " 'enabling',\n",
       " 'individual',\n",
       " 'data',\n",
       " 'scientists',\n",
       " 'to:']"
      ]
     },
     "execution_count": 17,
     "metadata": {},
     "output_type": "execute_result"
    }
   ],
   "source": [
    "s = \"\\\n",
    "The open-source Anaconda Distribution is the easiest \\\n",
    "way to perform Python/R data science and machine learning \\\n",
    "on Linux, Windows, and Mac OS X. With over 11 millio \\\n",
    "machine, enabling individual data scientists to:\\\n",
    "\"\n",
    "s.split(\" \" )"
   ]
  },
  {
   "cell_type": "code",
   "execution_count": 22,
   "metadata": {},
   "outputs": [
    {
     "data": {
      "text/plain": [
       "['The',\n",
       " 'open-source',\n",
       " 'Anaconda',\n",
       " 'Distribution',\n",
       " 'is',\n",
       " 'the',\n",
       " 'easiest',\n",
       " 'way',\n",
       " 'to',\n",
       " 'perform',\n",
       " 'Python/R',\n",
       " 'data',\n",
       " 'science',\n",
       " 'and',\n",
       " 'machine',\n",
       " 'learning',\n",
       " 'on',\n",
       " 'Linux,',\n",
       " 'Windows,',\n",
       " 'and',\n",
       " 'Mac',\n",
       " 'OS',\n",
       " 'X.',\n",
       " 'With',\n",
       " 'over',\n",
       " '11',\n",
       " 'millio',\n",
       " 'machine,',\n",
       " 'enabling',\n",
       " 'individual',\n",
       " 'data',\n",
       " 'scientists',\n",
       " 'to:']"
      ]
     },
     "execution_count": 22,
     "metadata": {},
     "output_type": "execute_result"
    }
   ],
   "source": [
    "s.split(\" \")"
   ]
  },
  {
   "cell_type": "code",
   "execution_count": 26,
   "metadata": {},
   "outputs": [
    {
     "data": {
      "text/plain": [
       "['The open-source Anaconda Distribution is the easiest way to perform Python/R data science and machine learning on Linux, Windows, and Mac OS X',\n",
       " ' With over 11 millio machine, enabling individual data scientists to:']"
      ]
     },
     "execution_count": 26,
     "metadata": {},
     "output_type": "execute_result"
    }
   ],
   "source": [
    "import re\n",
    "re.split(\"[\\n|\\.]\", s)"
   ]
  },
  {
   "cell_type": "code",
   "execution_count": 29,
   "metadata": {},
   "outputs": [
    {
     "data": {
      "text/plain": [
       "12"
      ]
     },
     "execution_count": 29,
     "metadata": {},
     "output_type": "execute_result"
    }
   ],
   "source": [
    "a=10\n",
    "a = a+1\n",
    "a +=1\n",
    "a"
   ]
  },
  {
   "cell_type": "code",
   "execution_count": 35,
   "metadata": {},
   "outputs": [
    {
     "data": {
      "text/plain": [
       "'잘하자잘하자잘하자잘하자잘하자'"
      ]
     },
     "execution_count": 35,
     "metadata": {},
     "output_type": "execute_result"
    }
   ],
   "source": [
    "s1 = \"파이썬\"\n",
    "s2 = \"잘하자\"\n",
    "s1+s2\n",
    "s1*5\n",
    "s2 = s2*5\n",
    "s2"
   ]
  },
  {
   "cell_type": "code",
   "execution_count": 43,
   "metadata": {},
   "outputs": [
    {
     "data": {
      "text/plain": [
       "'1020'"
      ]
     },
     "execution_count": 43,
     "metadata": {},
     "output_type": "execute_result"
    }
   ],
   "source": [
    "str = \"파이썬\"\n",
    "del str\n",
    "a=10\n",
    "b=20\n",
    "a+b\n",
    "str(a) + str(b)"
   ]
  },
  {
   "cell_type": "code",
   "execution_count": 55,
   "metadata": {},
   "outputs": [
    {
     "name": "stdout",
     "output_type": "stream",
     "text": [
      "END\n"
     ]
    }
   ],
   "source": [
    "a=0\n",
    "if a > 0:\n",
    "    print(\"0보다 크다\")\n",
    "\n",
    "#숫자는 0이 아니다.     \n",
    "if a:\n",
    "    print(\"0보다 크다\")\n",
    "    \n",
    "    \n",
    "print(\"END\")"
   ]
  },
  {
   "cell_type": "code",
   "execution_count": 56,
   "metadata": {},
   "outputs": [
    {
     "name": "stdout",
     "output_type": "stream",
     "text": [
      "END\n"
     ]
    }
   ],
   "source": [
    "a=''\n",
    "if a !='':\n",
    "    print(\"0보다 크다\")\n",
    "#str인 경우는 ''이 아니다. \n",
    "if a:\n",
    "    print(\"0보다 크다\")\n",
    "    \n",
    "    \n",
    "print(\"END\")"
   ]
  },
  {
   "cell_type": "code",
   "execution_count": 61,
   "metadata": {},
   "outputs": [
    {
     "name": "stdout",
     "output_type": "stream",
     "text": [
      "0보다 크다\n",
      "0보다 크다\n",
      "END\n"
     ]
    }
   ],
   "source": [
    "\n",
    "a=10<20\n",
    "if a==True:\n",
    "    print(\"0보다 크다\")\n",
    "#boolean은 true\n",
    "if a:\n",
    "    print(\"0보다 크다\")\n",
    "    \n",
    "    \n",
    "print(\"END\")"
   ]
  },
  {
   "cell_type": "code",
   "execution_count": 63,
   "metadata": {},
   "outputs": [
    {
     "name": "stdout",
     "output_type": "stream",
     "text": [
      "10->55\n"
     ]
    }
   ],
   "source": [
    "i=0\n",
    "total=0\n",
    "while i<10:\n",
    "    i += 1\n",
    "    total += i\n",
    "print(i , total, sep=\"->\")   "
   ]
  },
  {
   "cell_type": "code",
   "execution_count": 65,
   "metadata": {},
   "outputs": [
    {
     "name": "stdout",
     "output_type": "stream",
     "text": [
      "10->55\n"
     ]
    }
   ],
   "source": [
    "total=0\n",
    "for i in [1,2,3,4,5,6,7,8,9,10]:\n",
    "    total += i\n",
    "print(i , total, sep=\"->\") "
   ]
  },
  {
   "cell_type": "code",
   "execution_count": 70,
   "metadata": {},
   "outputs": [
    {
     "data": {
      "text/plain": [
       "[0, 1, 2, 3, 4, 5, 6, 7, 8, 9, 10]"
      ]
     },
     "execution_count": 70,
     "metadata": {},
     "output_type": "execute_result"
    }
   ],
   "source": [
    "list(range(11))"
   ]
  },
  {
   "cell_type": "code",
   "execution_count": 81,
   "metadata": {},
   "outputs": [
    {
     "name": "stdout",
     "output_type": "stream",
     "text": [
      "0+1+2+3+4+5+6+7+8+9+10=55\n"
     ]
    }
   ],
   "source": [
    "total=0\n",
    "for i in range(11):\n",
    "    if i==10:\n",
    "        print(i, end=\"=\" )\n",
    "    else:\n",
    "        print(i, end=\"+\" )\n",
    "    total += i\n",
    "print(total) "
   ]
  },
  {
   "cell_type": "markdown",
   "metadata": {},
   "source": [
    "# 반복문 연습"
   ]
  },
  {
   "cell_type": "code",
   "execution_count": 14,
   "metadata": {},
   "outputs": [
    {
     "name": "stdout",
     "output_type": "stream",
     "text": [
      "100\n",
      "90\n"
     ]
    }
   ],
   "source": [
    "score = [100,-2, 90,200,50,70,-1,90]\n",
    "score[0]\n",
    "score[1]\n",
    "for jumsu in score:\n",
    "    if jumsu < 0 :\n",
    "        continue\n",
    "    if (jumsu > 100):\n",
    "        break\n",
    "    print(jumsu)"
   ]
  },
  {
   "cell_type": "code",
   "execution_count": null,
   "metadata": {},
   "outputs": [],
   "source": [
    "10. 앞에서 덧셈 퀴즈를 자동으로 생성해보았다. \n",
    "이번에는 덧셈, 뺄셈, 곱셈, 나눗셈 중에서 하나를 랜덤하게 선택하고 \n",
    "피연산자도 난수로 생성하여 사용자에게 제시하고 \n",
    "사용자의 답을 자동으로 채점하는 프로그램을 작성해보자. "
   ]
  },
  {
   "cell_type": "code",
   "execution_count": 44,
   "metadata": {},
   "outputs": [
    {
     "data": {
      "text/plain": [
       "[67, 40, 23, 52, 31]"
      ]
     },
     "execution_count": 44,
     "metadata": {},
     "output_type": "execute_result"
    }
   ],
   "source": [
    "import random\n",
    "random.random() #실수 0~1\n",
    "random.randint(0,10) #범위\n",
    "random.randrange(6) #범위 \n",
    "random.choice(['+','-','*','/']) #무작위 선택 \n",
    "random.sample(range(100), 5)  #범위, 갯수만큼 "
   ]
  },
  {
   "cell_type": "code",
   "execution_count": 50,
   "metadata": {},
   "outputs": [
    {
     "name": "stdout",
     "output_type": "stream",
     "text": [
      "10 * 2 = 20\n"
     ]
    }
   ],
   "source": [
    "a = random.randint(0,10)\n",
    "b = random.randint(0,10)\n",
    "op = random.choice(['+','-','*','/'])\n",
    "print(a, op, b, end=\" = \")\n",
    "if op=='+':\n",
    "    print(a+b)\n",
    "elif op=='-':\n",
    "    print(a-b)\n",
    "elif op=='*':\n",
    "    print(a*b)\n",
    "else:\n",
    "    print(a/b)"
   ]
  },
  {
   "cell_type": "code",
   "execution_count": 51,
   "metadata": {},
   "outputs": [],
   "source": [
    "# 14. 1부터 99까지 2자리의 정수로 이루어진 복권이 있다고 하자. \n",
    "# 2자리가 전부 일치하면 1등상 100만원을 받는다. \n",
    "# 2자리 중에서 하나만 일치하면 50만원을 받고 하나도 일치하지 않으면 상금은 없다. \n",
    "# 복권 번호는 난수로 생성하도록 하자. "
   ]
  },
  {
   "cell_type": "code",
   "execution_count": 61,
   "metadata": {},
   "outputs": [
    {
     "name": "stdout",
     "output_type": "stream",
     "text": [
      "내가산 복권숫자?43\n",
      "꽝!~!\n",
      "89\n"
     ]
    }
   ],
   "source": [
    "a = random.randint(1,100)\n",
    "num1 = a // 10\n",
    "num2 = a % 10\n",
    "myinput = int( input(\"내가산 복권숫자?\") )\n",
    "num3 = myinput // 10\n",
    "num4 = myinput % 10\n",
    "\n",
    "if num1 == num3 and num2 == num4:\n",
    "    print(\"1등상 100만원\")\n",
    "elif  num1 == num3 or num2 == num4 or num1 == num4 or num2 == num3:   \n",
    "    print(\"2등상 50만원\")\n",
    "else:\n",
    "    print(\"꽝!~!\")\n",
    "print(a)    "
   ]
  },
  {
   "cell_type": "code",
   "execution_count": 62,
   "metadata": {},
   "outputs": [
    {
     "name": "stdout",
     "output_type": "stream",
     "text": [
      "2 4 6 8 10 12 14 16 18 20 22 24 26 28 30 32 34 36 38 40 42 44 46 48 50 52 54 56 58 60 62 64 66 68 70 72 74 76 78 80 82 84 86 88 90 92 94 96 98 100 "
     ]
    }
   ],
   "source": [
    "#1. 2부터 100 사이의 모든 짝수를 출력하는 반복 루프를 작성한다. \n",
    "for i in range(2, 101, 2):\n",
    "    print(i, end=\" \")"
   ]
  },
  {
   "cell_type": "code",
   "execution_count": 65,
   "metadata": {},
   "outputs": [
    {
     "name": "stdout",
     "output_type": "stream",
     "text": [
      "11\n"
     ]
    }
   ],
   "source": [
    "#2. 어떤 사람이 복리이자율 7%로 1000만원을 저금했을 경우에 \n",
    "#2000만원이 되는데 몇 년이 걸리는지 계산하기 위하여 다음과 코드를 작성하였다. \n",
    "#잘못된 점은 없는지 체크해보자. \n",
    "year = 0\n",
    "balance = 1000\n",
    "\n",
    "while balance < 2000 :\n",
    "\tyear = year + 1\n",
    "\tinterest = balance * 0.07\n",
    "\tbalance = balance + interest\n",
    "print(year)"
   ]
  },
  {
   "cell_type": "code",
   "execution_count": 66,
   "metadata": {},
   "outputs": [
    {
     "name": "stdout",
     "output_type": "stream",
     "text": [
      "Hi !\n",
      "Hi !\n",
      "Hi !\n",
      "Hi !\n",
      "Hi !\n",
      "Hi !\n",
      "Hi !\n",
      "Hi !\n",
      "Hi !\n",
      "Hi !\n",
      "Hi !\n",
      "11\n"
     ]
    }
   ],
   "source": [
    "count = 0\n",
    "while count <= 10:\n",
    "\tprint(\"Hi !\")\n",
    "\tcount = count + 1\n",
    "print(count)"
   ]
  },
  {
   "cell_type": "code",
   "execution_count": 72,
   "metadata": {},
   "outputs": [
    {
     "name": "stdout",
     "output_type": "stream",
     "text": [
      "19\n"
     ]
    }
   ],
   "source": [
    "n = 6751\n",
    "sum = 0\n",
    "while n > 0 :\n",
    "    digit = n % 10\n",
    "    sum = sum + digit\n",
    "    n = n // 10 \n",
    "print(sum)"
   ]
  },
  {
   "cell_type": "code",
   "execution_count": 75,
   "metadata": {},
   "outputs": [
    {
     "name": "stdout",
     "output_type": "stream",
     "text": [
      "정수를 입력하시오:1\n",
      "정수를 입력하시오:2\n",
      "정수를 입력하시오:3\n",
      "정수를 입력하시오:0\n",
      "6\n"
     ]
    }
   ],
   "source": [
    "total = 0\n",
    "while True:\n",
    "    su = int(input(\"정수를 입력하시오:\"))\n",
    "    if su == 0:break\n",
    "    total += su\n",
    "    \n",
    "print(total)\n"
   ]
  },
  {
   "cell_type": "code",
   "execution_count": 83,
   "metadata": {},
   "outputs": [
    {
     "name": "stdout",
     "output_type": "stream",
     "text": [
      "정수를 입력하시오:10\n",
      "정수를 입력하시오:5\n",
      "5\n"
     ]
    }
   ],
   "source": [
    "min = 10\n",
    "del min\n",
    "\n",
    "su1 = int(input(\"정수를 입력하시오:\"))\n",
    "su2 = int(input(\"정수를 입력하시오:\"))\n",
    "su3 = min(su1, su2)\n",
    "for i in range(su3, 0, -1):\n",
    "    if su1 % i ==0 and su2 % i ==0:\n",
    "        break\n",
    "print(i)        "
   ]
  },
  {
   "cell_type": "code",
   "execution_count": 81,
   "metadata": {},
   "outputs": [
    {
     "name": "stdout",
     "output_type": "stream",
     "text": [
      "46.10464832285218\n"
     ]
    }
   ],
   "source": [
    "total=0\n",
    "for i in range(1,100,2):\n",
    "    total += i / (i+2)\n",
    "print(total)"
   ]
  },
  {
   "cell_type": "code",
   "execution_count": 96,
   "metadata": {},
   "outputs": [
    {
     "name": "stdout",
     "output_type": "stream",
     "text": [
      "첫번째: 6  두번째: 3\n",
      "첫번째:6 두번째:3\n",
      "---------첫번째:6 두번째:3\n",
      "첫번째: 3  두번째: 4\n",
      "첫번째:3 두번째:4\n",
      "---------첫번째:3 두번째:4\n",
      "첫번째: 4  두번째: 3\n",
      "첫번째:4 두번째:3\n",
      "---------첫번째:4 두번째:3\n",
      "첫번째: 1  두번째: 3\n",
      "첫번째:1 두번째:3\n",
      "---------첫번째:1 두번째:3\n",
      "첫번째: 4  두번째: 1\n",
      "첫번째:4 두번째:1\n",
      "---------첫번째:4 두번째:1\n",
      "첫번째: 5  두번째: 2\n",
      "첫번째:5 두번째:2\n",
      "---------첫번째:5 두번째:2\n",
      "첫번째: 4  두번째: 3\n",
      "첫번째:4 두번째:3\n",
      "---------첫번째:4 두번째:3\n",
      "첫번째: 2  두번째: 3\n",
      "첫번째:2 두번째:3\n",
      "---------첫번째:2 두번째:3\n",
      "첫번째: 5  두번째: 4\n",
      "첫번째:5 두번째:4\n",
      "---------첫번째:5 두번째:4\n",
      "첫번째: 2  두번째: 5\n",
      "첫번째:2 두번째:5\n",
      "---------첫번째:2 두번째:5\n"
     ]
    }
   ],
   "source": [
    "#import random\n",
    "from random import randint\n",
    "\n",
    "for i in range(0,10):\n",
    "    d1 = randint(1,6)\n",
    "    d2 = randint(1,6)\n",
    "    print(\"첫번째:\" , d1 , \" 두번째:\", d2)\n",
    "    print(\"첫번째:%d 두번째:%d\" %(d1 , d2))\n",
    "    print(\"---------첫번째:\" + str(d1) + \" 두번째:\"+ str(d2))"
   ]
  },
  {
   "cell_type": "code",
   "execution_count": 97,
   "metadata": {},
   "outputs": [
    {
     "data": {
      "text/plain": [
       "10"
      ]
     },
     "execution_count": 97,
     "metadata": {},
     "output_type": "execute_result"
    }
   ],
   "source": [
    "abs(-10)"
   ]
  },
  {
   "cell_type": "code",
   "execution_count": 99,
   "metadata": {},
   "outputs": [
    {
     "data": {
      "text/plain": [
       "('A', 'a')"
      ]
     },
     "execution_count": 99,
     "metadata": {},
     "output_type": "execute_result"
    }
   ],
   "source": [
    "chr(65), chr(97)"
   ]
  },
  {
   "cell_type": "code",
   "execution_count": 102,
   "metadata": {},
   "outputs": [
    {
     "data": {
      "text/plain": [
       "['__add__',\n",
       " '__class__',\n",
       " '__contains__',\n",
       " '__delattr__',\n",
       " '__dir__',\n",
       " '__doc__',\n",
       " '__eq__',\n",
       " '__format__',\n",
       " '__ge__',\n",
       " '__getattribute__',\n",
       " '__getitem__',\n",
       " '__getnewargs__',\n",
       " '__gt__',\n",
       " '__hash__',\n",
       " '__init__',\n",
       " '__init_subclass__',\n",
       " '__iter__',\n",
       " '__le__',\n",
       " '__len__',\n",
       " '__lt__',\n",
       " '__mod__',\n",
       " '__mul__',\n",
       " '__ne__',\n",
       " '__new__',\n",
       " '__reduce__',\n",
       " '__reduce_ex__',\n",
       " '__repr__',\n",
       " '__rmod__',\n",
       " '__rmul__',\n",
       " '__setattr__',\n",
       " '__sizeof__',\n",
       " '__str__',\n",
       " '__subclasshook__',\n",
       " 'capitalize',\n",
       " 'casefold',\n",
       " 'center',\n",
       " 'count',\n",
       " 'encode',\n",
       " 'endswith',\n",
       " 'expandtabs',\n",
       " 'find',\n",
       " 'format',\n",
       " 'format_map',\n",
       " 'index',\n",
       " 'isalnum',\n",
       " 'isalpha',\n",
       " 'isdecimal',\n",
       " 'isdigit',\n",
       " 'isidentifier',\n",
       " 'islower',\n",
       " 'isnumeric',\n",
       " 'isprintable',\n",
       " 'isspace',\n",
       " 'istitle',\n",
       " 'isupper',\n",
       " 'join',\n",
       " 'ljust',\n",
       " 'lower',\n",
       " 'lstrip',\n",
       " 'maketrans',\n",
       " 'partition',\n",
       " 'replace',\n",
       " 'rfind',\n",
       " 'rindex',\n",
       " 'rjust',\n",
       " 'rpartition',\n",
       " 'rsplit',\n",
       " 'rstrip',\n",
       " 'split',\n",
       " 'splitlines',\n",
       " 'startswith',\n",
       " 'strip',\n",
       " 'swapcase',\n",
       " 'title',\n",
       " 'translate',\n",
       " 'upper',\n",
       " 'zfill']"
      ]
     },
     "execution_count": 102,
     "metadata": {},
     "output_type": "execute_result"
    }
   ],
   "source": [
    "a=100\n",
    "b=\"파이썬\"\n",
    "dir(a)\n",
    "dir(b)"
   ]
  },
  {
   "cell_type": "code",
   "execution_count": 103,
   "metadata": {},
   "outputs": [
    {
     "data": {
      "text/plain": [
       "(5, 0)"
      ]
     },
     "execution_count": 103,
     "metadata": {},
     "output_type": "execute_result"
    }
   ],
   "source": [
    "a=10\n",
    "b=2\n",
    "divmod(a,b)"
   ]
  },
  {
   "cell_type": "code",
   "execution_count": 124,
   "metadata": {},
   "outputs": [],
   "source": [
    "a = enumerate([\"월\",\"화\",\"수\"])"
   ]
  },
  {
   "cell_type": "code",
   "execution_count": 125,
   "metadata": {},
   "outputs": [
    {
     "data": {
      "text/plain": [
       "[(0, '월'), (1, '화'), (2, '수')]"
      ]
     },
     "execution_count": 125,
     "metadata": {},
     "output_type": "execute_result"
    }
   ],
   "source": [
    "list(a)"
   ]
  },
  {
   "cell_type": "code",
   "execution_count": 126,
   "metadata": {},
   "outputs": [
    {
     "name": "stdout",
     "output_type": "stream",
     "text": [
      "0 월\n",
      "1 화\n",
      "2 수\n"
     ]
    }
   ],
   "source": [
    "for idx, val in enumerate([\"월\",\"화\",\"수\"]):\n",
    "    print(idx, val)"
   ]
  },
  {
   "cell_type": "code",
   "execution_count": 132,
   "metadata": {},
   "outputs": [
    {
     "data": {
      "text/plain": [
       "dict"
      ]
     },
     "execution_count": 132,
     "metadata": {},
     "output_type": "execute_result"
    }
   ],
   "source": [
    "a=10\n",
    "b=\"파이썬\"\n",
    "c=True\n",
    "d=[1,2,3,4,5]\n",
    "e = (1,2,3,4,5)\n",
    "f = {\"name\" : \"정\", \"subject\": \"python\"}\n",
    "type(a) #int\n",
    "type(b) #str\n",
    "type(c) #bool\n",
    "type(d)  #list\n",
    "type(e)  #tuple\n",
    "type(f)  #dict"
   ]
  },
  {
   "cell_type": "code",
   "execution_count": 134,
   "metadata": {},
   "outputs": [
    {
     "data": {
      "text/plain": [
       "[(1, 4), (2, 5), (3, 6)]"
      ]
     },
     "execution_count": 134,
     "metadata": {},
     "output_type": "execute_result"
    }
   ],
   "source": [
    "list(zip([1,2,3], [4,5,6]))"
   ]
  },
  {
   "cell_type": "code",
   "execution_count": 135,
   "metadata": {},
   "outputs": [],
   "source": [
    "def myprint(a,b,c):\n",
    "    print(\"첫번째=%d, 두번째=%d, 세번째=%d\" %(a,b,c))"
   ]
  },
  {
   "cell_type": "code",
   "execution_count": 140,
   "metadata": {},
   "outputs": [],
   "source": [
    "def myprint2( *args ):\n",
    "    print(\"첫번째=%d, 두번째=%d, 세번째=%d\" %(args[0],args[1],args[2]))\n",
    "    \n",
    "    for item in args:\n",
    "        print(item)"
   ]
  },
  {
   "cell_type": "code",
   "execution_count": null,
   "metadata": {},
   "outputs": [],
   "source": []
  },
  {
   "cell_type": "code",
   "execution_count": null,
   "metadata": {},
   "outputs": [],
   "source": []
  },
  {
   "cell_type": "code",
   "execution_count": null,
   "metadata": {},
   "outputs": [],
   "source": []
  },
  {
   "cell_type": "code",
   "execution_count": 137,
   "metadata": {},
   "outputs": [
    {
     "name": "stdout",
     "output_type": "stream",
     "text": [
      "첫번째=1, 두번째=2, 세번째=3\n",
      "첫번째=10, 두번째=20, 세번째=30\n"
     ]
    }
   ],
   "source": [
    "myprint(1,2,3)\n",
    "myprint(10,20,30)"
   ]
  },
  {
   "cell_type": "code",
   "execution_count": 142,
   "metadata": {},
   "outputs": [
    {
     "name": "stdout",
     "output_type": "stream",
     "text": [
      "첫번째=40, 두번째=50, 세번째=60\n",
      "40\n",
      "50\n",
      "60\n",
      "70\n",
      "80\n",
      "90\n"
     ]
    }
   ],
   "source": [
    "alist = [40,50,60,70,80,90]\n",
    "myprint2(*alist)"
   ]
  },
  {
   "cell_type": "code",
   "execution_count": 159,
   "metadata": {},
   "outputs": [],
   "source": [
    "def myrange( e, s=0,  step=1):\n",
    "    for val in range(s, e+1, step):\n",
    "        print(val)"
   ]
  },
  {
   "cell_type": "code",
   "execution_count": 162,
   "metadata": {},
   "outputs": [
    {
     "name": "stdout",
     "output_type": "stream",
     "text": [
      "2\n",
      "4\n",
      "6\n",
      "8\n",
      "10\n"
     ]
    }
   ],
   "source": [
    "myrange(10, 2, 2)"
   ]
  },
  {
   "cell_type": "code",
   "execution_count": null,
   "metadata": {},
   "outputs": [],
   "source": []
  },
  {
   "cell_type": "code",
   "execution_count": null,
   "metadata": {},
   "outputs": [],
   "source": []
  }
 ],
 "metadata": {
  "kernelspec": {
   "display_name": "encore3.6",
   "language": "python",
   "name": "encore"
  },
  "language_info": {
   "codemirror_mode": {
    "name": "ipython",
    "version": 3
   },
   "file_extension": ".py",
   "mimetype": "text/x-python",
   "name": "python",
   "nbconvert_exporter": "python",
   "pygments_lexer": "ipython3",
   "version": "3.6.8"
  }
 },
 "nbformat": 4,
 "nbformat_minor": 2
}
