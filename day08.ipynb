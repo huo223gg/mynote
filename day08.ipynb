{
 "cells": [
  {
   "cell_type": "code",
   "execution_count": null,
   "metadata": {},
   "outputs": [
    {
     "name": "stdout",
     "output_type": "stream",
     "text": [
      "1 페이지가 시작됨\n",
      "url: http://tour.interpark.com/goods/detail/?BaseGoodsCd=B3011450\n",
      "title: [맞춤 여행]서유럽 자유 여행 맞춤 견적 문의\n",
      "기간: 2019.02.21 [목] ~ 2019.02.21 [목]\n",
      "가격: 10,000\n"
     ]
    }
   ],
   "source": [
    "from selenium import webdriver\n",
    "import time\n",
    "from DBMgr import DBHelper\n",
    "from bs4 import BeautifulSoup\n",
    "import re\n",
    "\n",
    "db = DBHelper()\n",
    "\n",
    "\n",
    "browser = webdriver.Chrome(\"./chromedriver.exe\")\n",
    "url = \"http://tour.interpark.com/\"\n",
    "browser.get(url)\n",
    "browser.find_element_by_id(\"SearchGNBText\").clear()\n",
    "browser.find_element_by_id(\"SearchGNBText\").send_keys(\"유럽\")\n",
    "browser.find_element_by_css_selector(\".search-btn\").click()\n",
    "\n",
    "browser.implicitly_wait(10)\n",
    "browser.find_element_by_css_selector(\".moreBtn\").click()\n",
    "\n",
    "\n",
    "pages = 2\n",
    "for page in range(1,pages+1):\n",
    "    #자바스크립트 구동하기 : browser.execute_script()  \n",
    "    print(\"%d 페이지가 시작됨\" %page)\n",
    "    browser.execute_script(\"searchModule.SetCategoryList(%d, 'R')\" %page  )\n",
    "    html = browser.page_source\n",
    "    soup = BeautifulSoup(html, \"html.parser\")\n",
    "    selector = \"div.oTravelBox > ul > li\"\n",
    "    datas = browser.find_elements_by_css_selector(selector)\n",
    "    tour_list={}\n",
    "\n",
    "    for li in datas:    \n",
    "        title = li.find_element_by_css_selector(\"h5.proTit\").text.strip()\n",
    "        if not title:\n",
    "            title = li.find_element_by_css_selector(\"h5\").get_attribute(\"aria-label\")\n",
    "            \n",
    "        detail_str = li.find_element_by_css_selector(\"h5\").get_attribute(\"onclick\") #'URL', 'URL2'\n",
    "        detail_url = detail_str.split(\"'\")[1]   #aaaaa'URL1','URL2'  \n",
    "        tour_list[detail_url] = title\n",
    "\n",
    "    #상세보기\n",
    "    for detail_url, title in tour_list.items():\n",
    "        print(\"url:\", detail_url)\n",
    "        print(\"title:\", title)\n",
    "\n",
    "        browser.get(detail_url)\n",
    "        soup = BeautifulSoup(browser.page_source, \"html.parser\")\n",
    "        #가격과 일정을 가져온다. \n",
    "        period = soup.select_one(\"#dBody > div.default-section.goods-info > div.info-section > table > tbody > tr.period > td\").text\n",
    "        price = soup.select_one(\"#dBody > div:nth-child(3) > div.data-choice > div.total-price > p > strong > em\").text\n",
    "        period = re.findall('.*~.*]',period)[0].strip()\n",
    "        \n",
    "        print(\"기간:\" , period)\n",
    "        print(\"가격:\" , price)\n",
    "        \n",
    "        db.insert(title,url,period,price)\n",
    "        \n",
    "        print(\"--------------------------------------------\")\n",
    "        browser.back()\n",
    "\n",
    "    \n",
    "browser.quit()\n",
    "\n",
    "\n",
    "\n",
    "\n"
   ]
  },
  {
   "cell_type": "code",
   "execution_count": null,
   "metadata": {},
   "outputs": [],
   "source": []
  },
  {
   "cell_type": "code",
   "execution_count": 55,
   "metadata": {},
   "outputs": [
    {
     "data": {
      "text/plain": [
       "<module 'pymysql' from 'C:\\\\Users\\\\user\\\\Anaconda3\\\\envs\\\\encore\\\\lib\\\\site-packages\\\\pymysql\\\\__init__.py'>"
      ]
     },
     "execution_count": 55,
     "metadata": {},
     "output_type": "execute_result"
    }
   ],
   "source": [
    "import sys\n",
    "sys.modules[\"pymysql\"]\n",
    "#sys.modules[\"DBMgr\"]"
   ]
  },
  {
   "cell_type": "code",
   "execution_count": null,
   "metadata": {},
   "outputs": [],
   "source": [
    "#create database pythonDB"
   ]
  },
  {
   "cell_type": "code",
   "execution_count": 36,
   "metadata": {},
   "outputs": [],
   "source": [
    "import pymysql\n",
    "conn = pymysql.connect(host=\"localhost\", user=\"root\", password=\"1234\", db=\"pythonDB\",\n",
    "                      charset=\"utf8\")\n",
    "cur = conn.cursor()\n",
    "sql = \"\"\"\n",
    "     create table if not exists interparkTour ( \n",
    "       id int(10) not null auto_increment,\n",
    "       title varchar(100) ,\n",
    "       url varchar(100),\n",
    "       period varchar(50),\n",
    "       price varchar(20),\n",
    "       primary key(id) \n",
    "     ) default charset=utf8\n",
    "\n",
    "\"\"\"\n",
    "cur.execute(sql)\n",
    "conn.close()"
   ]
  },
  {
   "cell_type": "code",
   "execution_count": 1,
   "metadata": {},
   "outputs": [
    {
     "name": "stdout",
     "output_type": "stream",
     "text": [
      "Overwriting DBMgr.py\n"
     ]
    }
   ],
   "source": [
    "%%writefile DBMgr.py\n",
    "\n",
    "import pymysql\n",
    "class DBHelper:\n",
    "    conn = None\n",
    "    def __init__(self):\n",
    "        self.db_connect()\n",
    "    \n",
    "    def db_connect(self):\n",
    "        self.conn = pymysql.connect(host=\"localhost\", user=\"root\", password=\"1234\", db=\"pythonDB\",\n",
    "                      charset=\"utf8\")\n",
    "        \n",
    "    def db_disconnect(self):\n",
    "        if self.conn:\n",
    "            self.conn.close()\n",
    "            \n",
    "    def selectAll(self):\n",
    "        with self.conn.cursor() as cur:\n",
    "            sql = \"select * from interparkTour\"\n",
    "            cur.execute(sql)\n",
    "            rows = cur.fetchall()\n",
    "        return rows\n",
    "        \n",
    "    def insert(self,title, url, period, price):\n",
    "        with self.conn.cursor() as cur:\n",
    "            sql = \"\"\"\n",
    "                  insert into interparkTour(title, url, period, price) \n",
    "                  values(%s,%s,%s,%s)\n",
    "                  \"\"\"\n",
    "            cur.execute(sql,(title, url, period, price))\n",
    "        self.conn.commit()\n",
    "\n",
    "#현재class가 단독으로 실행할때만 수행한다. \n",
    "if __name__ == '__main__':\n",
    "        db = DBHelper()\n",
    "        db.insert('title sample','url sample','기간 sample','10000')\n",
    "        print(db.selectAll())\n",
    "        db.db_disconnect()"
   ]
  },
  {
   "cell_type": "code",
   "execution_count": null,
   "metadata": {},
   "outputs": [],
   "source": [
    "headers = {\"Referer\" : \"http://search-tour.interpark.com/PC/\", \"User-Agent\" : \"Mozilla/5.0 (Windows NT 10.0; Win64; x64) AppleWebKit/537.36 (KHTML, like Gecko) Chrome/72.0.3626.109 Safari/537.36\"}\n",
    "params = {\"word\" : \"유럽\", \"categorycode1\" : \"R\", \"offset\" : 1, \"pageSize\" : 20, \"filterFlag\" : \"false\"}\n",
    "\n",
    "response = requests.post(\"http://search-tour.interpark.com/Payco/Search/GetPaycoResultForCategory\", \n",
    "              headers = headers, params = params) \n",
    "\n",
    "#response.text\n",
    "jsonObj = response.json()\n",
    "datalist = jsonObj[\"datalist\"]\n",
    "for row in datalist:\n",
    "    print(\"상품명:\", row[\"goodsname\"])\n",
    "    print(\"출발일:\", row[\"startdate\"])\n",
    "    print(\"도착일:\", row[\"enddate\"])\n",
    "    print(\"상세보기:\", row[\"goodsurl\"])\n",
    "    print(\"가격:\", row[\"price\"])\n",
    "    print(\"----------------------------------\")"
   ]
  },
  {
   "cell_type": "code",
   "execution_count": null,
   "metadata": {},
   "outputs": [],
   "source": [
    "import requests, json, locale\n",
    "\n",
    "def getObject(source, keySet) :\n",
    "    obj = source\n",
    "    for key in keySet:\n",
    "        obj = obj.get(key)\n",
    "    return obj\n",
    "\n",
    "def getAttrs(rows, attrSet) :\n",
    "    tuples = []\n",
    "    for row in rows:\n",
    "        tuple =  {}\n",
    "        for attr in attrSet :\n",
    "            tuple.update({attr:row.get(attr)})\n",
    "        tuples.append(tuple)     \n",
    "    return tuples\n",
    "\n",
    "headers = {\"Referer\" : \"http://search-tour.interpark.com/PC/\", \"User-Agent\" : \"Mozilla/5.0 (Windows NT 10.0; Win64; x64) AppleWebKit/537.36 (KHTML, like Gecko) Chrome/72.0.3626.109 Safari/537.36\"}\n",
    "params = {\"word\" : \"유럽\", \"categorycode1\" : \"R\", \"offset\" : 1, \"pageSize\" : 1000000, \"filterFlag\" : \"false\"}\n",
    "with requests.post(\"http://search-tour.interpark.com/Payco/Search/GetPaycoResultForCategory\", headers = headers, params = params) as response :\n",
    "    datalist = getObject(json.loads(response.text), [\"datalist\"])\n",
    "    locale.setlocale(locale.LC_ALL, '') \n",
    "    for idx, data in enumerate(datalist) :\n",
    "        print(\"---------- {}. {} ----------\".format(idx+1, data[\"goodsname\"]))\n",
    "        print(\"airline: {}\\nprice: \\ {}\\ngoodsurl: {}\\ntripday: {}\\ncontent:{}\".format(data[\"airline\"], locale.format('%.3d', float(data[\"price\"]), 1), data[\"goodsurl\"], data[\"tripday\"], data[\"content1\"]))\n",
    "        print()\n",
    "        #db.insert(data[\"goodsname\"], data[\"goodsurl\"], data[\"tripday\"], locale.format('%.3d', float(data[\"price\"]), 1))"
   ]
  },
  {
   "cell_type": "markdown",
   "metadata": {},
   "source": [
    "# Numpy"
   ]
  },
  {
   "cell_type": "code",
   "execution_count": 71,
   "metadata": {},
   "outputs": [
    {
     "data": {
      "text/plain": [
       "<module 'numpy' from 'C:\\\\Users\\\\user\\\\Anaconda3\\\\envs\\\\encore\\\\lib\\\\site-packages\\\\numpy\\\\__init__.py'>"
      ]
     },
     "execution_count": 71,
     "metadata": {},
     "output_type": "execute_result"
    }
   ],
   "source": [
    "import numpy as np\n",
    "import imp\n",
    "imp.reload(numpy)"
   ]
  },
  {
   "cell_type": "code",
   "execution_count": 108,
   "metadata": {},
   "outputs": [
    {
     "name": "stdout",
     "output_type": "stream",
     "text": [
      "Requirement already satisfied: numpy in c:\\users\\user\\anaconda3\\envs\\encore\\lib\\site-packages (1.16.1)\n"
     ]
    }
   ],
   "source": [
    "!pip install numpy"
   ]
  },
  {
   "cell_type": "code",
   "execution_count": 72,
   "metadata": {},
   "outputs": [
    {
     "name": "stdout",
     "output_type": "stream",
     "text": [
      "arr= [3.14 2.   3.   4.   5.  ]\n",
      "arr type= <class 'numpy.ndarray'>\n",
      "arr value= 3.14\n",
      "arr value= <class 'numpy.float64'>\n",
      "arr value= 2.0\n",
      "arr value= <class 'numpy.float64'>\n"
     ]
    }
   ],
   "source": [
    "#numpy의 배열은 동일타입의 값들의 모임 \n",
    "#첫번째의 데이타의 타입으로 dtype이 결정된다. \n",
    "arr = np.array([1,2,3,4,5])\n",
    "arr = np.array(['1',2,3,4,5])\n",
    "arr = np.array([3.14,2,3,4,5])\n",
    "print(\"arr=\", arr)\n",
    "print(\"arr type=\", type(arr))\n",
    "print(\"arr value=\", arr[0])\n",
    "print(\"arr value=\", type(arr[0]))  #dtype\n",
    "print(\"arr value=\", arr[1])\n",
    "print(\"arr value=\", type(arr[1]))  #dtype"
   ]
  },
  {
   "cell_type": "code",
   "execution_count": 73,
   "metadata": {},
   "outputs": [
    {
     "data": {
      "text/plain": [
       "4.430205763026089"
      ]
     },
     "execution_count": 73,
     "metadata": {},
     "output_type": "execute_result"
    }
   ],
   "source": [
    "import timeit\n",
    "\n",
    "def f():\n",
    "    data = [1,2,3,4,5,6,7,8,9,10]\n",
    "    answer = []\n",
    "    for i in data:\n",
    "        answer.append(i**2)\n",
    "\n",
    "timeit.timeit(f)"
   ]
  },
  {
   "cell_type": "code",
   "execution_count": 75,
   "metadata": {},
   "outputs": [
    {
     "data": {
      "text/plain": [
       "3.6241874918584074"
      ]
     },
     "execution_count": 75,
     "metadata": {},
     "output_type": "execute_result"
    }
   ],
   "source": [
    "import timeit\n",
    "\n",
    "def f():\n",
    "    data = np.array([1,2,3,4,5,6,7,8,9,10])\n",
    "    answer = data ** 2\n",
    "\n",
    "timeit.timeit(f)"
   ]
  },
  {
   "cell_type": "code",
   "execution_count": 76,
   "metadata": {},
   "outputs": [
    {
     "data": {
      "text/plain": [
       "3.574375810620211"
      ]
     },
     "execution_count": 76,
     "metadata": {},
     "output_type": "execute_result"
    }
   ],
   "source": [
    "timeit.timeit('[i**2 for i in arr]', setup='arr=range(10)')"
   ]
  },
  {
   "cell_type": "code",
   "execution_count": 78,
   "metadata": {},
   "outputs": [
    {
     "data": {
      "text/plain": [
       "0.6309292091367524"
      ]
     },
     "execution_count": 78,
     "metadata": {},
     "output_type": "execute_result"
    }
   ],
   "source": [
    "timeit.timeit('arr**2', setup='import numpy as np;arr=np.arange(10)')"
   ]
  },
  {
   "cell_type": "code",
   "execution_count": null,
   "metadata": {},
   "outputs": [],
   "source": [
    "#벡터화 연산"
   ]
  },
  {
   "cell_type": "code",
   "execution_count": 79,
   "metadata": {},
   "outputs": [
    {
     "data": {
      "text/plain": [
       "array([10, 40, 90])"
      ]
     },
     "execution_count": 79,
     "metadata": {},
     "output_type": "execute_result"
    }
   ],
   "source": [
    "arr2 = np.array([1,2,3])\n",
    "arr3 = np.array([10,20,30])\n",
    "arr2 * arr3"
   ]
  },
  {
   "cell_type": "code",
   "execution_count": 80,
   "metadata": {},
   "outputs": [
    {
     "data": {
      "text/plain": [
       "array([False,  True, False])"
      ]
     },
     "execution_count": 80,
     "metadata": {},
     "output_type": "execute_result"
    }
   ],
   "source": [
    "arr2 == 2"
   ]
  },
  {
   "cell_type": "code",
   "execution_count": 83,
   "metadata": {},
   "outputs": [
    {
     "data": {
      "text/plain": [
       "array([False,  True, False])"
      ]
     },
     "execution_count": 83,
     "metadata": {},
     "output_type": "execute_result"
    }
   ],
   "source": [
    "(arr2 == 2 ) | (arr3 >= 20)\n",
    "(arr2 == 2 ) & (arr3 >= 20)"
   ]
  },
  {
   "cell_type": "code",
   "execution_count": 84,
   "metadata": {},
   "outputs": [
    {
     "data": {
      "text/plain": [
       "array([11, 12, 13])"
      ]
     },
     "execution_count": 84,
     "metadata": {},
     "output_type": "execute_result"
    }
   ],
   "source": [
    "arr2 + 10"
   ]
  },
  {
   "cell_type": "code",
   "execution_count": 88,
   "metadata": {},
   "outputs": [
    {
     "name": "stdout",
     "output_type": "stream",
     "text": [
      "차원: 1\n",
      "shape: (4,)\n",
      "shape: 4\n",
      "개수: 4\n"
     ]
    }
   ],
   "source": [
    "#1차원\n",
    "A = np.array([1,2,3,4])\n",
    "print(\"차원:\" , A.ndim)\n",
    "print(\"shape:\" , A.shape) #(4,)  (4,3), (4,3,5)\n",
    "print(\"shape:\" , A.shape[0])\n",
    "print(\"개수:\" , len(A))"
   ]
  },
  {
   "cell_type": "code",
   "execution_count": 91,
   "metadata": {},
   "outputs": [
    {
     "data": {
      "text/plain": [
       "tuple"
      ]
     },
     "execution_count": 91,
     "metadata": {},
     "output_type": "execute_result"
    }
   ],
   "source": [
    "a = (1,)\n",
    "type(a)"
   ]
  },
  {
   "cell_type": "code",
   "execution_count": 93,
   "metadata": {},
   "outputs": [
    {
     "name": "stdout",
     "output_type": "stream",
     "text": [
      "차원: 2\n",
      "shape: (1, 4)\n",
      "shape: 1\n",
      "shape: 4\n",
      "행의 개수: 1\n",
      "열의 개수: 4\n"
     ]
    }
   ],
   "source": [
    "#2차원\n",
    "A = np.array([[1,2,3,4]])\n",
    "print(\"차원:\" , A.ndim)\n",
    "print(\"shape:\" , A.shape) #(4,)  (4,3), (4,3,5)\n",
    "print(\"shape:\" , A.shape[0]) #행\n",
    "print(\"shape:\" , A.shape[1]) #열 \n",
    "print(\"행의 개수:\" , len(A))\n",
    "print(\"열의 개수:\" , len(A[0]))"
   ]
  },
  {
   "cell_type": "code",
   "execution_count": 103,
   "metadata": {},
   "outputs": [
    {
     "name": "stdout",
     "output_type": "stream",
     "text": [
      "차원 B.ndim= 2\n",
      "B.shape= (3, 4)\n",
      "B.shape= 3\n",
      "B.shape= 4\n",
      "행의개수 = 3\n",
      "열의 개수 = 4\n"
     ]
    },
    {
     "data": {
      "text/plain": [
       "array([[1, 2, 3, 4],\n",
       "       [5, 6, 7, 8],\n",
       "       [7, 8, 9, 9]])"
      ]
     },
     "execution_count": 103,
     "metadata": {},
     "output_type": "execute_result"
    }
   ],
   "source": [
    "#정방 \n",
    "B = np.array([[1,2,3,4],[5,6,7,8],[7,8,9, 9]])\n",
    "print(\"차원 B.ndim=\", B.ndim)\n",
    "print(\"B.shape=\", B.shape)\n",
    "print(\"B.shape=\", B.shape[0])\n",
    "print(\"B.shape=\", B.shape[1])\n",
    "print(\"행의개수 =\", len(B))\n",
    "print(\"열의 개수 =\", len(B[0]))\n",
    "B"
   ]
  },
  {
   "cell_type": "code",
   "execution_count": 102,
   "metadata": {},
   "outputs": [
    {
     "name": "stdout",
     "output_type": "stream",
     "text": [
      "차원 B.ndim= 3\n",
      "B.shape= (2, 3, 4)\n",
      "B.shape= 2\n",
      "B.shape= 3\n",
      "B.shape= 4\n",
      "면의개수 = 2\n",
      "행의 개수 = 3\n",
      "열의 개수 = 4\n"
     ]
    },
    {
     "data": {
      "text/plain": [
       "array([[[1, 2, 3, 4],\n",
       "        [5, 6, 7, 8],\n",
       "        [7, 8, 9, 9]],\n",
       "\n",
       "       [[1, 2, 3, 4],\n",
       "        [5, 6, 7, 8],\n",
       "        [7, 8, 9, 9]]])"
      ]
     },
     "execution_count": 102,
     "metadata": {},
     "output_type": "execute_result"
    }
   ],
   "source": [
    "#정방 \n",
    "B = np.array([[[1,2,3,4],[5,6,7,8],[7,8,9, 9]],[[1,2,3,4],[5,6,7,8],[7,8,9, 9]]])\n",
    "print(\"차원 B.ndim=\", B.ndim)\n",
    "print(\"B.shape=\", B.shape)\n",
    "print(\"B.shape=\", B.shape[0])\n",
    "print(\"B.shape=\", B.shape[1])\n",
    "print(\"B.shape=\", B.shape[2])\n",
    "print(\"면의개수 =\", len(B))\n",
    "print(\"행의 개수 =\", len(B[0]))\n",
    "print(\"열의 개수 =\", len(B[0][0]))\n",
    "B\n"
   ]
  },
  {
   "cell_type": "code",
   "execution_count": 107,
   "metadata": {},
   "outputs": [
    {
     "name": "stdout",
     "output_type": "stream",
     "text": [
      "ndim= 1\n",
      "[1 2 3 4 5]\n",
      "ndim= 2\n",
      "[[1 2 3 4 5]]\n"
     ]
    }
   ],
   "source": [
    "A = np.array([1,2,3,4,5])\n",
    "print(\"ndim=\", A.ndim)\n",
    "print(A)\n",
    "\n",
    "A.shape = 1,5\n",
    "print(\"ndim=\", A.ndim)\n",
    "print(A)"
   ]
  },
  {
   "cell_type": "code",
   "execution_count": 14,
   "metadata": {},
   "outputs": [
    {
     "name": "stdout",
     "output_type": "stream",
     "text": [
      "0 1\n",
      "1 2\n",
      "2 3\n",
      "3 4\n",
      "4 5\n",
      "********************************************************************************\n",
      "0 --> 1\n",
      "1 --> 2\n",
      "2 --> 3\n",
      "3 --> 4\n",
      "4 --> 5\n",
      "********************************************************************************\n",
      "(5,)\n",
      "0 --> 1\n",
      "1 --> 2\n",
      "2 --> 3\n",
      "3 --> 4\n",
      "4 --> 5\n"
     ]
    }
   ],
   "source": [
    "#1차원\n",
    "import numpy as np\n",
    "arr = np.array([1,2,3,4,5])\n",
    "for idx, data in enumerate(arr):\n",
    "    print(idx, data)\n",
    "print(\"*\"*80)\n",
    "\n",
    "for idx in range(len(arr)):\n",
    "    print(idx, '-->', arr[idx])\n",
    "print(\"*\"*80)\n",
    "\n",
    "print(arr.shape)\n",
    "\n",
    "for idx in range(arr.shape[0]):\n",
    "    print(idx, '-->', arr[idx])"
   ]
  },
  {
   "cell_type": "code",
   "execution_count": 3,
   "metadata": {},
   "outputs": [
    {
     "data": {
      "text/plain": [
       "<enumerate at 0x249c3285678>"
      ]
     },
     "execution_count": 3,
     "metadata": {},
     "output_type": "execute_result"
    }
   ],
   "source": [
    "enumerate(np.array([1,2,3,4,5]))"
   ]
  },
  {
   "cell_type": "code",
   "execution_count": 23,
   "metadata": {},
   "outputs": [
    {
     "name": "stdout",
     "output_type": "stream",
     "text": [
      "arr[0][0]=1   arr[0][1]=2   arr[0][2]=3   arr[0][3]=4   arr[0][4]=5   \n",
      "arr[1][0]=6   arr[1][1]=7   arr[1][2]=8   arr[1][3]=9   arr[1][4]=10   \n",
      "********************************************************************************\n",
      "arr[0][0]=1 arr[0][1]=2 arr[0][2]=3 arr[0][3]=4 arr[0][4]=5 \n",
      "arr[1][0]=6 arr[1][1]=7 arr[1][2]=8 arr[1][3]=9 arr[1][4]=10 \n",
      "********************************************************************************\n",
      "arr[0][0]=1 arr[0][1]=2 arr[0][2]=3 arr[0][3]=4 arr[0][4]=5 \n",
      "arr[1][0]=6 arr[1][1]=7 arr[1][2]=8 arr[1][3]=9 arr[1][4]=10 \n"
     ]
    }
   ],
   "source": [
    "#2차원\n",
    "import numpy as np\n",
    "\n",
    "arr = np.array([[1,2,3,4,5], [6,7,8,9,10]])\n",
    "for idx, data in enumerate(arr):\n",
    "    for idx2, data2 in enumerate(data):\n",
    "        print(\"arr[{}][{}]={} \".format(idx, idx2, data2), end=\"  \")\n",
    "    print()\n",
    "print(\"*\"*80)\n",
    "##################################################################\n",
    "for idx in range(len(arr)):\n",
    "    for idx2 in range(len(arr[idx])):\n",
    "        print(\"arr[{}][{}]={}\".format(idx, idx2, arr[idx][idx2]) , end=\" \")\n",
    "    print()\n",
    "print(\"*\"*80)\n",
    "\n",
    "# print(arr.shape) #2,4\n",
    "\n",
    "for idx in range(arr.shape[0]):\n",
    "    for idx2 in range(arr.shape[1]):\n",
    "        print(\"arr[{}][{}]={}\".format(idx, idx2, arr[idx][idx2]) , end=\" \")\n",
    "    print()"
   ]
  },
  {
   "cell_type": "code",
   "execution_count": 26,
   "metadata": {},
   "outputs": [
    {
     "name": "stdout",
     "output_type": "stream",
     "text": [
      "arr[0][0][0]=1   arr[0][0][1]=2   arr[0][0][2]=3   arr[0][0][3]=4   arr[0][0][4]=5   \n",
      "arr[0][1][0]=6   arr[0][1][1]=7   arr[0][1][2]=8   arr[0][1][3]=9   arr[0][1][4]=10   \n",
      "\n",
      "arr[1][0][0]=1   arr[1][0][1]=2   arr[1][0][2]=3   arr[1][0][3]=4   arr[1][0][4]=5   \n",
      "arr[1][1][0]=6   arr[1][1][1]=7   arr[1][1][2]=8   arr[1][1][3]=9   arr[1][1][4]=10   \n",
      "\n",
      "arr[2][0][0]=1   arr[2][0][1]=2   arr[2][0][2]=3   arr[2][0][3]=4   arr[2][0][4]=5   \n",
      "arr[2][1][0]=6   arr[2][1][1]=7   arr[2][1][2]=8   arr[2][1][3]=9   arr[2][1][4]=10   \n",
      "\n",
      "********************************************************************************\n",
      "arr[0][0][0]=1 arr[0][0][1]=2 arr[0][0][2]=3 arr[0][0][3]=4 arr[0][0][4]=5 \n",
      "arr[0][1][0]=6 arr[0][1][1]=7 arr[0][1][2]=8 arr[0][1][3]=9 arr[0][1][4]=10 \n",
      "\n",
      "arr[1][0][0]=1 arr[1][0][1]=2 arr[1][0][2]=3 arr[1][0][3]=4 arr[1][0][4]=5 \n",
      "arr[1][1][0]=6 arr[1][1][1]=7 arr[1][1][2]=8 arr[1][1][3]=9 arr[1][1][4]=10 \n",
      "\n",
      "arr[2][0][0]=1 arr[2][0][1]=2 arr[2][0][2]=3 arr[2][0][3]=4 arr[2][0][4]=5 \n",
      "arr[2][1][0]=6 arr[2][1][1]=7 arr[2][1][2]=8 arr[2][1][3]=9 arr[2][1][4]=10 \n",
      "\n"
     ]
    }
   ],
   "source": [
    "#2차원\n",
    "import numpy as np\n",
    "\n",
    "alist = [[[1,2,3,4,5],[6,7,8,9,10]],[[1,2,3,4,5],[6,7,8,9,10]],[[1,2,3,4,5],[6,7,8,9,10]]]\n",
    "\n",
    "arr = np.array(alist)\n",
    "for idx, data in enumerate(arr):\n",
    "    for idx2, data2 in enumerate(data):\n",
    "        for idx3, data3 in enumerate(data2):\n",
    "            print(\"arr[{}][{}][{}]={} \".format(idx, idx2, idx3,  data3), end=\"  \")\n",
    "        print()\n",
    "    print()\n",
    "print(\"*\"*80)\n",
    "##################################################################\n",
    "# for idx in range(len(arr)):\n",
    "#     for idx2 in range(len(arr[idx])):\n",
    "#         print(\"arr[{}][{}]={}\".format(idx, idx2, arr[idx][idx2]) , end=\" \")\n",
    "#     print()\n",
    "# print(\"*\"*80)\n",
    "\n",
    "# # print(arr.shape) #3,2,5\n",
    "\n",
    "for idx in range(arr.shape[0]):\n",
    "    for idx2 in range(arr.shape[1]):\n",
    "        for idx3 in range(arr.shape[2]):\n",
    "            print(\"arr[{}][{}][{}]={}\".format(idx, idx2,idx3,  arr[idx][idx2][idx3]) , end=\" \")\n",
    "        print()\n",
    "    print()"
   ]
  },
  {
   "cell_type": "code",
   "execution_count": 35,
   "metadata": {},
   "outputs": [
    {
     "name": "stdout",
     "output_type": "stream",
     "text": [
      "<class 'int'> False\n",
      "<class 'numpy.int32'> True\n"
     ]
    },
    {
     "data": {
      "text/plain": [
       "array([11, 12, 13])"
      ]
     },
     "execution_count": 35,
     "metadata": {},
     "output_type": "execute_result"
    }
   ],
   "source": [
    "arr = np.array([1,2,3,4,5])\n",
    "type(arr)\n",
    "type(arr[0])\n",
    "arr.dtype\n",
    "\n",
    "\n",
    "#파이썬의 int객체 \n",
    "a=10\n",
    "print(type(a), isinstance(a, np.generic))\n",
    "#numpy의 스칼라객체 \n",
    "a= np.int32(10)\n",
    "print(type(a), isinstance(a, np.generic))\n",
    "\n",
    "a + [1,2,3]\n"
   ]
  },
  {
   "cell_type": "code",
   "execution_count": 42,
   "metadata": {},
   "outputs": [
    {
     "name": "stdout",
     "output_type": "stream",
     "text": [
      "<class 'numpy.ndarray'> [11 21 31] (3,) 1\n"
     ]
    }
   ],
   "source": [
    "arr = np.int32(1) + [10,20,30]\n",
    "print(type(arr), arr, arr.shape, arr.ndim)\n"
   ]
  },
  {
   "cell_type": "code",
   "execution_count": 43,
   "metadata": {},
   "outputs": [
    {
     "name": "stdout",
     "output_type": "stream",
     "text": [
      "<class 'numpy.ndarray'> [11 12 13] (3,) 1\n"
     ]
    }
   ],
   "source": [
    "#브로드캐스팅 \n",
    "arr = np.array([1,2,3]) + 10\n",
    "print(type(arr), arr, arr.shape, arr.ndim)\n"
   ]
  },
  {
   "cell_type": "code",
   "execution_count": 58,
   "metadata": {},
   "outputs": [
    {
     "name": "stdout",
     "output_type": "stream",
     "text": [
      "[0 0 0 0 0] 1 <class 'numpy.ndarray'> (5,) int64\n",
      "[2147483648          0          0          0          0]\n"
     ]
    }
   ],
   "source": [
    "A = np.zeros(5, dtype= np.int64)  #int32  생략하면 float64\n",
    "print(A, A.ndim, type(A), A.shape, A.dtype)\n",
    "A[0]= 2147483648\n",
    "print(A)"
   ]
  },
  {
   "cell_type": "code",
   "execution_count": 55,
   "metadata": {},
   "outputs": [
    {
     "name": "stdout",
     "output_type": "stream",
     "text": [
      "['' '' '' '' ''] 1 <class 'numpy.ndarray'> (5,) <U4\n",
      "['파이썬입' '' '' '' '']\n"
     ]
    }
   ],
   "source": [
    "A = np.zeros(5, dtype=\"U4\")  # U:Unicode 1자, U4:4문자     i : int32  생략하면 float64\n",
    "print(A, A.ndim, type(A), A.shape, A.dtype)\n",
    "A[0] = \"파이썬입니다.\"\n",
    "print(A)"
   ]
  },
  {
   "cell_type": "code",
   "execution_count": 49,
   "metadata": {},
   "outputs": [
    {
     "name": "stdout",
     "output_type": "stream",
     "text": [
      "[[0. 0. 0.]\n",
      " [0. 0. 0.]] 2 <class 'numpy.ndarray'> (2, 3) float64\n"
     ]
    }
   ],
   "source": [
    "A = np.zeros((2,3))\n",
    "print(A, A.ndim, type(A), A.shape, A.dtype)"
   ]
  },
  {
   "cell_type": "code",
   "execution_count": 50,
   "metadata": {},
   "outputs": [
    {
     "name": "stdout",
     "output_type": "stream",
     "text": [
      "[[0 0 0]\n",
      " [0 0 0]] 2 <class 'numpy.ndarray'> (2, 3) int64\n"
     ]
    }
   ],
   "source": [
    "A = np.zeros((2,3), dtype=np.int64)\n",
    "print(A, A.ndim, type(A), A.shape, A.dtype)"
   ]
  },
  {
   "cell_type": "code",
   "execution_count": 47,
   "metadata": {},
   "outputs": [
    {
     "name": "stdout",
     "output_type": "stream",
     "text": [
      "[[1. 1. 1.]\n",
      " [1. 1. 1.]] 2 <class 'numpy.ndarray'> (2, 3) float64\n"
     ]
    }
   ],
   "source": [
    "A = np.ones((2,3))\n",
    "print(A, A.ndim, type(A), A.shape, A.dtype)"
   ]
  },
  {
   "cell_type": "code",
   "execution_count": 59,
   "metadata": {},
   "outputs": [
    {
     "name": "stdout",
     "output_type": "stream",
     "text": [
      "[[[1. 1. 1. 1.]\n",
      "  [1. 1. 1. 1.]\n",
      "  [1. 1. 1. 1.]]\n",
      "\n",
      " [[1. 1. 1. 1.]\n",
      "  [1. 1. 1. 1.]\n",
      "  [1. 1. 1. 1.]]] 3 <class 'numpy.ndarray'> (2, 3, 4) float64\n"
     ]
    }
   ],
   "source": [
    "A = np.ones((2,3,4))\n",
    "print(A, A.ndim, type(A), A.shape, A.dtype)"
   ]
  },
  {
   "cell_type": "code",
   "execution_count": 62,
   "metadata": {},
   "outputs": [
    {
     "name": "stdout",
     "output_type": "stream",
     "text": [
      "[[[1. 1. 1. 1.]\n",
      "  [1. 1. 1. 1.]\n",
      "  [1. 1. 1. 1.]]\n",
      "\n",
      " [[1. 1. 1. 1.]\n",
      "  [1. 1. 1. 1.]\n",
      "  [1. 1. 1. 1.]]] 3 <class 'numpy.ndarray'> (2, 3, 4) float64\n"
     ]
    }
   ],
   "source": [
    "C = np.empty((2,3,4))\n",
    "print(C, C.ndim, type(C), C.shape, C.dtype)"
   ]
  },
  {
   "cell_type": "code",
   "execution_count": 67,
   "metadata": {},
   "outputs": [
    {
     "name": "stdout",
     "output_type": "stream",
     "text": [
      "[[[1.24290579e-311 4.84184333e-322 0.00000000e+000]\n",
      "  [0.00000000e+000 1.33508845e-306 1.16095484e-028]\n",
      "  [5.28595592e-085 4.48036926e-067 4.07175423e+223]]\n",
      "\n",
      " [[1.79383360e-095 1.10156806e-094 6.37290108e-110]\n",
      "  [2.16209973e+233 1.12959198e+277 8.93176403e+271]\n",
      "  [4.98131536e+151 1.78820115e-047 6.89805151e-307]]] 3 <class 'numpy.ndarray'> (2, 3, 3) float64\n"
     ]
    }
   ],
   "source": [
    "C = np.empty((2,3,3))\n",
    "print(C, C.ndim, type(C), C.shape, C.dtype)"
   ]
  },
  {
   "cell_type": "code",
   "execution_count": 76,
   "metadata": {},
   "outputs": [
    {
     "name": "stdout",
     "output_type": "stream",
     "text": [
      "[0.1 0.2 0.3 0.4 0.5 0.6 0.7 0.8 0.9 1.  1.1 1.2 1.3 1.4 1.5 1.6 1.7 1.8\n",
      " 1.9 2.  2.1 2.2 2.3 2.4] 24\n"
     ]
    }
   ],
   "source": [
    "np.arange(10)\n",
    "np.arange(0,10,1)\n",
    "A = np.arange(0,50,10)\n",
    "A = np.arange(0, 1, 0.2)\n",
    "A = np.arange(0.1, 2.5, 0.1)\n",
    "print(A, A.size)"
   ]
  },
  {
   "cell_type": "code",
   "execution_count": 81,
   "metadata": {},
   "outputs": [
    {
     "data": {
      "text/plain": [
       "array([ 1.,  2.,  3.,  4.,  5.,  6.,  7.,  8.,  9., 10.])"
      ]
     },
     "execution_count": 81,
     "metadata": {},
     "output_type": "execute_result"
    }
   ],
   "source": [
    "np.linspace(1, 10, 10)"
   ]
  },
  {
   "cell_type": "code",
   "execution_count": 89,
   "metadata": {},
   "outputs": [
    {
     "name": "stdout",
     "output_type": "stream",
     "text": [
      "[99  1  2  3  4  5  6  7  8  9 10 11 12 13 14 15] <class 'numpy.ndarray'> 1 None False\n"
     ]
    }
   ],
   "source": [
    "A = np.arange(16)\n",
    "A[0] = 99\n",
    "print(A, type(A), A.ndim, A.base, A.base is B)\n"
   ]
  },
  {
   "cell_type": "code",
   "execution_count": 91,
   "metadata": {},
   "outputs": [
    {
     "name": "stdout",
     "output_type": "stream",
     "text": [
      "[[99  1  2  3]\n",
      " [ 4  5  6  7]\n",
      " [ 8  9 10 11]\n",
      " [12 13 14 15]] <class 'numpy.ndarray'> 2 [99  1  2  3  4  5  6  7  8  9 10 11 12 13 14 15] True\n"
     ]
    }
   ],
   "source": [
    "B = A.reshape(4,4)\n",
    "print(B, type(B), B.ndim, B.base, B.base is A)"
   ]
  },
  {
   "cell_type": "code",
   "execution_count": 93,
   "metadata": {},
   "outputs": [
    {
     "name": "stdout",
     "output_type": "stream",
     "text": [
      "[[99 88  2  3]\n",
      " [ 4  5  6  7]\n",
      " [ 8  9 10 11]\n",
      " [12 13 14 15]] <class 'numpy.ndarray'> 2 [99 88  2  3  4  5  6  7  8  9 10 11 12 13 14 15] True\n",
      "[99 88  2  3  4  5  6  7  8  9 10 11 12 13 14 15]\n"
     ]
    }
   ],
   "source": [
    "B[0][1] = 88\n",
    "print(B, type(B), B.ndim, B.base, B.base is A)\n",
    "print(A)"
   ]
  },
  {
   "cell_type": "code",
   "execution_count": 98,
   "metadata": {},
   "outputs": [
    {
     "data": {
      "text/plain": [
       "array([ 0,  1,  2,  3,  4,  5,  6,  7,  8,  9, 10, 11, 12, 13, 14, 15])"
      ]
     },
     "execution_count": 98,
     "metadata": {},
     "output_type": "execute_result"
    }
   ],
   "source": [
    "A = np.arange(16)\n",
    "A"
   ]
  },
  {
   "cell_type": "code",
   "execution_count": 99,
   "metadata": {},
   "outputs": [
    {
     "name": "stdout",
     "output_type": "stream",
     "text": [
      "[ 0  1  2  3  4  5  6  7  8  9 10 11 12 13 14 15]\n",
      "[[99 99 99 99 99 99 99 99]\n",
      " [ 8  9 10 11 12 13 14 15]]\n"
     ]
    }
   ],
   "source": [
    "B = A.reshape(2,8).copy()\n",
    "B[0]=99\n",
    "print(A)\n",
    "print(B)"
   ]
  },
  {
   "cell_type": "code",
   "execution_count": 100,
   "metadata": {},
   "outputs": [
    {
     "data": {
      "text/plain": [
       "array([[ 0,  1,  2,  3],\n",
       "       [ 4,  5,  6,  7],\n",
       "       [ 8,  9, 10, 11],\n",
       "       [12, 13, 14, 15]])"
      ]
     },
     "execution_count": 100,
     "metadata": {},
     "output_type": "execute_result"
    }
   ],
   "source": [
    "A = np.arange(16)\n",
    "B = A.reshape(4, -1)\n",
    "B"
   ]
  },
  {
   "cell_type": "code",
   "execution_count": 101,
   "metadata": {},
   "outputs": [
    {
     "data": {
      "text/plain": [
       "array([[ 0,  1],\n",
       "       [ 2,  3],\n",
       "       [ 4,  5],\n",
       "       [ 6,  7],\n",
       "       [ 8,  9],\n",
       "       [10, 11],\n",
       "       [12, 13],\n",
       "       [14, 15]])"
      ]
     },
     "execution_count": 101,
     "metadata": {},
     "output_type": "execute_result"
    }
   ],
   "source": [
    "A = np.arange(16)\n",
    "B = A.reshape(8, -1)\n",
    "B"
   ]
  },
  {
   "cell_type": "code",
   "execution_count": 102,
   "metadata": {},
   "outputs": [
    {
     "data": {
      "text/plain": [
       "array([[ 0,  1,  2,  3,  4,  5,  6,  7],\n",
       "       [ 8,  9, 10, 11, 12, 13, 14, 15]])"
      ]
     },
     "execution_count": 102,
     "metadata": {},
     "output_type": "execute_result"
    }
   ],
   "source": [
    "A = np.arange(16)\n",
    "B = A.reshape(-1, 8)\n",
    "B"
   ]
  },
  {
   "cell_type": "code",
   "execution_count": 105,
   "metadata": {},
   "outputs": [
    {
     "data": {
      "text/plain": [
       "array([ 0,  1,  2,  3,  4,  5,  6,  7,  8,  9, 10, 11, 12, 13, 14, 15])"
      ]
     },
     "execution_count": 105,
     "metadata": {},
     "output_type": "execute_result"
    }
   ],
   "source": [
    "C = B.ravel()\n",
    "C"
   ]
  },
  {
   "cell_type": "code",
   "execution_count": 106,
   "metadata": {},
   "outputs": [
    {
     "data": {
      "text/plain": [
       "False"
      ]
     },
     "execution_count": 106,
     "metadata": {},
     "output_type": "execute_result"
    }
   ],
   "source": [
    "C.base is B"
   ]
  },
  {
   "cell_type": "code",
   "execution_count": 107,
   "metadata": {},
   "outputs": [
    {
     "data": {
      "text/plain": [
       "True"
      ]
     },
     "execution_count": 107,
     "metadata": {},
     "output_type": "execute_result"
    }
   ],
   "source": [
    "C.base is A"
   ]
  },
  {
   "cell_type": "code",
   "execution_count": 112,
   "metadata": {},
   "outputs": [
    {
     "data": {
      "text/plain": [
       "array([ 0,  1,  2,  3,  4,  5,  6,  7,  8,  9, 10, 11, 12, 13, 14, 15])"
      ]
     },
     "execution_count": 112,
     "metadata": {},
     "output_type": "execute_result"
    }
   ],
   "source": [
    "A = np.arange(16)\n",
    "B = A.reshape(4,-1)\n",
    "A"
   ]
  },
  {
   "cell_type": "code",
   "execution_count": 113,
   "metadata": {},
   "outputs": [
    {
     "data": {
      "text/plain": [
       "array([[ 0,  1,  2,  3,  4,  5,  6,  7],\n",
       "       [ 8,  9, 10, 11, 12, 13, 14, 15]])"
      ]
     },
     "execution_count": 113,
     "metadata": {},
     "output_type": "execute_result"
    }
   ],
   "source": [
    "A = np.arange(16)\n",
    "A.resize(2,8)\n",
    "A"
   ]
  },
  {
   "cell_type": "code",
   "execution_count": 125,
   "metadata": {},
   "outputs": [
    {
     "name": "stdout",
     "output_type": "stream",
     "text": [
      "[[1 2]\n",
      " [3 4]]\n",
      "[[5 6]\n",
      " [7 8]]\n",
      "[[-1 -1]\n",
      " [-1 -1]\n",
      " [-1 -1]\n",
      " [-1 -1]]\n",
      "[[-2 -2 -2 -2]\n",
      " [-2 -2 -2 -2]]\n"
     ]
    }
   ],
   "source": [
    "A = np.array([[1,2],[3,4]])\n",
    "B = np.array([[5,6],[7,8]])\n",
    "C = np.vstack((A,B))  #행추가 ....view가 아니다. 새로 생성된 배열이다. \n",
    "D = np.hstack((A,B))  #열추가 \n",
    "\n",
    "C[0][0] = 99\n",
    "C[1] = 88\n",
    "C[:] = -1\n",
    "\n",
    "D[:] = -2\n",
    "print(A)\n",
    "print(B)\n",
    "print(C)\n",
    "print(D)"
   ]
  },
  {
   "cell_type": "code",
   "execution_count": null,
   "metadata": {},
   "outputs": [],
   "source": []
  },
  {
   "cell_type": "code",
   "execution_count": null,
   "metadata": {},
   "outputs": [],
   "source": []
  },
  {
   "cell_type": "code",
   "execution_count": null,
   "metadata": {},
   "outputs": [],
   "source": []
  },
  {
   "cell_type": "code",
   "execution_count": null,
   "metadata": {},
   "outputs": [],
   "source": []
  }
 ],
 "metadata": {
  "kernelspec": {
   "display_name": "encore3.6",
   "language": "python",
   "name": "encore"
  },
  "language_info": {
   "codemirror_mode": {
    "name": "ipython",
    "version": 3
   },
   "file_extension": ".py",
   "mimetype": "text/x-python",
   "name": "python",
   "nbconvert_exporter": "python",
   "pygments_lexer": "ipython3",
   "version": "3.7.1"
  }
 },
 "nbformat": 4,
 "nbformat_minor": 2
}
