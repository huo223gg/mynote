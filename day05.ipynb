{
 "cells": [
  {
   "cell_type": "code",
   "execution_count": 1,
   "metadata": {},
   "outputs": [
    {
     "data": {
      "text/plain": [
       "[]"
      ]
     },
     "execution_count": 1,
     "metadata": {},
     "output_type": "execute_result"
    }
   ],
   "source": [
    "list()"
   ]
  },
  {
   "cell_type": "code",
   "execution_count": 2,
   "metadata": {},
   "outputs": [
    {
     "data": {
      "text/plain": [
       "{}"
      ]
     },
     "execution_count": 2,
     "metadata": {},
     "output_type": "execute_result"
    }
   ],
   "source": [
    "dict()"
   ]
  },
  {
   "cell_type": "code",
   "execution_count": 3,
   "metadata": {},
   "outputs": [
    {
     "data": {
      "text/plain": [
       "set()"
      ]
     },
     "execution_count": 3,
     "metadata": {},
     "output_type": "execute_result"
    }
   ],
   "source": [
    "set()"
   ]
  },
  {
   "cell_type": "code",
   "execution_count": 5,
   "metadata": {},
   "outputs": [
    {
     "data": {
      "text/plain": [
       "dict"
      ]
     },
     "execution_count": 5,
     "metadata": {},
     "output_type": "execute_result"
    }
   ],
   "source": [
    "type({})"
   ]
  },
  {
   "cell_type": "code",
   "execution_count": 7,
   "metadata": {},
   "outputs": [
    {
     "data": {
      "text/plain": [
       "set"
      ]
     },
     "execution_count": 7,
     "metadata": {},
     "output_type": "execute_result"
    }
   ],
   "source": [
    "a={}  #dict\n",
    "b=set()\n",
    "type(a)\n",
    "type(b)"
   ]
  },
  {
   "cell_type": "code",
   "execution_count": null,
   "metadata": {},
   "outputs": [],
   "source": [
    "#모듈 :   .py  변수, 함수, class"
   ]
  },
  {
   "cell_type": "code",
   "execution_count": 8,
   "metadata": {},
   "outputs": [
    {
     "name": "stdout",
     "output_type": "stream",
     "text": [
      "Writing mycompute.py\n"
     ]
    }
   ],
   "source": [
    "%%writefile mycompute.py\n",
    "mypi = 3.14\n",
    "\n",
    "def add(a,b):\n",
    "    return a+b\n",
    "\n",
    "def sub(a,b):\n",
    "    return a-b\n",
    "\n",
    "def mul(a,b):\n",
    "    return a*b\n",
    "\n",
    "def div(a,b):\n",
    "    return a/b\n"
   ]
  },
  {
   "cell_type": "code",
   "execution_count": 12,
   "metadata": {},
   "outputs": [
    {
     "name": "stdout",
     "output_type": "stream",
     "text": [
      "3\n",
      "-1\n",
      "2\n",
      "0.5\n"
     ]
    }
   ],
   "source": [
    "import mycompute\n",
    "#dir(mycompute)\n",
    "\n",
    "print(mycompute.add(1,2))\n",
    "print(mycompute.sub(1,2))\n",
    "print(mycompute.mul(1,2))\n",
    "print(mycompute.div(1,2))\n"
   ]
  },
  {
   "cell_type": "code",
   "execution_count": 14,
   "metadata": {},
   "outputs": [
    {
     "name": "stdout",
     "output_type": "stream",
     "text": [
      "3\n",
      "-1\n",
      "2\n",
      "0.5\n"
     ]
    }
   ],
   "source": [
    "from mycompute import add, sub, mul, div\n",
    "#dir(mycompute)\n",
    "\n",
    "print(add(1,2))\n",
    "print(sub(1,2))\n",
    "print(mul(1,2))\n",
    "print(div(1,2))"
   ]
  },
  {
   "cell_type": "code",
   "execution_count": 22,
   "metadata": {},
   "outputs": [
    {
     "name": "stdout",
     "output_type": "stream",
     "text": [
      "Overwriting numpy.py\n"
     ]
    }
   ],
   "source": [
    "%%writefile numpy.py\n",
    "pi = 3.14\n",
    "def display():\n",
    "    print(pi)\n"
   ]
  },
  {
   "cell_type": "code",
   "execution_count": 28,
   "metadata": {},
   "outputs": [
    {
     "data": {
      "text/plain": [
       "1.4142135623730951"
      ]
     },
     "execution_count": 28,
     "metadata": {},
     "output_type": "execute_result"
    }
   ],
   "source": [
    "import numpy\n",
    "import os\n",
    "import imp\n",
    "#한번 가져온 모듈은 계속 유지\n",
    "#다시 모듈을 가져오기 \n",
    "imp.reload(numpy)\n",
    "os.path.abspath(numpy.__file__)\n",
    "numpy.std([1,2,3,4,5])"
   ]
  },
  {
   "cell_type": "code",
   "execution_count": 57,
   "metadata": {},
   "outputs": [],
   "source": [
    "def calSum(su):\n",
    "    if su < 0:\n",
    "        #강제발생 \n",
    "        raise ValueError(\"0보다 커야한다\")\n",
    "    total=0\n",
    "    for i in range(su+1):\n",
    "        total += i\n",
    "    return total\n"
   ]
  },
  {
   "cell_type": "code",
   "execution_count": 58,
   "metadata": {},
   "outputs": [
    {
     "name": "stdout",
     "output_type": "stream",
     "text": [
      "예외발생 ValueError: 0보다 커야한다\n",
      "프로그램종료됨\n"
     ]
    }
   ],
   "source": [
    "try:\n",
    "    print(calSum(-10))\n",
    "    #print(aa)\n",
    "    a=[1,2,3,4,5]\n",
    "    #a[5] = 99\n",
    "except ValueError as e:\n",
    "    print(\"예외발생 ValueError:\" , e)\n",
    "except NameError as e:\n",
    "    print(\"예외발생 NameError: 이름이 잘못됨\" , e )  \n",
    "except IndexError as e:\n",
    "    print(\"예외발생 IndexError:\" , e)      \n",
    "finally:\n",
    "    print(\"프로그램종료됨\")"
   ]
  },
  {
   "cell_type": "code",
   "execution_count": 62,
   "metadata": {},
   "outputs": [
    {
     "name": "stdout",
     "output_type": "stream",
     "text": [
      "aaaaa: 0보다 커야한다\n",
      "프로그램 정상종료\n"
     ]
    }
   ],
   "source": [
    "try:\n",
    "    print(calSum(-10))\n",
    "except ValueError as e:\n",
    "    print(\"aaaaa:\", e)\n",
    "    \n",
    "except Exception as e:\n",
    "    print(\"기타:\", e)\n",
    "    \n",
    "print(\"프로그램 정상종료\")"
   ]
  },
  {
   "cell_type": "markdown",
   "metadata": {},
   "source": [
    "# 파일입출력"
   ]
  },
  {
   "cell_type": "code",
   "execution_count": 73,
   "metadata": {},
   "outputs": [
    {
     "data": {
      "text/plain": [
       "str"
      ]
     },
     "execution_count": 73,
     "metadata": {},
     "output_type": "execute_result"
    }
   ],
   "source": [
    "import sys\n",
    "a = sys.getdefaultencoding()\n",
    "type(a)"
   ]
  },
  {
   "cell_type": "code",
   "execution_count": null,
   "metadata": {},
   "outputs": [],
   "source": [
    "#파일쓰기\n",
    "#1.open()으로 파일열기\n",
    "#2.read() write() 읽기 또는 쓰기 \n",
    "#3.close() 파일닫기 "
   ]
  },
  {
   "cell_type": "code",
   "execution_count": 82,
   "metadata": {},
   "outputs": [],
   "source": [
    "f = open(\"output.txt\", \"w\", encoding=sys.getdefaultencoding())\n",
    "f.write(\"#1.open()으로 \\t파일열기\\n\")\n",
    "f.write(\"#2.read() write() \\t읽기 또는 쓰기\\n\")\n",
    "f.write(\"#3.close() 파일닫기\\n\")\n",
    "f.close()"
   ]
  },
  {
   "cell_type": "code",
   "execution_count": 83,
   "metadata": {},
   "outputs": [
    {
     "name": "stdout",
     "output_type": "stream",
     "text": [
      "#1.open()으로 \t파일열기\n",
      "#2.read() write() \t읽기 또는 쓰기\n",
      "#3.close() 파일닫기\n",
      "\n"
     ]
    }
   ],
   "source": [
    "f = open(\"output.txt\", \"r\", encoding=\"utf-8\")\n",
    "txt = f.read()\n",
    "print(txt)\n",
    "f.close()"
   ]
  },
  {
   "cell_type": "code",
   "execution_count": 85,
   "metadata": {},
   "outputs": [
    {
     "name": "stdout",
     "output_type": "stream",
     "text": [
      "#1.open()으로 \t파일열기\n",
      "#2.read() write() \t읽기 또는 쓰기\n",
      "#3.close() 파일닫기\n"
     ]
    }
   ],
   "source": [
    "f = open(\"output.txt\", \"r\", encoding=\"utf-8\", newline='')\n",
    "while True:\n",
    "    txt = f.readline().rstrip() ##1.open()으로 \t파일열기\\n\n",
    "    if not txt:break\n",
    "    print(txt)\n",
    "    \n",
    "f.close()"
   ]
  },
  {
   "cell_type": "code",
   "execution_count": 86,
   "metadata": {},
   "outputs": [],
   "source": [
    "#with이용 ...with빠지면 자동으로 자원반납 (close())\n",
    "\n",
    "with open(\"output2.txt\", \"w\") as f:\n",
    "    f.write(\"one\\n\")\n",
    "    f.write(\"two\\n\")\n",
    "    f.write(\"three\\n\")\n"
   ]
  },
  {
   "cell_type": "code",
   "execution_count": 87,
   "metadata": {},
   "outputs": [
    {
     "name": "stdout",
     "output_type": "stream",
     "text": [
      "one\n",
      "two\n",
      "three\n",
      "\n"
     ]
    }
   ],
   "source": [
    "with open(\"output2.txt\", \"r\") as f:\n",
    "    print(f.read())"
   ]
  },
  {
   "cell_type": "code",
   "execution_count": 88,
   "metadata": {},
   "outputs": [],
   "source": [
    "data = [\"one\\n\", 'two\\n', 'three\\n']\n",
    "#여러 문장 출력 : writelines\n",
    "with open(\"output3.txt\", \"w\") as f:\n",
    "    f.writelines(data)\n",
    "\n",
    "    "
   ]
  },
  {
   "cell_type": "code",
   "execution_count": 93,
   "metadata": {},
   "outputs": [],
   "source": [
    "data = [\"one\", 'two', 'three']\n",
    "#여러 문장 출력 : writelines\n",
    "with open(\"output4.txt\", \"w\") as f:\n",
    "    f.write(\"\\n\".join(data))\n"
   ]
  },
  {
   "cell_type": "code",
   "execution_count": 94,
   "metadata": {},
   "outputs": [
    {
     "name": "stdout",
     "output_type": "stream",
     "text": [
      "['one\\n', 'two\\n', 'three']\n"
     ]
    }
   ],
   "source": [
    "with open(\"output4.txt\", \"r\") as f:\n",
    "    print(f.readlines())"
   ]
  },
  {
   "cell_type": "code",
   "execution_count": 96,
   "metadata": {},
   "outputs": [
    {
     "name": "stdout",
     "output_type": "stream",
     "text": [
      "one\n"
     ]
    }
   ],
   "source": [
    "with open(\"output4.txt\", \"r\") as f:\n",
    "    print(f.read(3))"
   ]
  },
  {
   "cell_type": "code",
   "execution_count": null,
   "metadata": {},
   "outputs": [],
   "source": []
  },
  {
   "cell_type": "code",
   "execution_count": null,
   "metadata": {},
   "outputs": [],
   "source": [
    "#read : 파일에서 읽기(입력)\n",
    "#write : 파일에 출력\n",
    "#print() :   표준출력 "
   ]
  },
  {
   "cell_type": "code",
   "execution_count": 106,
   "metadata": {},
   "outputs": [
    {
     "name": "stdout",
     "output_type": "stream",
     "text": [
      "['\\ufeff\"기관명\"', '소계', '2013년도 이전', '2014년', '2015년', '2016년']\n",
      "['강남구', '2780', '1292', '430', '584', '932']\n",
      "['강동구', '773', '379', '99', '155', '377']\n",
      "['강북구', '748', '369', '120', '138', '204']\n",
      "['강서구', '884', '388', '258', '184', '81']\n",
      "['관악구', '1496', '846', '260', '390', '613']\n",
      "['광진구', '707', '573', '78', '53', '174']\n",
      "['구로구', '1561', '1142', '173', '246', '323']\n",
      "['금천구', '1015', '674', '51', '269', '354']\n",
      "['노원구', '1265', '542', '57', '451', '516']\n",
      "['도봉구', '485', '238', '159', '42', '386']\n",
      "['동대문구', '1294', '1070', '23', '198', '579']\n",
      "['동작구', '1091', '544', '341', '103', '314']\n",
      "['마포구', '574', '314', '118', '169', '379']\n",
      "['서대문구', '962', '844', '50', '68', '292']\n",
      "['서초구', '1930', '1406', '157', '336', '398']\n",
      "['성동구', '1062', '730', '91', '241', '265']\n",
      "['성북구', '1464', '1009', '78', '360', '204']\n",
      "['송파구', '618', '529', '21', '68', '463']\n",
      "['양천구', '2034', '1843', '142', '30', '467']\n",
      "['영등포구', '904', '495', '214', '195', '373']\n",
      "['용산구', '1624', '1368', '218', '112', '398']\n",
      "['은평구', '1873', '1138', '224', '278', '468']\n",
      "['종로구', '1002', '464', '314', '211', '630']\n",
      "['중구', '671', '413', '190', '72', '348']\n",
      "['중랑구', '660', '509', '121', '177', '109']\n"
     ]
    }
   ],
   "source": [
    "import csv\n",
    "\n",
    "f = open(\"data\\\\01. CCTV_in_Seoul.csv\", encoding=\"utf-8\" )\n",
    "rd = csv.reader(f)\n",
    "for line in rd:\n",
    "    print(line)\n",
    "f.close()   "
   ]
  },
  {
   "cell_type": "code",
   "execution_count": 108,
   "metadata": {},
   "outputs": [
    {
     "name": "stdout",
     "output_type": "stream",
     "text": [
      "﻿\"기관명\",\"소계\",\"2013년도 이전\",\"2014년\",\"2015년\",\"2016년\"\n",
      "\"강남구\",\"2780\",\"1292\",\"430\",\"584\",\"932\"\n",
      "\"강동구\",\"773\",\"379\",\"99\",\"155\",\"377\"\n",
      "\"강북구\",\"748\",\"369\",\"120\",\"138\",\"204\"\n",
      "\"강서구\",\"884\",\"388\",\"258\",\"184\",\"81\"\n",
      "\"관악구\",\"1496\",\"846\",\"260\",\"390\",\"613\"\n",
      "\"광진구\",\"707\",\"573\",\"78\",\"53\",\"174\"\n",
      "\"구로구\",\"1561\",\"1142\",\"173\",\"246\",\"323\"\n",
      "\"금천구\",\"1015\",\"674\",\"51\",\"269\",\"354\"\n",
      "\"노원구\",\"1265\",\"542\",\"57\",\"451\",\"516\"\n",
      "\"도봉구\",\"485\",\"238\",\"159\",\"42\",\"386\"\n",
      "\"동대문구\",\"1294\",\"1070\",\"23\",\"198\",\"579\"\n",
      "\"동작구\",\"1091\",\"544\",\"341\",\"103\",\"314\"\n",
      "\"마포구\",\"574\",\"314\",\"118\",\"169\",\"379\"\n",
      "\"서대문구\",\"962\",\"844\",\"50\",\"68\",\"292\"\n",
      "\"서초구\",\"1930\",\"1406\",\"157\",\"336\",\"398\"\n",
      "\"성동구\",\"1062\",\"730\",\"91\",\"241\",\"265\"\n",
      "\"성북구\",\"1464\",\"1009\",\"78\",\"360\",\"204\"\n",
      "\"송파구\",\"618\",\"529\",\"21\",\"68\",\"463\"\n",
      "\"양천구\",\"2034\",\"1843\",\"142\",\"30\",\"467\"\n",
      "\"영등포구\",\"904\",\"495\",\"214\",\"195\",\"373\"\n",
      "\"용산구\",\"1624\",\"1368\",\"218\",\"112\",\"398\"\n",
      "\"은평구\",\"1873\",\"1138\",\"224\",\"278\",\"468\"\n",
      "\"종로구\",\"1002\",\"464\",\"314\",\"211\",\"630\"\n",
      "\"중구\",\"671\",\"413\",\"190\",\"72\",\"348\"\n",
      "\"중랑구\",\"660\",\"509\",\"121\",\"177\",\"109\"\n"
     ]
    }
   ],
   "source": [
    "with open(\"data\\\\01. CCTV_in_Seoul.csv\", encoding=\"utf-8\" ) as f:\n",
    "    txt = f.read()\n",
    "    print(txt)"
   ]
  },
  {
   "cell_type": "code",
   "execution_count": 118,
   "metadata": {},
   "outputs": [
    {
     "name": "stdout",
     "output_type": "stream",
     "text": [
      "﻿\"기관명\",\"소계\",\"2013년도 이전\",\"2014년\",\"2015년\",\"2016년\"\n",
      "\"강남구\",\"2780\",\"1292\",\"430\",\"584\",\"932\"\n",
      "\"강동구\",\"773\",\"3\n"
     ]
    }
   ],
   "source": [
    "with open(\"D:\\\\강사PC공유\\\\12.python\\\\LAB\\\\data\\\\01. CCTV_in_Seoul.csv\", encoding=\"utf-8\" ) as f:\n",
    "    txt = f.read(100)\n",
    "    print(txt)"
   ]
  },
  {
   "cell_type": "code",
   "execution_count": 116,
   "metadata": {},
   "outputs": [
    {
     "name": "stdout",
     "output_type": "stream",
     "text": [
      "﻿\"기관명\",\"소계\",\"2013년도 이전\",\"2014년\",\"2015년\",\"2016년\"\n",
      "\"강남구\",\"2780\",\"1292\",\"430\",\"584\",\"932\"\n",
      "\"강동구\",\"773\",\"379\",\"99\",\"155\",\"377\"\n",
      "\"강북구\",\"748\",\"369\",\"120\",\"138\",\"204\"\n",
      "\"강서구\",\"884\",\"388\",\"258\",\"184\",\"81\"\n",
      "\"관악구\",\"1496\",\"846\",\"260\",\"390\",\"613\"\n",
      "\"광진구\",\"707\",\"573\",\"78\",\"53\",\"174\"\n",
      "\"구로구\",\"1561\",\"1142\",\"173\",\"246\",\"323\"\n",
      "\"금천구\",\"1015\",\"674\",\"51\",\"269\",\"354\"\n",
      "\"노원구\",\"1265\",\"542\",\"57\",\"451\",\"516\"\n",
      "\"도봉구\",\"485\",\"238\",\"159\",\"42\",\"386\"\n",
      "\"동대문구\",\"1294\",\"1070\",\"23\",\"198\",\"579\"\n",
      "\"동작구\",\"1091\",\"544\",\"341\",\"103\",\"314\"\n",
      "\"마포구\",\"574\",\"314\",\"118\",\"169\",\"379\"\n",
      "\"서대문구\",\"962\",\"844\",\"50\",\"68\",\"292\"\n",
      "\"서초구\",\"1930\",\"1406\",\"157\",\"336\",\"398\"\n",
      "\"성동구\",\"1062\",\"730\",\"91\",\"241\",\"265\"\n",
      "\"성북구\",\"1464\",\"1009\",\"78\",\"360\",\"204\"\n",
      "\"송파구\",\"618\",\"529\",\"21\",\"68\",\"463\"\n",
      "\"양천구\",\"2034\",\"1843\",\"142\",\"30\",\"467\"\n",
      "\"영등포구\",\"904\",\"495\",\"214\",\"195\",\"373\"\n",
      "\"용산구\",\"1624\",\"1368\",\"218\",\"112\",\"398\"\n",
      "\"은평구\",\"1873\",\"1138\",\"224\",\"278\",\"468\"\n",
      "\"종로구\",\"1002\",\"464\",\"314\",\"211\",\"630\"\n",
      "\"중구\",\"671\",\"413\",\"190\",\"72\",\"348\"\n",
      "\"중랑구\",\"660\",\"509\",\"121\",\"177\",\"109\"\n"
     ]
    }
   ],
   "source": [
    "with open(\"data\\\\01. CCTV_in_Seoul.csv\", encoding=\"utf-8\" ) as f:\n",
    "    while True:\n",
    "        line = f.readline().rstrip()\n",
    "        if not line:break\n",
    "        print(line)"
   ]
  },
  {
   "cell_type": "code",
   "execution_count": 132,
   "metadata": {},
   "outputs": [
    {
     "name": "stdout",
     "output_type": "stream",
     "text": [
      "﻿\"기관명\",\"소계\",\"2013년도 이전\",\"2014년\",\"2015년\",\"2016년\"\n",
      "\"강남구\",\"2780\",\"1292\",\"430\",\"584\",\"932\"\n",
      "\"강동구\",\"773\",\"379\",\"99\",\"155\",\"377\"\n",
      "\"강북구\",\"748\",\"369\",\"120\",\"138\",\"204\"\n",
      "\"강서구\",\"884\",\"388\",\"258\",\"184\",\"81\"\n",
      "\"관악구\",\"1496\",\"846\",\"260\",\"390\",\"613\"\n",
      "\"광진구\",\"707\",\"573\",\"78\",\"53\",\"174\"\n",
      "\"구로구\",\"1561\",\"1142\",\"173\",\"246\",\"323\"\n",
      "\"금천구\",\"1015\",\"674\",\"51\",\"269\",\"354\"\n",
      "\"노원구\",\"1265\",\"542\",\"57\",\"451\",\"516\"\n",
      "\"도봉구\",\"485\",\"238\",\"159\",\"42\",\"386\"\n",
      "\"동대문구\",\"1294\",\"1070\",\"23\",\"198\",\"579\"\n",
      "\"동작구\",\"1091\",\"544\",\"341\",\"103\",\"314\"\n",
      "\"마포구\",\"574\",\"314\",\"118\",\"169\",\"379\"\n",
      "\"서대문구\",\"962\",\"844\",\"50\",\"68\",\"292\"\n",
      "\"서초구\",\"1930\",\"1406\",\"157\",\"336\",\"398\"\n",
      "\"성동구\",\"1062\",\"730\",\"91\",\"241\",\"265\"\n",
      "\"성북구\",\"1464\",\"1009\",\"78\",\"360\",\"204\"\n",
      "\"송파구\",\"618\",\"529\",\"21\",\"68\",\"463\"\n",
      "\"양천구\",\"2034\",\"1843\",\"142\",\"30\",\"467\"\n",
      "\"영등포구\",\"904\",\"495\",\"214\",\"195\",\"373\"\n",
      "\"용산구\",\"1624\",\"1368\",\"218\",\"112\",\"398\"\n",
      "\"은평구\",\"1873\",\"1138\",\"224\",\"278\",\"468\"\n",
      "\"종로구\",\"1002\",\"464\",\"314\",\"211\",\"630\"\n",
      "\"중구\",\"671\",\"413\",\"190\",\"72\",\"348\"\n",
      "\"중랑구\",\"660\",\"509\",\"121\",\"177\",\"109\"\n"
     ]
    }
   ],
   "source": [
    "with open(\"data\\\\01. CCTV_in_Seoul.csv\", \"rb\" ) as f:\n",
    "    a = f.read()\n",
    "    print(a.decode()) \n",
    "    "
   ]
  },
  {
   "cell_type": "code",
   "execution_count": 147,
   "metadata": {},
   "outputs": [
    {
     "name": "stdout",
     "output_type": "stream",
     "text": [
      "b'\\xff'\n"
     ]
    }
   ],
   "source": [
    "#binary 파일인 경우는 읽지않고자한다\n",
    "#data\\\\01. CCTV_in_Seoul.csv\n",
    "with open(\"images\\\\img1.jpg\", \"rb\", ) as f:\n",
    "    by = f.read(1)\n",
    "    print(by)\n",
    "#     while by != b:\n",
    "#         by = f.read(1)\n",
    "#         print(by)"
   ]
  },
  {
   "cell_type": "code",
   "execution_count": 150,
   "metadata": {},
   "outputs": [],
   "source": [
    "import csv\n",
    "\n",
    "f = open(\"friends2.csv\",\"w\", encoding=\"utf-8\", newline='')\n",
    "cw = csv.writer(f, delimiter=\"\\t\") #delimiter=\"\\t\"  (TSV)\n",
    "cw.writerow(['김', 10, '학생'])\n",
    "cw.writerow(['양', 20, '연구원'])\n",
    "cw.writerow(['박', 30, '회사원'])\n",
    "f.close()"
   ]
  },
  {
   "cell_type": "code",
   "execution_count": 151,
   "metadata": {},
   "outputs": [
    {
     "name": "stdout",
     "output_type": "stream",
     "text": [
      "['김', '10', '학생']\n",
      "['양', '20', '연구원']\n",
      "['박', '30', '회사원']\n"
     ]
    }
   ],
   "source": [
    "f = open(\"friends2.csv\",\"r\", encoding=\"utf-8\")\n",
    "cr = csv.reader(f, delimiter=\"\\t\")\n",
    "for line in cr:\n",
    "    print(line)\n",
    "f.close()    "
   ]
  },
  {
   "cell_type": "code",
   "execution_count": 152,
   "metadata": {},
   "outputs": [
    {
     "name": "stdout",
     "output_type": "stream",
     "text": [
      "[['김', '10', '학생'], ['양', '20', '연구원'], ['박', '30', '회사원']]\n"
     ]
    }
   ],
   "source": [
    "f = open(\"friends2.csv\",\"r\", encoding=\"utf-8\")\n",
    "cr = csv.reader(f, delimiter=\"\\t\")\n",
    "data = list(cr)\n",
    "print(data)\n",
    "f.close()  "
   ]
  },
  {
   "cell_type": "code",
   "execution_count": 158,
   "metadata": {},
   "outputs": [
    {
     "name": "stdout",
     "output_type": "stream",
     "text": [
      "{\n",
      "    \"name\": \"\\uae40\\uace0\\uac1d\\ub2d8\",\n",
      "    \"id\": \"cust100\",\n",
      "    \"phone\": \"010-9999-8888\"\n",
      "}\n",
      "<class 'dict'> <class 'str'>\n",
      "{'name': '김고객님', 'id': 'cust100', 'phone': '010-9999-8888'} <class 'dict'>\n"
     ]
    }
   ],
   "source": [
    "import json\n",
    "customer = {\"name\":\"김고객님\", \"id\" :\"cust100\", \"phone\":\"010-9999-8888\" }\n",
    "\n",
    "#Network으로 JSON data를 보내고자한다. encoding해서 보낸다. \n",
    "json_string = json.dumps(customer, indent=4)\n",
    "print(json_string)\n",
    "print(type(customer), type(json_string)) #str \n",
    "\n",
    "#JSON 데이를 받기   decoding되어 받는다. \n",
    "aa = json.loads(json_string)\n",
    "print(aa, type(aa)) #dict\n"
   ]
  },
  {
   "cell_type": "code",
   "execution_count": 159,
   "metadata": {},
   "outputs": [
    {
     "name": "stdout",
     "output_type": "stream",
     "text": [
      "Writing numpyhelp.txt\n"
     ]
    }
   ],
   "source": [
    "%%writefile numpyhelp.txt\n",
    "\n",
    "NumPy   bbbbb  is the fundamental package for\n",
    "scientific computing with Python. It contains among other things:\n",
    "\n",
    "# comment1..\n",
    "\n",
    "  * a powerful N-dimensional array object\n",
    "  * sophisticated (broadcasting) functions\n",
    "  * tools for integrating C/C++ and Fortran code\n",
    "  * useful linear algebra, Fourier transform, and random number capabilities\n",
    "\n",
    "# comment2..\n",
    "\n",
    "Besides its obvious scientific uses, NumPy can also be used as an efficient multi-dimensional container of generic data. Arbitrary data-types can be defined. This allows NumPy to seamlessly and speedily integrate with a wide variety of databases.\n",
    "\n",
    "Numpy is licensed under the BSD license, enabling reuse with few restrictions.\n"
   ]
  },
  {
   "cell_type": "code",
   "execution_count": 179,
   "metadata": {},
   "outputs": [
    {
     "name": "stdout",
     "output_type": "stream",
     "text": [
      "10---20---30\n",
      "30---10---20\n",
      " 30--- 10--- 20\n"
     ]
    }
   ],
   "source": [
    "print(\"{}---{}---{}\".format(10,20,30))\n",
    "print(\"{2}---{0}---{1}\".format(10,20,30))\n",
    "print(\"{2:3d}---{0:3d}---{1:3d}\".format(10,20,30))"
   ]
  },
  {
   "cell_type": "code",
   "execution_count": 194,
   "metadata": {},
   "outputs": [],
   "source": [
    "?str.replace\n"
   ]
  },
  {
   "cell_type": "code",
   "execution_count": null,
   "metadata": {},
   "outputs": [],
   "source": []
  },
  {
   "cell_type": "code",
   "execution_count": 174,
   "metadata": {},
   "outputs": [
    {
     "name": "stdout",
     "output_type": "stream",
     "text": [
      "    1째 라인--->         1개\n",
      "    2째 라인--->        15개\n",
      "    3째 라인--->         1개\n",
      " 4째 라인--->주석입니다.\n",
      "    5째 라인--->         1개\n",
      "    6째 라인--->         8개\n",
      "    7째 라인--->         6개\n",
      "    8째 라인--->        10개\n",
      "    9째 라인--->        12개\n",
      "   10째 라인--->         1개\n",
      "11째 라인--->주석입니다.\n",
      "   12째 라인--->         1개\n",
      "   13째 라인--->        37개\n",
      "   14째 라인--->         1개\n",
      "   15째 라인--->        12개\n"
     ]
    }
   ],
   "source": [
    "#파일읽기 ......\n",
    "#으로 시작하면 주석입니다. \n",
    "#가 아니면 단어갯수를 출력 \n",
    "lineNo=0\n",
    "for line in open(\"numpyhelp.txt\", \"r\"):\n",
    "    lineNo +=1\n",
    "    if line.startswith(\"#\"):\n",
    "        print(\"{:2d}째 라인--->주석입니다.\".format(lineNo))\n",
    "        \n",
    "        continue\n",
    "        \n",
    "    print(\"{0:5d}째 라인--->{1:10d}개\".format(lineNo,len(line.split(\" \"))))\n"
   ]
  },
  {
   "cell_type": "code",
   "execution_count": 196,
   "metadata": {},
   "outputs": [],
   "source": [
    "?%%writefile"
   ]
  },
  {
   "cell_type": "code",
   "execution_count": 202,
   "metadata": {},
   "outputs": [],
   "source": [
    "?str.startswith"
   ]
  },
  {
   "cell_type": "code",
   "execution_count": null,
   "metadata": {},
   "outputs": [],
   "source": [
    "#1~10까지 파일에 저장하기 "
   ]
  },
  {
   "cell_type": "code",
   "execution_count": 215,
   "metadata": {},
   "outputs": [],
   "source": [
    "#방법1\n",
    "f = open(\"number.txt\", \"w\")\n",
    "for i in range(1,11):\n",
    "    f.write(\"{}\\n\".format(i))\n",
    "f.close()    "
   ]
  },
  {
   "cell_type": "code",
   "execution_count": 216,
   "metadata": {},
   "outputs": [],
   "source": [
    "f = open(\"number2.txt\", \"w\")\n",
    "s = \"\\n\".join([str(i) for i in range(1,11)]) #1\\n2\\n3\\n~~~~~\n",
    "f.write(s)\n",
    "f.close()"
   ]
  },
  {
   "cell_type": "code",
   "execution_count": 217,
   "metadata": {},
   "outputs": [],
   "source": [
    "with open(\"number3.txt\", \"w\") as f:\n",
    "    s = \"\\n\".join([str(i) for i in range(1,11)])\n",
    "    f.write(s)\n",
    "\n"
   ]
  },
  {
   "cell_type": "code",
   "execution_count": 218,
   "metadata": {},
   "outputs": [],
   "source": [
    "with open(\"number4.txt\", \"w\") as f:\n",
    "    alist = [str(i)+\"\\n\" for i in range(1,11)]\n",
    "    f.writelines(alist)"
   ]
  },
  {
   "cell_type": "code",
   "execution_count": null,
   "metadata": {},
   "outputs": [],
   "source": []
  },
  {
   "cell_type": "code",
   "execution_count": null,
   "metadata": {},
   "outputs": [],
   "source": []
  },
  {
   "cell_type": "code",
   "execution_count": null,
   "metadata": {},
   "outputs": [],
   "source": []
  },
  {
   "cell_type": "code",
   "execution_count": null,
   "metadata": {},
   "outputs": [],
   "source": []
  },
  {
   "cell_type": "code",
   "execution_count": 209,
   "metadata": {},
   "outputs": [
    {
     "name": "stdout",
     "output_type": "stream",
     "text": [
      "10-------20-----파이썬\n",
      "10-------20-----파이썬\n",
      "파이썬-------20-----10\n",
      "파이썬       -------        20-----        10\n",
      "       파이썬-------20        -----10        \n"
     ]
    }
   ],
   "source": [
    "print(\"{}-------{}-----{}\".format(10,20,\"파이썬\"))\n",
    "print(\"{0}-------{1}-----{2}\".format(10,20,\"파이썬\"))\n",
    "print(\"{2}-------{1}-----{0}\".format(10,20,\"파이썬\"))\n",
    "print(\"{2:10s}-------{1:10d}-----{0:10d}\".format(10,20,\"파이썬\"))\n",
    "print(\"{2:>10s}-------{1:<10d}-----{0:<10d}\".format(10,20,\"파이썬\"))"
   ]
  },
  {
   "cell_type": "code",
   "execution_count": 237,
   "metadata": {},
   "outputs": [],
   "source": [
    "#현재경로에서 특정타입의 파일목록을 가져오기\n",
    "#디렉토리(폴더)이면 디렉토리입니다. 라고 찍고\n",
    "#파일이면 .txt이면 내용출력 \n",
    "\n",
    "# 특정문자를 찾아서 출력......5 찾아라~~~~\n",
    "\n",
    "import glob\n",
    "import os \n",
    "\n",
    "def mySearch(find, fpattern):\n",
    "    flist = glob.glob(fpattern)  #./*\n",
    "    for f in flist:\n",
    "        if os.path.isdir(f):\n",
    "            print(\"디렉토리입니다\")\n",
    "        else:\n",
    "            ext = os.path.splitext(f)\n",
    "            if ext[1] == \".txt\":  #if f.endswith(\".txt\"):\n",
    "                for line in open(f,\"r\", encoding=\"utf-8\"):\n",
    "                    if find in line:\n",
    "                        print(\" {}\".format(line.rstrip()))\n",
    "            \n",
    "            \n"
   ]
  },
  {
   "cell_type": "code",
   "execution_count": null,
   "metadata": {},
   "outputs": [],
   "source": []
  },
  {
   "cell_type": "code",
   "execution_count": 239,
   "metadata": {},
   "outputs": [
    {
     "name": "stdout",
     "output_type": "stream",
     "text": [
      "디렉토리입니다\n",
      "디렉토리입니다\n",
      " 5\n",
      " 5\n",
      " 5\n",
      " 5\n",
      "디렉토리입니다\n"
     ]
    }
   ],
   "source": [
    "#첫번째는 찾는 문자열, 경로 \n",
    "mySearch(\"5\", \"*\")"
   ]
  },
  {
   "cell_type": "code",
   "execution_count": null,
   "metadata": {},
   "outputs": [],
   "source": []
  },
  {
   "cell_type": "code",
   "execution_count": null,
   "metadata": {},
   "outputs": [],
   "source": []
  },
  {
   "cell_type": "code",
   "execution_count": null,
   "metadata": {},
   "outputs": [],
   "source": []
  },
  {
   "cell_type": "code",
   "execution_count": null,
   "metadata": {},
   "outputs": [],
   "source": []
  }
 ],
 "metadata": {
  "kernelspec": {
   "display_name": "encore3.6",
   "language": "python",
   "name": "encore"
  },
  "language_info": {
   "codemirror_mode": {
    "name": "ipython",
    "version": 3
   },
   "file_extension": ".py",
   "mimetype": "text/x-python",
   "name": "python",
   "nbconvert_exporter": "python",
   "pygments_lexer": "ipython3",
   "version": "3.7.1"
  }
 },
 "nbformat": 4,
 "nbformat_minor": 2
}
