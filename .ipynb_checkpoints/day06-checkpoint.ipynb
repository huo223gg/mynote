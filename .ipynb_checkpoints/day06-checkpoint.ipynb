{
 "cells": [
  {
   "cell_type": "code",
   "execution_count": 19,
   "metadata": {},
   "outputs": [],
   "source": [
    "class Human:\n",
    "    #self : object\n",
    "    def __init__(self, name, age):  #파라메터 :name, age\n",
    "        print(\"Human생성자\")\n",
    "        self.name = name  #멤버변수 :self.name,  self.age\n",
    "        self.age = age\n",
    "    def intro(self):\n",
    "        print(\"이름은 {}이고 나이는 {}입니다\".format(self.name, self.age))"
   ]
  },
  {
   "cell_type": "code",
   "execution_count": 20,
   "metadata": {},
   "outputs": [],
   "source": [
    "class Student(Human):\n",
    "    def __init__(self, name, age, stdnum):  #파라메터 :name, age\n",
    "        print(\"Student생성자\")\n",
    "        #self.name = name  #멤버변수 :self.name,  self.age\n",
    "        #self.age = age \n",
    "        super().__init__(name, age) #부모의 생성자를 호출한다 \n",
    "        self.stdnum = stdnum\n",
    "    def intro(self):\n",
    "        super().intro() #부모의 메서드를 호출\n",
    "        print(\"학번은 {}입니다.\".format(self.stdnum))\n",
    "    def study(self):\n",
    "        print(\"{}가 열심히 공부합니다.\".format(self.name))\n",
    "        "
   ]
  },
  {
   "cell_type": "code",
   "execution_count": 23,
   "metadata": {},
   "outputs": [
    {
     "name": "stdout",
     "output_type": "stream",
     "text": [
      "Student생성자\n",
      "Human생성자\n",
      "이름은 남기이고 나이는 20입니다\n",
      "학번은 12345입니다.\n",
      "남기가 열심히 공부합니다.\n"
     ]
    }
   ],
   "source": [
    "s1 = Student(\"남기\", 20, 12345)\n",
    "s1.intro()\n",
    "s1.study()"
   ]
  },
  {
   "cell_type": "code",
   "execution_count": 11,
   "metadata": {},
   "outputs": [
    {
     "name": "stdout",
     "output_type": "stream",
     "text": [
      "생성자\n",
      "이름은 남기이고 나이는 20입니다\n",
      "생성자\n",
      "이름은 남기2이고 나이는 30입니다\n"
     ]
    }
   ],
   "source": [
    "h1 = Human(\"남기\", 20)\n",
    "h1.intro()\n",
    "\n",
    "h2 = Human(\"남기2\", 30)\n",
    "h2.intro()\n"
   ]
  },
  {
   "cell_type": "code",
   "execution_count": 30,
   "metadata": {},
   "outputs": [],
   "source": [
    "class Car:\n",
    "    count = 0  #class변수 \n",
    "    def __init__(self, model, price):\n",
    "        print(\"자동차가 생성됩니다....\")\n",
    "        Car.count +=  1\n",
    "        self.model = model  #인스턴스변수 (오브젝트변수)\n",
    "        self.price = price\n",
    "    def display(self):\n",
    "        print(\"가격은{1}이고 모델이름은 {0}이다\".format(self.model,self.price))"
   ]
  },
  {
   "cell_type": "code",
   "execution_count": 31,
   "metadata": {},
   "outputs": [
    {
     "name": "stdout",
     "output_type": "stream",
     "text": [
      "자동차가 생성됩니다....\n",
      "가격은4000이고 모델이름은 그랜져이다\n",
      "자동차가 생성됩니다....\n",
      "가격은5000이고 모델이름은 그랜져2이다\n",
      "2\n",
      "2\n",
      "2\n"
     ]
    }
   ],
   "source": [
    "c1 = Car(\"그랜져\",4000)\n",
    "c1.display()\n",
    "\n",
    "c2= Car(\"그랜져2\",5000)\n",
    "c2.display()\n",
    "\n",
    "print(Car.count)\n",
    "#print(c1.count)\n",
    "#print(c2.count)\n"
   ]
  },
  {
   "cell_type": "code",
   "execution_count": null,
   "metadata": {},
   "outputs": [],
   "source": [
    "#class만들기 \n",
    "#Account, balance:잔고, deposite(500), withdraw(500) , getBalance()"
   ]
  },
  {
   "cell_type": "code",
   "execution_count": 32,
   "metadata": {},
   "outputs": [],
   "source": [
    "class Account:\n",
    "    balance = 0  #class변수 \n",
    "    def __init__(self, amount):\n",
    "        Account.balance = amount        \n",
    "    def deposite(self, amount):\n",
    "        Account.balance += amount \n",
    "    def withdraw(self, amount):\n",
    "        if Account.balance < amount:\n",
    "            print(\"잔고부족\")\n",
    "            return 0        \n",
    "        Account.balance -= amount    \n",
    "        return amount\n",
    "    def getBalance(self):\n",
    "        return Account.balance\n",
    "    "
   ]
  },
  {
   "cell_type": "code",
   "execution_count": 68,
   "metadata": {},
   "outputs": [],
   "source": [
    "def getBalance():\n",
    "    return 0\n",
    "\n",
    "\n",
    "class Account:    \n",
    "    def __init__(self, amount):\n",
    "        self.balance = amount #instance변수 (object변수)       \n",
    "    def deposite(self, amount):\n",
    "        self.balance += amount \n",
    "    def withdraw(self, amount):\n",
    "        if self.balance < amount:\n",
    "            print(\"잔고부족\")\n",
    "            return 0        \n",
    "        self.balance -= amount    \n",
    "        return amount\n",
    "    def getBalance(self):\n",
    "        return self.balance\n",
    "    \n",
    "    def mymethod(self):\n",
    "        print(\"나의 잔고는 {}입니다.\".format(self.getBalance()))\n",
    "        #class내부의 함수를 호출하는 경우 반드시 self를 사용한다. \n",
    "        #self가 생략되면 외부의 함수가 호출된다. "
   ]
  },
  {
   "cell_type": "code",
   "execution_count": 69,
   "metadata": {},
   "outputs": [
    {
     "name": "stdout",
     "output_type": "stream",
     "text": [
      "나의 잔고는 1000입니다.\n"
     ]
    }
   ],
   "source": [
    "a = Account(1000)\n",
    "a.mymethod()"
   ]
  },
  {
   "cell_type": "code",
   "execution_count": 47,
   "metadata": {},
   "outputs": [
    {
     "name": "stdout",
     "output_type": "stream",
     "text": [
      "1000 2000\n"
     ]
    }
   ],
   "source": [
    "a = Account(1000)\n",
    "a.getBalance()\n",
    "\n",
    "b = Account(2000)\n",
    "b.getBalance()\n",
    "\n",
    "print(a.getBalance(), b.getBalance())"
   ]
  },
  {
   "cell_type": "code",
   "execution_count": 39,
   "metadata": {},
   "outputs": [
    {
     "data": {
      "text/plain": [
       "2000"
      ]
     },
     "execution_count": 39,
     "metadata": {},
     "output_type": "execute_result"
    }
   ],
   "source": [
    "a = Account(1000)\n",
    "a.deposite(2000)\n",
    "a.getBalance()\n",
    "a.withdraw(2000)\n",
    "a.getBalance()\n",
    "\n",
    "b = Account(2000)\n",
    "b.getBalance()\n",
    "a.getBalance()"
   ]
  },
  {
   "cell_type": "code",
   "execution_count": null,
   "metadata": {},
   "outputs": [],
   "source": [
    "#멤버가있다. 이름, 생일, 주소(엔코아) "
   ]
  },
  {
   "cell_type": "code",
   "execution_count": 90,
   "metadata": {},
   "outputs": [],
   "source": [
    "#변수와 기능을 묶었다. \n",
    "\n",
    "class Member:\n",
    "    address = \"엔코아\"\n",
    "    count = 0\n",
    "    def __init__(self, name, birthday):\n",
    "        self.name = name\n",
    "        self.birthday = birthday\n",
    "        Member.count += 1\n",
    "        Member.hello()\n",
    "    \n",
    "    @classmethod  #class메서드 \n",
    "    def getCount(cls):\n",
    "        return cls.count\n",
    "    \n",
    "    @staticmethod #특정객체에 소속되지 않았다. \n",
    "    def hello():\n",
    "        print(\"static method입니다.\")\n",
    "    \n",
    "    \n",
    "    \n",
    "    def myPrint(self): #object method, instance method \n",
    "        print(\"{}----{}-----{}\".format(self.name, self.birthday, Member.address))\n",
    "    \n",
    "         "
   ]
  },
  {
   "cell_type": "code",
   "execution_count": 91,
   "metadata": {},
   "outputs": [
    {
     "name": "stdout",
     "output_type": "stream",
     "text": [
      "static method입니다.\n",
      "static method입니다.\n",
      "2\n",
      "2\n",
      "2\n",
      "static method입니다.\n"
     ]
    }
   ],
   "source": [
    "m1 = Member(\"아라\",\"2000/10/10\")\n",
    "m2 = Member(\"아라2\",\"2000/10/12\")\n",
    "print(Member.count)\n",
    "print(m1.getCount())\n",
    "print(Member.getCount())  #옳은 표현 \n",
    "\n",
    "#m1.hello()\n",
    "#m2.hello()\n",
    "Member.hello()  #옳은 표현 "
   ]
  },
  {
   "cell_type": "code",
   "execution_count": 87,
   "metadata": {},
   "outputs": [
    {
     "data": {
      "text/plain": [
       "2"
      ]
     },
     "execution_count": 87,
     "metadata": {},
     "output_type": "execute_result"
    }
   ],
   "source": [
    "import random\n",
    "\n",
    "a = random.randint(1,9)\n",
    "a\n",
    "\n"
   ]
  },
  {
   "cell_type": "code",
   "execution_count": 75,
   "metadata": {},
   "outputs": [
    {
     "name": "stdout",
     "output_type": "stream",
     "text": [
      "아라----2000/10/10-----엔코아\n",
      "아라2----2000/10/12-----엔코아\n",
      "엔코아\n",
      "엔코아\n",
      "엔코아\n"
     ]
    }
   ],
   "source": [
    "m1 = Member(\"아라\",\"2000/10/10\")\n",
    "m1.myPrint()\n",
    "m2 = Member(\"아라2\",\"2000/10/12\")\n",
    "m2.myPrint()\n",
    "\n",
    "print(m1.address)\n",
    "print(m2.address)\n",
    "print(Member.address) #옳은 표현 "
   ]
  },
  {
   "cell_type": "code",
   "execution_count": 118,
   "metadata": {},
   "outputs": [],
   "source": [
    "class Human:\n",
    "    def __init__(self, name, age):\n",
    "        self.name = name\n",
    "        self.age = age\n",
    "    def __eq__(self, other):\n",
    "        if self.name == other.name and self.age == other.age:\n",
    "            return True\n",
    "        else:\n",
    "            return False\n",
    "    def __add__(self, other):\n",
    "        return self.age + other.age \n",
    "    \n",
    "    def __mul__(self, other):\n",
    "        return self.age * other.age \n",
    "    \n",
    "    def __str__(self):\n",
    "        return \"이름은 {}이고 나이는 {}입니다.\".format(self.name,self.age)\n",
    "    \n",
    "    def __len__(self):\n",
    "        return len(self.name)\n",
    "    "
   ]
  },
  {
   "cell_type": "code",
   "execution_count": 120,
   "metadata": {},
   "outputs": [
    {
     "name": "stdout",
     "output_type": "stream",
     "text": [
      "이름은 사람1이고 나이는 10입니다.\n",
      "3\n",
      "3\n"
     ]
    }
   ],
   "source": [
    "h1 = Human(\"사람1\", 10)\n",
    "h2 = Human(\"사람1\", 40)\n",
    "\n",
    "h1 == h2  #  ==연산자는 __eq__()메서드로 overloading되어있다. \n",
    "h1 + h2 \n",
    "h1 * h2\n",
    "print(h1)\n",
    "print(len(h1))\n",
    "print(len(h1.name))"
   ]
  },
  {
   "cell_type": "code",
   "execution_count": 121,
   "metadata": {},
   "outputs": [
    {
     "name": "stdout",
     "output_type": "stream",
     "text": [
      "9.99999999999998\n"
     ]
    }
   ],
   "source": [
    "a=0.1\n",
    "total=0\n",
    "for i in range(100):\n",
    "    total += a\n",
    "\n",
    "    \n",
    "print(total)    "
   ]
  },
  {
   "cell_type": "code",
   "execution_count": 122,
   "metadata": {},
   "outputs": [
    {
     "name": "stdout",
     "output_type": "stream",
     "text": [
      "10.00000000000000055511151230\n"
     ]
    }
   ],
   "source": [
    "from decimal import Decimal #decimal.py모듈에 Decimal class\n",
    "\n",
    "a=Decimal(0.1)\n",
    "total=0\n",
    "for i in range(100):\n",
    "    total += a\n",
    "\n",
    "    \n",
    "print(total)  "
   ]
  },
  {
   "cell_type": "code",
   "execution_count": 125,
   "metadata": {},
   "outputs": [
    {
     "name": "stdout",
     "output_type": "stream",
     "text": [
      "1/3\n",
      "4/7\n"
     ]
    }
   ],
   "source": [
    "from fractions import *\n",
    "\n",
    "a = Fraction(1,3)\n",
    "print(a)\n",
    "\n",
    "\n",
    "a = Fraction(8,14)\n",
    "print(a)\n"
   ]
  },
  {
   "cell_type": "code",
   "execution_count": null,
   "metadata": {},
   "outputs": [],
   "source": [
    "#반복자 "
   ]
  },
  {
   "cell_type": "code",
   "execution_count": 126,
   "metadata": {},
   "outputs": [
    {
     "name": "stdout",
     "output_type": "stream",
     "text": [
      "10\n",
      "20\n",
      "30\n",
      "40\n",
      "50\n"
     ]
    }
   ],
   "source": [
    "alist = [10,20,30,40,50]\n",
    "for su in alist:\n",
    "    print(su) "
   ]
  },
  {
   "cell_type": "code",
   "execution_count": 139,
   "metadata": {},
   "outputs": [],
   "source": [
    "alist = [10,20,30,40,50]\n",
    "it = iter(alist)"
   ]
  },
  {
   "cell_type": "code",
   "execution_count": 140,
   "metadata": {},
   "outputs": [
    {
     "name": "stdout",
     "output_type": "stream",
     "text": [
      "10\n",
      "20\n",
      "30\n",
      "40\n",
      "50\n"
     ]
    }
   ],
   "source": [
    "while True:\n",
    "    try:\n",
    "        su = next(it)\n",
    "        print(su)\n",
    "    except  StopIteration:\n",
    "        break\n",
    "        "
   ]
  },
  {
   "cell_type": "code",
   "execution_count": 141,
   "metadata": {},
   "outputs": [],
   "source": [
    "#월요일, 화요일......일요일 \n",
    "\n",
    "class MyCollection:\n",
    "    def __init__(self, sz):\n",
    "        self.size = sz\n",
    "        self.data = list(range(1,sz+1)) #[1,2,3,4,5,6,7,8,9, 10]\n",
    "    def __iter__(self):\n",
    "        self.index = 0\n",
    "        return self\n",
    "    \n",
    "    def __next__(self):\n",
    "        if self.index >= self.size:\n",
    "            raise StopIteration\n",
    "        n = self.data[self.index]\n",
    "        self.index += 1\n",
    "        return n\n",
    "    "
   ]
  },
  {
   "cell_type": "code",
   "execution_count": 148,
   "metadata": {},
   "outputs": [],
   "source": [
    "class MyCollection2:\n",
    "    def __init__(self):\n",
    "        self.data = [\"월요일\", \"화요일\", \"일요일\" ]\n",
    "    def __iter__(self):\n",
    "        self.index = 0\n",
    "        print(\"inter....\", self.index)\n",
    "        return self   \n",
    "    def __next__(self):\n",
    "        print(\"next.....\", self.index)\n",
    "        \n",
    "        if self.index >= len(self.data):\n",
    "            raise StopIteration\n",
    "        n = self.data[self.index]\n",
    "        self.index += 1\n",
    "        return n    "
   ]
  },
  {
   "cell_type": "code",
   "execution_count": 149,
   "metadata": {},
   "outputs": [
    {
     "name": "stdout",
     "output_type": "stream",
     "text": [
      "inter.... 0\n",
      "next..... 0\n",
      "월요일\n",
      "next..... 1\n",
      "화요일\n",
      "next..... 2\n",
      "일요일\n",
      "next..... 3\n"
     ]
    }
   ],
   "source": [
    "a = MyCollection2()\n",
    "for su in a:\n",
    "    print(su)"
   ]
  },
  {
   "cell_type": "code",
   "execution_count": 145,
   "metadata": {},
   "outputs": [
    {
     "name": "stdout",
     "output_type": "stream",
     "text": [
      "1\n",
      "2\n",
      "3\n",
      "4\n",
      "5\n"
     ]
    }
   ],
   "source": [
    "a = MyCollection(5)\n",
    "#for->iter(a) ->next()......\n",
    "for su in a:\n",
    "    print(su)"
   ]
  },
  {
   "cell_type": "code",
   "execution_count": 158,
   "metadata": {},
   "outputs": [],
   "source": [
    "def gen():\n",
    "    print(\"1.....\")\n",
    "    yield 10\n",
    "    print(\"2.....\")\n",
    "    yield 20\n",
    "    print(\"3.....\")\n",
    "    yield 30"
   ]
  },
  {
   "cell_type": "code",
   "execution_count": 161,
   "metadata": {},
   "outputs": [
    {
     "name": "stdout",
     "output_type": "stream",
     "text": [
      "<class 'generator'>\n"
     ]
    }
   ],
   "source": [
    "a = gen()\n",
    "print(type(a))\n",
    "#generator....yield를 만날때까지 실행한다. "
   ]
  },
  {
   "cell_type": "code",
   "execution_count": 166,
   "metadata": {},
   "outputs": [
    {
     "ename": "StopIteration",
     "evalue": "",
     "output_type": "error",
     "traceback": [
      "\u001b[1;31m---------------------------------------------------------------------------\u001b[0m",
      "\u001b[1;31mStopIteration\u001b[0m                             Traceback (most recent call last)",
      "\u001b[1;32m<ipython-input-166-746af6d4807f>\u001b[0m in \u001b[0;36m<module>\u001b[1;34m\u001b[0m\n\u001b[1;32m----> 1\u001b[1;33m \u001b[0mret\u001b[0m \u001b[1;33m=\u001b[0m \u001b[0mnext\u001b[0m\u001b[1;33m(\u001b[0m\u001b[0ma\u001b[0m\u001b[1;33m)\u001b[0m\u001b[1;33m\u001b[0m\u001b[1;33m\u001b[0m\u001b[0m\n\u001b[0m\u001b[0;32m      2\u001b[0m \u001b[0mprint\u001b[0m\u001b[1;33m(\u001b[0m\u001b[1;34m\"return 받은값은 \"\u001b[0m\u001b[1;33m,\u001b[0m \u001b[0mret\u001b[0m\u001b[1;33m)\u001b[0m\u001b[1;33m\u001b[0m\u001b[1;33m\u001b[0m\u001b[0m\n",
      "\u001b[1;31mStopIteration\u001b[0m: "
     ]
    }
   ],
   "source": [
    "ret = next(a)\n",
    "print(\"return 받은값은 \", ret)"
   ]
  },
  {
   "cell_type": "code",
   "execution_count": 167,
   "metadata": {},
   "outputs": [
    {
     "name": "stdout",
     "output_type": "stream",
     "text": [
      "1.....\n",
      "return 받은값은  10\n",
      "2.....\n",
      "return 받은값은  20\n",
      "3.....\n",
      "return 받은값은  30\n"
     ]
    }
   ],
   "source": [
    "for su in gen():\n",
    "    print(\"return 받은값은 \", su)"
   ]
  },
  {
   "cell_type": "code",
   "execution_count": 168,
   "metadata": {},
   "outputs": [],
   "source": [
    "def gen():\n",
    "    print(\"1.....\")\n",
    "    yield \"월요일\"\n",
    "    print(\"2.....\")\n",
    "    yield \"화요일\"\n",
    "    print(\"3.....\")\n",
    "    yield \"수요일\""
   ]
  },
  {
   "cell_type": "code",
   "execution_count": 169,
   "metadata": {},
   "outputs": [
    {
     "name": "stdout",
     "output_type": "stream",
     "text": [
      "1.....\n",
      "월요일\n",
      "2.....\n",
      "화요일\n",
      "3.....\n",
      "수요일\n"
     ]
    }
   ],
   "source": [
    "for day in gen():\n",
    "    print(day)"
   ]
  },
  {
   "cell_type": "code",
   "execution_count": 170,
   "metadata": {},
   "outputs": [
    {
     "data": {
      "text/plain": [
       "range(0, 10)"
      ]
     },
     "execution_count": 170,
     "metadata": {},
     "output_type": "execute_result"
    }
   ],
   "source": [
    "#1~100 => 승   1->1 2->4 3->9   100->"
   ]
  },
  {
   "cell_type": "code",
   "execution_count": 182,
   "metadata": {},
   "outputs": [],
   "source": [
    "#generator\n",
    "g = ( i**i for i in range(1000001)  )\n",
    "#[i*i for i in range(1000001)]\n"
   ]
  },
  {
   "cell_type": "code",
   "execution_count": 183,
   "metadata": {},
   "outputs": [
    {
     "name": "stdout",
     "output_type": "stream",
     "text": [
      "1\n",
      "1\n",
      "4\n"
     ]
    }
   ],
   "source": [
    "for su in g:\n",
    "    print(su)\n",
    "    if su == 4:break "
   ]
  },
  {
   "cell_type": "code",
   "execution_count": 198,
   "metadata": {},
   "outputs": [],
   "source": [
    "def f(x):\n",
    "    return x%3"
   ]
  },
  {
   "cell_type": "code",
   "execution_count": 199,
   "metadata": {},
   "outputs": [
    {
     "data": {
      "text/plain": [
       "[5, 1, 6, 3, 9]"
      ]
     },
     "execution_count": 199,
     "metadata": {},
     "output_type": "execute_result"
    }
   ],
   "source": [
    "alist = [6,5,3,9,1]\n",
    "alist.sort(key=f, reverse=True)\n",
    "alist"
   ]
  },
  {
   "cell_type": "code",
   "execution_count": 200,
   "metadata": {},
   "outputs": [],
   "source": [
    "def inner():\n",
    "    print(\"inner함수입니다.\")"
   ]
  },
  {
   "cell_type": "code",
   "execution_count": 201,
   "metadata": {},
   "outputs": [],
   "source": [
    "def outer(f):\n",
    "    print(\"-\"*80)\n",
    "    f()\n",
    "    print(\"-\"*80)"
   ]
  },
  {
   "cell_type": "code",
   "execution_count": 202,
   "metadata": {},
   "outputs": [
    {
     "name": "stdout",
     "output_type": "stream",
     "text": [
      "--------------------------------------------------------------------------------\n",
      "inner함수입니다.\n",
      "--------------------------------------------------------------------------------\n"
     ]
    }
   ],
   "source": [
    "outer(inner)"
   ]
  },
  {
   "cell_type": "code",
   "execution_count": 203,
   "metadata": {},
   "outputs": [],
   "source": [
    "def outer2(f):\n",
    "    def wrapper():\n",
    "        print(\"-\"*80)\n",
    "        f()\n",
    "        print(\"-\"*80)\n",
    "    return wrapper"
   ]
  },
  {
   "cell_type": "code",
   "execution_count": 205,
   "metadata": {},
   "outputs": [
    {
     "name": "stdout",
     "output_type": "stream",
     "text": [
      "--------------------------------------------------------------------------------\n",
      "inner함수입니다.\n",
      "--------------------------------------------------------------------------------\n"
     ]
    }
   ],
   "source": [
    "aa = outer2(inner)\n",
    "aa()"
   ]
  },
  {
   "cell_type": "code",
   "execution_count": 206,
   "metadata": {},
   "outputs": [],
   "source": [
    "@outer2\n",
    "def inner():\n",
    "    print(\"inner함수입니다.\")"
   ]
  },
  {
   "cell_type": "code",
   "execution_count": 207,
   "metadata": {},
   "outputs": [
    {
     "name": "stdout",
     "output_type": "stream",
     "text": [
      "--------------------------------------------------------------------------------\n",
      "inner함수입니다.\n",
      "--------------------------------------------------------------------------------\n"
     ]
    }
   ],
   "source": [
    "inner()"
   ]
  },
  {
   "cell_type": "code",
   "execution_count": 214,
   "metadata": {},
   "outputs": [],
   "source": [
    "def myPrint(f):\n",
    "    #일급함수 \n",
    "    #함수가 파라메타로 전달\n",
    "    #내부함수에서 기능추가\n",
    "    #함수를 return \n",
    "    #*args : [1,2,3,4,5] (1,2,3,4,5) 값여러개 \n",
    "    #**kwargs : a=100, b=200, c=\"파이썬\"\n",
    "    #packing \n",
    "    def wrapper(*args, **kwargs):\n",
    "        return \"<p>\" + str(f(*args, **kwargs)) + \"</p>\"\n",
    "    return wrapper"
   ]
  },
  {
   "cell_type": "code",
   "execution_count": 242,
   "metadata": {},
   "outputs": [],
   "source": [
    "#name이 여러개온다.....\n",
    "\n",
    "@myPrint\n",
    "def outname(*name):\n",
    "    s = \"아라~\"\n",
    "    for n in name:\n",
    "        s += n\n",
    "    return s"
   ]
  },
  {
   "cell_type": "code",
   "execution_count": 348,
   "metadata": {},
   "outputs": [],
   "source": [
    "@myPrint\n",
    "def outname2(**name):\n",
    "    s = \"정은~\"\n",
    "    for k, v in name.items():\n",
    "        s += k + \"-->\" + v\n",
    "    return s"
   ]
  },
  {
   "cell_type": "code",
   "execution_count": 349,
   "metadata": {},
   "outputs": [],
   "source": [
    "@myPrint\n",
    "def outage(age):\n",
    "    return 20+age"
   ]
  },
  {
   "cell_type": "code",
   "execution_count": 350,
   "metadata": {},
   "outputs": [
    {
     "data": {
      "text/plain": [
       "'<p>아라~AAAAABBBBBBCCCCC</p>'"
      ]
     },
     "execution_count": 350,
     "metadata": {},
     "output_type": "execute_result"
    }
   ],
   "source": [
    "alist = [\"AAAAA\", \"BBBBBB\",\"CCCCC\"]\n",
    "alist2 = (\"AAAAA\", \"BBBBBB\",\"CCCCC\")\n",
    "#adic = {\"name\":\"AAAA\", \"name2\":\"BBBBB\", \"name3\":\"CCCC\"}\n",
    "outname( *alist )\n",
    "#outname( **adic )"
   ]
  },
  {
   "cell_type": "code",
   "execution_count": 351,
   "metadata": {},
   "outputs": [
    {
     "data": {
      "text/plain": [
       "'<p>30</p>'"
      ]
     },
     "execution_count": 351,
     "metadata": {},
     "output_type": "execute_result"
    }
   ],
   "source": [
    "outage(10)"
   ]
  },
  {
   "cell_type": "code",
   "execution_count": 352,
   "metadata": {},
   "outputs": [
    {
     "data": {
      "text/plain": [
       "'<p>정은~name-->AAAAname2-->BBBBBname3-->CCCC</p>'"
      ]
     },
     "execution_count": 352,
     "metadata": {},
     "output_type": "execute_result"
    }
   ],
   "source": [
    "d = {\"name\":\"AAAA\", \"name2\":\"BBBBB\", \"name3\":\"CCCC\"}\n",
    "outname2(**d)"
   ]
  },
  {
   "cell_type": "code",
   "execution_count": null,
   "metadata": {},
   "outputs": [],
   "source": []
  },
  {
   "cell_type": "code",
   "execution_count": null,
   "metadata": {},
   "outputs": [],
   "source": []
  },
  {
   "cell_type": "code",
   "execution_count": null,
   "metadata": {},
   "outputs": [],
   "source": []
  },
  {
   "cell_type": "code",
   "execution_count": null,
   "metadata": {},
   "outputs": [],
   "source": []
  },
  {
   "cell_type": "code",
   "execution_count": null,
   "metadata": {},
   "outputs": [],
   "source": []
  },
  {
   "cell_type": "code",
   "execution_count": null,
   "metadata": {},
   "outputs": [],
   "source": []
  },
  {
   "cell_type": "code",
   "execution_count": 249,
   "metadata": {},
   "outputs": [
    {
     "name": "stdout",
     "output_type": "stream",
     "text": [
      "[1, 2, 3]\n"
     ]
    }
   ],
   "source": [
    "#packing \n",
    "*b, a = 1,2,3,4\n",
    "print(b)"
   ]
  },
  {
   "cell_type": "code",
   "execution_count": 256,
   "metadata": {},
   "outputs": [],
   "source": [
    "#packing되어서 온다. \n",
    "def func(*args):\n",
    "    print(\"파라메타 받음:\", args)\n",
    "\n",
    "def func2(**kwargs):\n",
    "    print(\"파라메타 받음:\", kwargs)"
   ]
  },
  {
   "cell_type": "code",
   "execution_count": 253,
   "metadata": {},
   "outputs": [
    {
     "name": "stdout",
     "output_type": "stream",
     "text": [
      "파라메타 받음: ([1, 2, 3, 4, 5],)\n",
      "파라메타 받음: ((1, 2, 3, 4, 5),)\n",
      "파라메타 받음: ()\n"
     ]
    }
   ],
   "source": [
    "func([1,2,3,4,5])\n",
    "func((1,2,3,4,5))\n",
    "func()"
   ]
  },
  {
   "cell_type": "code",
   "execution_count": 261,
   "metadata": {},
   "outputs": [
    {
     "name": "stdout",
     "output_type": "stream",
     "text": [
      "파라메타 받음: {'name': '진주', 'age': 20}\n"
     ]
    }
   ],
   "source": [
    "adic = {\"name\":\"진주\", \"age\":20}\n",
    "func2(**adic)"
   ]
  },
  {
   "cell_type": "code",
   "execution_count": 262,
   "metadata": {},
   "outputs": [],
   "source": [
    "def func3(*args, **kwargs):\n",
    "    print(\"받음:\", args, kwargs)\n",
    "    "
   ]
  },
  {
   "cell_type": "code",
   "execution_count": 266,
   "metadata": {},
   "outputs": [
    {
     "name": "stdout",
     "output_type": "stream",
     "text": [
      "받음: () {}\n",
      "받음: ([1, 2, 3, 4, 5],) {}\n",
      "받음: () {'name': '진주', 'age': 20}\n"
     ]
    }
   ],
   "source": [
    "func3()\n",
    "alist = [1,2,3,4,5]\n",
    "adic = {\"name\":\"진주\", \"age\":20}\n",
    "func3(alist)\n",
    "func3(**adic)"
   ]
  },
  {
   "cell_type": "code",
   "execution_count": 279,
   "metadata": {},
   "outputs": [],
   "source": [
    "#function을 파라메타로 받는다 + 로직추가 =>함수 wrappper return \n",
    "def is_admin(func):\n",
    "    def wrapper(*args, **kwargs):\n",
    "        if kwargs.get(\"username\") != \"admin\":\n",
    "            raise Exception(\"admin이어야합니다.\")\n",
    "        return func(*args, **kwargs)\n",
    "    return wrapper\n",
    "\n",
    "\n",
    "class Greet:\n",
    "    current_user = None\n",
    "    \n",
    "    @is_admin\n",
    "    def set_name(self, username):\n",
    "        self.current_user=username\n",
    "        print(self.current_user)\n",
    "        #if username=='admin' 이면 current_user=username\n",
    "        #admin이 아니면 오류 \n",
    "    \n",
    "    @is_admin\n",
    "    def get_greeting(self, username):\n",
    "        #if username=='admin' 이면 인사 \n",
    "        return \"Hello~~{}\".format(self.current_user)"
   ]
  },
  {
   "cell_type": "code",
   "execution_count": 280,
   "metadata": {},
   "outputs": [
    {
     "name": "stdout",
     "output_type": "stream",
     "text": [
      "admin\n"
     ]
    },
    {
     "data": {
      "text/plain": [
       "'Hello~~admin'"
      ]
     },
     "execution_count": 280,
     "metadata": {},
     "output_type": "execute_result"
    }
   ],
   "source": [
    "a = Greet()\n",
    "a.set_name(username='admin')\n",
    "a.get_greeting(username='admin')"
   ]
  },
  {
   "cell_type": "code",
   "execution_count": 283,
   "metadata": {},
   "outputs": [
    {
     "name": "stdout",
     "output_type": "stream",
     "text": [
      "13\n"
     ]
    }
   ],
   "source": [
    "a=10\n",
    "s = eval(\"a+1+2\")\n",
    "print(s)"
   ]
  },
  {
   "cell_type": "code",
   "execution_count": 286,
   "metadata": {},
   "outputs": [
    {
     "data": {
      "text/plain": [
       "('12345', 'Hello')"
      ]
     },
     "execution_count": 286,
     "metadata": {},
     "output_type": "execute_result"
    }
   ],
   "source": [
    "str(12345), str(\"Hello\")"
   ]
  },
  {
   "cell_type": "code",
   "execution_count": 287,
   "metadata": {},
   "outputs": [
    {
     "data": {
      "text/plain": [
       "('12345', \"'hello'\")"
      ]
     },
     "execution_count": 287,
     "metadata": {},
     "output_type": "execute_result"
    }
   ],
   "source": [
    "repr(12345), repr(\"hello\")"
   ]
  },
  {
   "cell_type": "markdown",
   "metadata": {},
   "source": [
    "# 크롤링"
   ]
  },
  {
   "cell_type": "code",
   "execution_count": 289,
   "metadata": {},
   "outputs": [
    {
     "name": "stdout",
     "output_type": "stream",
     "text": [
      "Collecting requests\n",
      "  Downloading https://files.pythonhosted.org/packages/7d/e3/20f3d364d6c8e5d2353c72a67778eb189176f08e873c9900e10c0287b84b/requests-2.21.0-py2.py3-none-any.whl (57kB)\n",
      "Requirement already satisfied: certifi>=2017.4.17 in c:\\users\\user\\anaconda3\\envs\\encore\\lib\\site-packages (from requests) (2018.11.29)\n",
      "Collecting idna<2.9,>=2.5 (from requests)\n",
      "  Downloading https://files.pythonhosted.org/packages/14/2c/cd551d81dbe15200be1cf41cd03869a46fe7226e7450af7a6545bfc474c9/idna-2.8-py2.py3-none-any.whl (58kB)\n",
      "Collecting chardet<3.1.0,>=3.0.2 (from requests)\n",
      "  Downloading https://files.pythonhosted.org/packages/bc/a9/01ffebfb562e4274b6487b4bb1ddec7ca55ec7510b22e4c51f14098443b8/chardet-3.0.4-py2.py3-none-any.whl (133kB)\n",
      "Requirement already satisfied: urllib3<1.25,>=1.21.1 in c:\\users\\user\\anaconda3\\envs\\encore\\lib\\site-packages (from requests) (1.24.1)\n",
      "Installing collected packages: idna, chardet, requests\n",
      "Successfully installed chardet-3.0.4 idna-2.8 requests-2.21.0\n"
     ]
    }
   ],
   "source": [
    "!pip install requests"
   ]
  },
  {
   "cell_type": "code",
   "execution_count": 317,
   "metadata": {},
   "outputs": [
    {
     "data": {
      "text/plain": [
       "True"
      ]
     },
     "execution_count": 317,
     "metadata": {},
     "output_type": "execute_result"
    }
   ],
   "source": [
    "import requests\n",
    "response = requests.get(\"http://www.daum.net\")\n",
    "response.status_code\n",
    "response.headers[\"Content-Type\"]\n",
    "response.headers[\"content-type\"]\n",
    "requests.codes.ok\n",
    "\n",
    "requests.codes.ok == response.status_code #요청한대로 응답이 온것인가? \n",
    "\n",
    "#response.text"
   ]
  },
  {
   "cell_type": "code",
   "execution_count": 305,
   "metadata": {},
   "outputs": [],
   "source": [
    "url = \"https://news.naver.com/main/main.nhn\"\n",
    "\n",
    "pm = {\"mode\":\"LSD\", \"mid\":\"shm\", \"sid1\":105}\n",
    "pm = [(\"mode\",\"LSD\"), (\"mid\",\"shm\"), (\"sid1\",105)]\n",
    "response = requests.get(url, params=pm)\n",
    "\n",
    "#response.text "
   ]
  },
  {
   "cell_type": "code",
   "execution_count": 313,
   "metadata": {},
   "outputs": [
    {
     "data": {
      "text/plain": [
       "200"
      ]
     },
     "execution_count": 313,
     "metadata": {},
     "output_type": "execute_result"
    }
   ],
   "source": [
    "url = \"https://comic.naver.com/webtoon/detail.nhn?titleId=21815&no=654&weekday=mon\"\n",
    "h = {\"user-agent\": \"Mozilla/5.0 (Windows NT 10.0; Win64; x64) AppleWebKit/537.36 (KHTML, like Gecko) Chrome/72.0.3626.109 Safari/537.36\",\n",
    "     \"Referer\":\"https://www.naver.com\"\n",
    "    }\n",
    "response = requests.get(url , headers = h)\n",
    "response.status_code\n",
    "#response.text"
   ]
  },
  {
   "cell_type": "code",
   "execution_count": 324,
   "metadata": {},
   "outputs": [
    {
     "name": "stdout",
     "output_type": "stream",
     "text": [
      "이미지 저장....크기는 112842\n"
     ]
    },
    {
     "data": {
      "image/jpeg": "[encoded data removed]",
      "text/plain": [
       "<IPython.core.display.Image object>"
      ]
     },
     "execution_count": 324,
     "metadata": {
      "image/jpeg": {
       "height": 200,
       "width": 300
      }
     },
     "output_type": "execute_result"
    }
   ],
   "source": [
    "url=\"https://imgnews.pstatic.net/image/030/2019/02/18/0002785480_001_20190218145629207.jpg?type=w647\"\n",
    "\n",
    "#이미지인경우는  :response.content, text인 경우는 response.text\n",
    "response = requests.get(url)\n",
    "\n",
    "with open(\"aa.jpg\", \"wb\") as f:\n",
    "    print(\"이미지 저장....크기는 {}\".format(len(response.content)))\n",
    "    f.write(response.content)\n",
    "\n",
    "#저장된 이미지 보여주기     \n",
    "from IPython.display import Image\n",
    "Image(filename=\"aa.jpg\", width=300, height=200)\n"
   ]
  },
  {
   "cell_type": "code",
   "execution_count": 329,
   "metadata": {},
   "outputs": [
    {
     "data": {
      "text/plain": [
       "{'status': '0000',\n",
       " 'data': {'opening_price': '4028000',\n",
       "  'closing_price': '4108000',\n",
       "  'min_price': '3987000',\n",
       "  'max_price': '4150000',\n",
       "  'average_price': '4050465.8102',\n",
       "  'units_traded': '3945.44239503',\n",
       "  'volume_1day': '3945.44239503',\n",
       "  'volume_7day': '18815.94998002',\n",
       "  'buy_price': '4107000',\n",
       "  'sell_price': '4108000',\n",
       "  '24H_fluctate': '80000',\n",
       "  '24H_fluctate_rate': '1.98',\n",
       "  'date': '1550471904528'}}"
      ]
     },
     "execution_count": 329,
     "metadata": {},
     "output_type": "execute_result"
    }
   ],
   "source": [
    "url=\"https://api.bithumb.com/public/ticker/BTC\"\n",
    "response = requests.get(url)\n",
    "response.json()\n",
    "\n",
    "# html = response.text\n",
    "# import json\n",
    "# json.loads(html)"
   ]
  },
  {
   "cell_type": "code",
   "execution_count": 336,
   "metadata": {},
   "outputs": [
    {
     "name": "stdout",
     "output_type": "stream",
     "text": [
      "Requirement already satisfied: bs4 in c:\\users\\user\\anaconda3\\envs\\encore\\lib\\site-packages (0.0.1)\n",
      "Requirement already satisfied: beautifulsoup4 in c:\\users\\user\\anaconda3\\envs\\encore\\lib\\site-packages (from bs4) (4.7.1)\n",
      "Requirement already satisfied: soupsieve>=1.2 in c:\\users\\user\\anaconda3\\envs\\encore\\lib\\site-packages (from beautifulsoup4->bs4) (1.7.3)\n"
     ]
    }
   ],
   "source": [
    "!pip install bs4"
   ]
  },
  {
   "cell_type": "code",
   "execution_count": 344,
   "metadata": {},
   "outputs": [
    {
     "name": "stdout",
     "output_type": "stream",
     "text": [
      "[<a class=\"link_issue\" href=\"https://search.daum.net/search?w=tot&amp;q=%EC%9D%B4%EC%88%98&amp;DA=ATG&amp;rtmaxcoll=1TH\" tabindex=\"-1\">이수</a>, <a class=\"link_issue\" href=\"https://search.daum.net/search?w=tot&amp;q=%ED%97%88%EC%98%81%EC%A7%80&amp;DA=ATG&amp;rtmaxcoll=1TH\" tabindex=\"-1\">허영지</a>, <a class=\"link_issue\" href=\"https://search.daum.net/search?w=tot&amp;q=%EC%9D%80%EA%B0%80%EB%88%84&amp;DA=ATG&amp;rtmaxcoll=1TH\" tabindex=\"-1\">은가누</a>, <a class=\"link_issue\" href=\"https://search.daum.net/search?w=tot&amp;q=%EC%8A%88&amp;DA=ATG&amp;rtmaxcoll=1TH\" tabindex=\"-1\">슈</a>, <a class=\"link_issue\" href=\"https://search.daum.net/search?w=tot&amp;q=%EB%A6%B0&amp;DA=ATG&amp;rtmaxcoll=1TH\" tabindex=\"-1\">린</a>, <a class=\"link_issue\" href=\"https://search.daum.net/search?w=tot&amp;q=%ED%95%98%ED%98%84%EC%9A%B0&amp;DA=ATG&amp;rtmaxcoll=1TH\" tabindex=\"-1\">하현우</a>, <a class=\"link_issue\" href=\"https://search.daum.net/search?w=tot&amp;q=%ED%83%80%EB%8B%A4&amp;DA=ATG&amp;rtmaxcoll=1TH\" tabindex=\"-1\">타다</a>, <a class=\"link_issue\" href=\"https://search.daum.net/search?w=tot&amp;q=%EC%98%A4%EA%B3%A1%EB%B0%A5&amp;DA=ATG&amp;rtmaxcoll=1TH\" tabindex=\"-1\">오곡밥</a>, <a class=\"link_issue\" href=\"https://search.daum.net/search?w=tot&amp;q=%EC%9A%A9%EA%B0%90%ED%95%9C+%ED%99%8D%EC%B0%A8&amp;DA=ATG&amp;rtmaxcoll=1TH\" tabindex=\"-1\">용감한 홍차</a>, <a class=\"link_issue\" href=\"https://search.daum.net/search?w=tot&amp;q=%EA%B0%91%EC%83%81%EC%84%A0+%EA%B8%B0%EB%8A%A5+%ED%95%AD%EC%A7%84%EC%A6%9D&amp;DA=ATG&amp;rtmaxcoll=1TH\" tabindex=\"-1\">갑상선 기능 항진증</a>]\n",
      "이수 https://search.daum.net/search?w=tot&q=%EC%9D%B4%EC%88%98&DA=ATG&rtmaxcoll=1TH\n",
      "허영지 https://search.daum.net/search?w=tot&q=%ED%97%88%EC%98%81%EC%A7%80&DA=ATG&rtmaxcoll=1TH\n",
      "은가누 https://search.daum.net/search?w=tot&q=%EC%9D%80%EA%B0%80%EB%88%84&DA=ATG&rtmaxcoll=1TH\n",
      "슈 https://search.daum.net/search?w=tot&q=%EC%8A%88&DA=ATG&rtmaxcoll=1TH\n",
      "린 https://search.daum.net/search?w=tot&q=%EB%A6%B0&DA=ATG&rtmaxcoll=1TH\n",
      "하현우 https://search.daum.net/search?w=tot&q=%ED%95%98%ED%98%84%EC%9A%B0&DA=ATG&rtmaxcoll=1TH\n",
      "타다 https://search.daum.net/search?w=tot&q=%ED%83%80%EB%8B%A4&DA=ATG&rtmaxcoll=1TH\n",
      "오곡밥 https://search.daum.net/search?w=tot&q=%EC%98%A4%EA%B3%A1%EB%B0%A5&DA=ATG&rtmaxcoll=1TH\n",
      "용감한 홍차 https://search.daum.net/search?w=tot&q=%EC%9A%A9%EA%B0%90%ED%95%9C+%ED%99%8D%EC%B0%A8&DA=ATG&rtmaxcoll=1TH\n",
      "갑상선 기능 항진증 https://search.daum.net/search?w=tot&q=%EA%B0%91%EC%83%81%EC%84%A0+%EA%B8%B0%EB%8A%A5+%ED%95%AD%EC%A7%84%EC%A6%9D&DA=ATG&rtmaxcoll=1TH\n"
     ]
    }
   ],
   "source": [
    "import requests\n",
    "from bs4 import BeautifulSoup\n",
    "\n",
    "url = \"https://www.daum.net/\"\n",
    "html = requests.get(url).text\n",
    "\n",
    "#soup =>DOM객체 \n",
    "soup = BeautifulSoup(html, \"html.parser\")\n",
    "search = \"#mArticle > div.cmain_tmp > div.section_media > div.hotissue_builtin.hide > div.realtime_part > ol > li > div > div:nth-child(2) > span.txt_issue > a\"\n",
    "          #mArticle > div.cmain_tmp > div.section_media > div.hotissue_builtin > div.realtime_part > ol > li:nth-child(8) > div > div:nth-child(1) > span.txt_issue > a\n",
    "\n",
    "retList = soup.select(search)\n",
    "print(retList)\n",
    "for ret in retList:\n",
    "    print(ret.text, ret[\"href\"])\n",
    "\n",
    "#[ <a></a>, <a></a>, <a></a>]\n",
    "retList[0].text\n",
    "retList[0][\"href\"]\n",
    "retList[0].href\n",
    "retList[0].get(\"href\")"
   ]
  },
  {
   "cell_type": "code",
   "execution_count": 345,
   "metadata": {},
   "outputs": [
    {
     "name": "stdout",
     "output_type": "stream",
     "text": [
      "https://search.daum.net/search?w=tot&q=%EC%9D%B4%EC%88%98&DA=ATG&rtmaxcoll=1TH\n",
      "None\n",
      "https://search.daum.net/search?w=tot&q=%EC%9D%B4%EC%88%98&DA=ATG&rtmaxcoll=1TH\n"
     ]
    }
   ],
   "source": [
    "#retList[0].text\n",
    "print(retList[0][\"href\"])\n",
    "print(retList[0].href) #불가 \n",
    "print(retList[0].get(\"href\"))"
   ]
  },
  {
   "cell_type": "code",
   "execution_count": null,
   "metadata": {},
   "outputs": [],
   "source": [
    "# ol>li:nth-child(1)\n",
    "# ol>li:nth-of-type(1)\n",
    "# <ol>\n",
    "#  <p>...</p>\n",
    "#  <li></li>\n",
    "# </ol>"
   ]
  },
  {
   "cell_type": "code",
   "execution_count": null,
   "metadata": {},
   "outputs": [],
   "source": []
  }
 ],
 "metadata": {
  "kernelspec": {
   "display_name": "encore3.6",
   "language": "python",
   "name": "encore"
  },
  "language_info": {
   "codemirror_mode": {
    "name": "ipython",
    "version": 3
   },
   "file_extension": ".py",
   "mimetype": "text/x-python",
   "name": "python",
   "nbconvert_exporter": "python",
   "pygments_lexer": "ipython3",
   "version": "3.7.1"
  }
 },
 "nbformat": 4,
 "nbformat_minor": 2
}
