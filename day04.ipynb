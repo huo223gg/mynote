{
 "cells": [
  {
   "cell_type": "code",
   "execution_count": 8,
   "metadata": {},
   "outputs": [
    {
     "name": "stdout",
     "output_type": "stream",
     "text": [
      "없음\n"
     ]
    }
   ],
   "source": [
    "member = {\"테니스\":\"정현\", \"축구\":\"박지성\"}\n",
    "member[\"테니스\"]\n",
    "\n",
    "a = member.get(\"테니스2\",\"없음\")\n",
    "print(a)"
   ]
  },
  {
   "cell_type": "code",
   "execution_count": 10,
   "metadata": {},
   "outputs": [
    {
     "data": {
      "text/plain": [
       "False"
      ]
     },
     "execution_count": 10,
     "metadata": {},
     "output_type": "execute_result"
    }
   ],
   "source": [
    "\"테니스2\" in member"
   ]
  },
  {
   "cell_type": "code",
   "execution_count": 11,
   "metadata": {},
   "outputs": [],
   "source": [
    "member[\"농구\"] = \"허재\""
   ]
  },
  {
   "cell_type": "code",
   "execution_count": 12,
   "metadata": {},
   "outputs": [
    {
     "data": {
      "text/plain": [
       "{'테니스': '정현', '축구': '박지성', '농구': '허재'}"
      ]
     },
     "execution_count": 12,
     "metadata": {},
     "output_type": "execute_result"
    }
   ],
   "source": [
    "member"
   ]
  },
  {
   "cell_type": "code",
   "execution_count": 13,
   "metadata": {},
   "outputs": [],
   "source": [
    "member[\"농구\"] = \"김선형\""
   ]
  },
  {
   "cell_type": "code",
   "execution_count": 14,
   "metadata": {},
   "outputs": [
    {
     "data": {
      "text/plain": [
       "{'테니스': '정현', '축구': '박지성', '농구': '김선형'}"
      ]
     },
     "execution_count": 14,
     "metadata": {},
     "output_type": "execute_result"
    }
   ],
   "source": [
    "member"
   ]
  },
  {
   "cell_type": "code",
   "execution_count": 15,
   "metadata": {},
   "outputs": [],
   "source": [
    "del member[\"농구\"]"
   ]
  },
  {
   "cell_type": "code",
   "execution_count": 16,
   "metadata": {},
   "outputs": [
    {
     "data": {
      "text/plain": [
       "{'테니스': '정현', '축구': '박지성'}"
      ]
     },
     "execution_count": 16,
     "metadata": {},
     "output_type": "execute_result"
    }
   ],
   "source": [
    "member"
   ]
  },
  {
   "cell_type": "code",
   "execution_count": 17,
   "metadata": {},
   "outputs": [
    {
     "data": {
      "text/plain": [
       "dict_keys(['테니스', '축구'])"
      ]
     },
     "execution_count": 17,
     "metadata": {},
     "output_type": "execute_result"
    }
   ],
   "source": [
    "member.keys()"
   ]
  },
  {
   "cell_type": "code",
   "execution_count": 18,
   "metadata": {},
   "outputs": [
    {
     "data": {
      "text/plain": [
       "dict_values(['정현', '박지성'])"
      ]
     },
     "execution_count": 18,
     "metadata": {},
     "output_type": "execute_result"
    }
   ],
   "source": [
    "member.values()"
   ]
  },
  {
   "cell_type": "code",
   "execution_count": 20,
   "metadata": {},
   "outputs": [
    {
     "name": "stdout",
     "output_type": "stream",
     "text": [
      "테니스 ==> 정현\n",
      "축구 ==> 박지성\n"
     ]
    }
   ],
   "source": [
    "for key, val in member.items():\n",
    "    print(key,\"==>\", val)"
   ]
  },
  {
   "cell_type": "code",
   "execution_count": 27,
   "metadata": {},
   "outputs": [
    {
     "name": "stdout",
     "output_type": "stream",
     "text": [
      "1888321872\n",
      "1888321904\n",
      "2448952602320\n",
      "2448953167256\n",
      "2448953226824\n",
      "2448953226824\n",
      "2448952766680\n",
      "2448952766680\n"
     ]
    }
   ],
   "source": [
    "#값변경 가능 --- list , dict \n",
    "#값변경 불가 \n",
    "a=10\n",
    "print(id(a))\n",
    "a=a+1\n",
    "print(id(a))\n",
    "b = \"파이썬\"\n",
    "print(id(b))\n",
    "b = b + \"짱~\"\n",
    "print(id(b))\n",
    "#-------------------list, dict 값 변경 가능 (mutable)\n",
    "alist = [1,2,3,4,5]\n",
    "print(id(alist))\n",
    "alist[0]=99\n",
    "print(id(alist))\n",
    "\n",
    "adict = {\"name\":\"jj\", \"age\":20}\n",
    "print(id(adict))\n",
    "adict[\"name\"] = \"kk\"\n",
    "print(id(adict))\n",
    "\n",
    "#값 변경 불가 (tuple)\n",
    "atuple = (1,2,3,4,5)\n",
    "#atuple[0] = 99"
   ]
  },
  {
   "cell_type": "code",
   "execution_count": 35,
   "metadata": {},
   "outputs": [
    {
     "name": "stdout",
     "output_type": "stream",
     "text": [
      "2448953441424\n",
      "2448953441072\n",
      "키1->값1\n",
      "99->값2\n",
      "(1, 2)->값3\n",
      "문자2->값4\n",
      "10->[1, 2, 3, 4]\n"
     ]
    }
   ],
   "source": [
    "a=\"문자\"\n",
    "print(id(a))\n",
    "a=\"문자2\"\n",
    "print(id(a))\n",
    "b=10\n",
    "adict = {\"키1\":\"값1\", 99:\"값2\", (1,2):\"값3\", a:\"값4\", b:[1,2,3,4]}\n",
    "adict.keys()\n",
    "for key, val in adict.items():\n",
    "    print(key, val, sep=\"->\")"
   ]
  },
  {
   "cell_type": "code",
   "execution_count": 36,
   "metadata": {},
   "outputs": [
    {
     "data": {
      "text/plain": [
       "{'키1': '값1', 99: '값2', (1, 2): '값3', '문자2': '값4', 10: [1, 2, 3, 4], 'k1': 'v1'}"
      ]
     },
     "execution_count": 36,
     "metadata": {},
     "output_type": "execute_result"
    }
   ],
   "source": [
    "adict = {\"키1\":\"값1\", 99:\"값2\", (1,2):\"값3\", a:\"값4\", b:[1,2,3,4]}\n",
    "adict2 = {\"k1\":\"v1\"}\n",
    "#병합\n",
    "adict.update(adict2)\n",
    "adict"
   ]
  },
  {
   "cell_type": "code",
   "execution_count": 40,
   "metadata": {},
   "outputs": [
    {
     "data": {
      "text/plain": [
       "{'키1': '값1', '키2': 100}"
      ]
     },
     "execution_count": 40,
     "metadata": {},
     "output_type": "execute_result"
    }
   ],
   "source": [
    "a = dict()\n",
    "a[\"키1\"] = \"값1\"\n",
    "a[\"키2\"] = 100\n",
    "a"
   ]
  },
  {
   "cell_type": "code",
   "execution_count": 43,
   "metadata": {},
   "outputs": [],
   "source": [
    "alist = [1,2,3,4,5]\n"
   ]
  },
  {
   "cell_type": "code",
   "execution_count": 49,
   "metadata": {},
   "outputs": [],
   "source": [
    "s=\"\"\"\n",
    "?기억나니\n",
    "그날밤 니가 찾아왔어\n",
    "운명처럼\n",
    "I Can't Stop Missing You\n",
    "Touch Girl Touch Girl\n",
    "Touch Girl Nomatter Where You Are\n",
    "I Can't Wait That Blue The Moon\n",
    "I Keep On Running Keep On\n",
    "Running Keep On Running\n",
    "Keep On Running\n",
    "니 작은손 그안에 내가 있는지\n",
    "말해줄래 귀여운 Little Girl\n",
    "I'll Be There For You\n",
    "Hey Girl 보면 가슴이 막 뛰어\n",
    "내 눈빛에 흔들리는 Like A Deer\n",
    "Sky Sky Kiss The Sky\n",
    "Touch It Girl Make It\n",
    "Groovy & Smile\n",
    "나는 구름을 타고 달려온\n",
    "사람은 아니지만\n",
    "니가 구름을 원한다면\n",
    "퍼다줄께 말리지마\n",
    "나는 여자앞에서는 약해\n",
    "막내 꼬마같애\n",
    "HAHA 그래도 너 아니면 안돼\n",
    "토요일밤에 만날려고\n",
    "여기까지 나는 나왔어\n",
    "니가 무엇을 하던간에\n",
    "어디를 가던간에\n",
    "아름다운 니 손 단비를 맞았어\n",
    "빙글빙글 도는 눈이 꼭 만화같아\n",
    "사랑에 빠지면 다 이런기분 아냐\n",
    "이글이글 대는 여름의 햇빛\n",
    "젊음의 행진 리듬을 춰줘요 첵킷\n",
    "니 작은손 그안에 내가 있는지\n",
    "널 안으면 심장이 터질것같아 난\n",
    "말해줄래 그안에 내가 있는지\n",
    "언제라도 내 두손을 잡아\n",
    "I'll Be There For You\n",
    "너를 어리다고 놀리지는 않으니까\n",
    "유리같은 마음이 깨지면 아프니까\n",
    "I'm Not A Devil 믿어줘 매분 매초\n",
    "뱉어 사랑해라고 외쳐외쳐\n",
    "\"\"\""
   ]
  },
  {
   "cell_type": "code",
   "execution_count": 47,
   "metadata": {},
   "outputs": [
    {
     "data": {
      "text/plain": [
       "False"
      ]
     },
     "execution_count": 47,
     "metadata": {},
     "output_type": "execute_result"
    }
   ],
   "source": [
    "\"한\".isalpha()\n",
    "\"a\".isalpha()\n",
    "\"?\".isalpha()\n",
    "\" \".isalpha()"
   ]
  },
  {
   "cell_type": "code",
   "execution_count": 48,
   "metadata": {},
   "outputs": [
    {
     "name": "stdout",
     "output_type": "stream",
     "text": [
      "a\n",
      "b\n",
      "c\n",
      "d\n"
     ]
    }
   ],
   "source": [
    "s = \"abcd\"\n",
    "for c in s:\n",
    "    print(c)"
   ]
  },
  {
   "cell_type": "code",
   "execution_count": 50,
   "metadata": {},
   "outputs": [],
   "source": [
    "result = {}\n",
    "for c in s:\n",
    "    if not c.isalpha():continue\n",
    "    c = c.lower()\n",
    "    if c in result:\n",
    "        result[c] += 1\n",
    "    else:\n",
    "        result[c] = 1\n",
    "        "
   ]
  },
  {
   "cell_type": "code",
   "execution_count": 54,
   "metadata": {},
   "outputs": [],
   "source": [
    "alist = s.split(\" \")\n"
   ]
  },
  {
   "cell_type": "code",
   "execution_count": 63,
   "metadata": {},
   "outputs": [
    {
     "data": {
      "text/plain": [
       "{'I': 6,\n",
       " 'Can': 2,\n",
       " 't': 2,\n",
       " 'Stop': 1,\n",
       " 'Missing': 1,\n",
       " 'You': 4,\n",
       " 'Touch': 4,\n",
       " 'Girl': 6,\n",
       " 'Nomatter': 1,\n",
       " 'Where': 1,\n",
       " 'Are': 1,\n",
       " 'Wait': 1,\n",
       " 'That': 1,\n",
       " 'Blue': 1,\n",
       " 'The': 2,\n",
       " 'Moon': 1,\n",
       " 'Keep': 4,\n",
       " 'On': 4,\n",
       " 'Running': 4,\n",
       " 'Little': 1,\n",
       " 'll': 2,\n",
       " 'Be': 2,\n",
       " 'There': 2,\n",
       " 'For': 2,\n",
       " 'Hey': 1,\n",
       " 'Like': 1,\n",
       " 'A': 2,\n",
       " 'Deer': 1,\n",
       " 'Sky': 3,\n",
       " 'Kiss': 1,\n",
       " 'It': 2,\n",
       " 'Make': 1,\n",
       " 'Groovy': 1,\n",
       " 'Smile': 1,\n",
       " 'HAHA': 1,\n",
       " 'm': 1,\n",
       " 'Not': 1,\n",
       " 'Devil': 1}"
      ]
     },
     "execution_count": 63,
     "metadata": {},
     "output_type": "execute_result"
    }
   ],
   "source": [
    "#영문자가 아니면 공백으로 치환하기 \n",
    "#sub : 정규표현식에 의해 대치하여 새로운 문자열을 만든다. \n",
    "import re\n",
    "s2 = re.sub(\"[^a-zA-Z]\",\" \", s)\n",
    "alist = s2.split(\" \")\n",
    "blist = [word for word in alist if word!='']\n",
    "result = {}\n",
    "for word in blist:\n",
    "    if word in result:\n",
    "        result[word] += 1\n",
    "    else:\n",
    "        result[word]=1\n",
    "result        "
   ]
  },
  {
   "cell_type": "code",
   "execution_count": 83,
   "metadata": {},
   "outputs": [
    {
     "data": {
      "text/plain": [
       "[('', 410),\n",
       " ('I', 6),\n",
       " ('Girl', 6),\n",
       " ('You', 4),\n",
       " ('Touch', 4),\n",
       " ('Keep', 4),\n",
       " ('On', 4),\n",
       " ('Running', 4),\n",
       " ('Sky', 3),\n",
       " ('Can', 2)]"
      ]
     },
     "execution_count": 83,
     "metadata": {},
     "output_type": "execute_result"
    }
   ],
   "source": [
    "import re\n",
    "from collections import Counter\n",
    "\n",
    "s2 = re.sub(\"[^a-zA-Z]\",\" \", s)\n",
    "alist = s2.split(\" \")\n",
    "result = Counter(alist)\n",
    "result.most_common(10)"
   ]
  },
  {
   "cell_type": "code",
   "execution_count": null,
   "metadata": {},
   "outputs": [],
   "source": []
  },
  {
   "cell_type": "code",
   "execution_count": 69,
   "metadata": {},
   "outputs": [
    {
     "data": {
      "text/plain": [
       "{'two': 2, 'one': 1}"
      ]
     },
     "execution_count": 69,
     "metadata": {},
     "output_type": "execute_result"
    }
   ],
   "source": [
    "#dictionary 만들기\n",
    "a= dict()\n",
    "a = dict(one=1, two=2)\n",
    "a = dict([(\"one\",1),(\"two\",2)]) #[(),()]\n",
    "a = dict({(\"one\",1),(\"two\",2)}) #{(),()}\n",
    "a = dict({'two': 2, 'one': 1})\n",
    "a"
   ]
  },
  {
   "cell_type": "code",
   "execution_count": 77,
   "metadata": {},
   "outputs": [
    {
     "data": {
      "text/plain": [
       "2"
      ]
     },
     "execution_count": 77,
     "metadata": {},
     "output_type": "execute_result"
    }
   ],
   "source": [
    "list(zip([\"one\",\"two\",\"three\"],  [1,2,3]))\n",
    "tuple(zip([\"one\",\"two\",\"three\"],  [1,2,3]))\n",
    "a = dict(zip([\"one\",\"two\",\"three\"],  [1,2,3]))\n",
    "a[\"two\"]"
   ]
  },
  {
   "cell_type": "code",
   "execution_count": 84,
   "metadata": {},
   "outputs": [
    {
     "data": {
      "text/plain": [
       "{'a': 1, 'b': 1, 'c': 1, 'd': 1, 'e': 1}"
      ]
     },
     "execution_count": 84,
     "metadata": {},
     "output_type": "execute_result"
    }
   ],
   "source": [
    "dict.fromkeys(\"abcde\", 1)"
   ]
  },
  {
   "cell_type": "code",
   "execution_count": 90,
   "metadata": {},
   "outputs": [
    {
     "data": {
      "text/plain": [
       "{'a': [99, 88, 77, 200], 'b': [100], 'c': [100], 'd': [100]}"
      ]
     },
     "execution_count": 90,
     "metadata": {},
     "output_type": "execute_result"
    }
   ],
   "source": [
    "data = dict.fromkeys(\"abcd\",[])\n",
    "\n",
    "#하나의 객체의 수정이 전체에 반영된다. (값 동일한 경우 )\n",
    "data[\"a\"].append(100)\n",
    "\n",
    "data[\"a\"] = [99,88,77]\n",
    "data[\"a\"].append(200) #값이 동일하지 않으면 하나의 객체에 반영된다. \n",
    "data"
   ]
  },
  {
   "cell_type": "code",
   "execution_count": 94,
   "metadata": {},
   "outputs": [
    {
     "name": "stdout",
     "output_type": "stream",
     "text": [
      "1888321872\n",
      "1888321904\n"
     ]
    }
   ],
   "source": [
    "a=10\n",
    "print(id(a))\n",
    "a = 10+1\n",
    "print(id(a))\n",
    "#dir(a)"
   ]
  },
  {
   "cell_type": "code",
   "execution_count": 98,
   "metadata": {},
   "outputs": [
    {
     "data": {
      "text/plain": [
       "{'a': 1, 'b': 2, 'c': 3, 'd': 4}"
      ]
     },
     "execution_count": 98,
     "metadata": {},
     "output_type": "execute_result"
    }
   ],
   "source": [
    "a=\"abcd\"\n",
    "a2 = (1,2,3,4)\n",
    "dict(zip(a,a2))\n",
    "{ x:y   for x,y in zip(a,a2)  }"
   ]
  },
  {
   "cell_type": "code",
   "execution_count": 107,
   "metadata": {},
   "outputs": [
    {
     "data": {
      "text/plain": [
       "OrderedDict([('z1', '값1'), ('aa', '값2'), ('a키3', '값3'), ('bb', '값4')])"
      ]
     },
     "execution_count": 107,
     "metadata": {},
     "output_type": "execute_result"
    }
   ],
   "source": [
    "from collections import OrderedDict\n",
    "data = OrderedDict()\n",
    "data[\"z1\"] = \"값1\"\n",
    "data[\"aa\"] = \"값2\"\n",
    "data[\"a키3\"] = \"값3\"\n",
    "data[\"bb\"] = \"값4\"\n",
    "data"
   ]
  },
  {
   "cell_type": "markdown",
   "metadata": {},
   "source": [
    "# Set"
   ]
  },
  {
   "cell_type": "code",
   "execution_count": 131,
   "metadata": {},
   "outputs": [
    {
     "data": {
      "text/plain": [
       "{1, 2, 3, 4}"
      ]
     },
     "execution_count": 131,
     "metadata": {},
     "output_type": "execute_result"
    }
   ],
   "source": [
    "alist = [1,2,3,4,1,2,3,4,1,2,3,4]\n",
    "b = set(alist)\n",
    "b"
   ]
  },
  {
   "cell_type": "code",
   "execution_count": 118,
   "metadata": {},
   "outputs": [
    {
     "data": {
      "text/plain": [
       "{1, 2, 3, 4, 5, 6, 7, 8, 9}"
      ]
     },
     "execution_count": 118,
     "metadata": {},
     "output_type": "execute_result"
    }
   ],
   "source": [
    "a = set()\n",
    "a = set(\"abcdabcdabcdabcdabcdabcdabcdabcdabcd\")\n",
    "a = set([1,2,3,4,1,2,3,4,1,2,3,4])\n",
    "a = set((1,2,3,4,1,2,3,4))\n",
    "d = {\"키1\":\"값1\",\"키2\":\"값1\"}\n",
    "a = set(d)\n",
    "a = {1,2,3,4,1,2,3,4}\n",
    "a.add(5)\n",
    "a.update({1,2,3,4,5,6,7,8,9})\n",
    "a"
   ]
  },
  {
   "cell_type": "code",
   "execution_count": 123,
   "metadata": {},
   "outputs": [
    {
     "data": {
      "text/plain": [
       "{'값1', '값2'}"
      ]
     },
     "execution_count": 123,
     "metadata": {},
     "output_type": "execute_result"
    }
   ],
   "source": [
    "d = {\"키1\":\"값1\",\"키2\":\"값1\",\"키3\":\"값2\",\"키4\":\"값2\"}\n",
    "set(d.values())"
   ]
  },
  {
   "cell_type": "code",
   "execution_count": 126,
   "metadata": {},
   "outputs": [
    {
     "data": {
      "text/plain": [
       "{'키1', '키2', '키3', '키4'}"
      ]
     },
     "execution_count": 126,
     "metadata": {},
     "output_type": "execute_result"
    }
   ],
   "source": [
    "set(d.keys())"
   ]
  },
  {
   "cell_type": "code",
   "execution_count": 130,
   "metadata": {},
   "outputs": [
    {
     "data": {
      "text/plain": [
       "{'키1': '값1', '키2': '값1', '키3': '값2', '키4': '값2'}"
      ]
     },
     "execution_count": 130,
     "metadata": {},
     "output_type": "execute_result"
    }
   ],
   "source": [
    "dict(d.items())"
   ]
  },
  {
   "cell_type": "code",
   "execution_count": 145,
   "metadata": {},
   "outputs": [
    {
     "name": "stdout",
     "output_type": "stream",
     "text": [
      "{1, 2, 3, 4, 5, 6, 7, 8, 9}\n",
      "{1, 2, 3, 4, 5, 6, 7, 8, 9}\n",
      "{4, 5, 6}\n",
      "{4, 5, 6}\n",
      "{4}\n",
      "{1, 2, 3}\n",
      "{1, 2, 3}\n",
      "{1, 2, 3, 7, 8, 9}\n",
      "{1, 2, 3, 7, 8, 9}\n",
      "True\n",
      "True\n",
      "True\n"
     ]
    }
   ],
   "source": [
    "#집합연산\n",
    "a={1,2,3,4,5,6}\n",
    "b={4,5,6,7,8,9}\n",
    "c={4,10}\n",
    "d={1,2,3,4}\n",
    "print(a | b)\n",
    "print(a.union(b))\n",
    "print(a & b)\n",
    "print(a.intersection(b))\n",
    "print(a.intersection(b,c))\n",
    "print(a - b)\n",
    "print(a.difference(b))\n",
    "print(a ^ b)\n",
    "print(a.symmetric_difference(b)) #대칭차집합 ...같은것만 제거 \n",
    "print(d <= a)\n",
    "print(d.issubset(a))\n",
    "print(d < a)\n",
    "\n"
   ]
  },
  {
   "cell_type": "code",
   "execution_count": 147,
   "metadata": {},
   "outputs": [
    {
     "name": "stdout",
     "output_type": "stream",
     "text": [
      "{4, 5, 6}\n"
     ]
    },
    {
     "data": {
      "text/plain": [
       "False"
      ]
     },
     "execution_count": 147,
     "metadata": {},
     "output_type": "execute_result"
    }
   ],
   "source": [
    "print(a.intersection(b))\n",
    "a.isdisjoint(b) #교집합이 공집합인가?"
   ]
  },
  {
   "cell_type": "code",
   "execution_count": 150,
   "metadata": {},
   "outputs": [
    {
     "name": "stdout",
     "output_type": "stream",
     "text": [
      "0-->100\n",
      "1-->40\n",
      "2-->70\n",
      "3-->90\n",
      "4-->80\n"
     ]
    }
   ],
   "source": [
    "score = [100,40,70,90,80]\n",
    "idx=0\n",
    "for s in score:\n",
    "    print(idx, s, sep=\"-->\")\n",
    "    idx += 1"
   ]
  },
  {
   "cell_type": "code",
   "execution_count": 152,
   "metadata": {},
   "outputs": [
    {
     "name": "stdout",
     "output_type": "stream",
     "text": [
      "0-->100\n",
      "1-->40\n",
      "2-->70\n",
      "3-->90\n",
      "4-->80\n"
     ]
    }
   ],
   "source": [
    "for idx in range(len(score)):\n",
    "    print(idx,score[idx], sep=\"-->\")"
   ]
  },
  {
   "cell_type": "code",
   "execution_count": 153,
   "metadata": {},
   "outputs": [
    {
     "name": "stdout",
     "output_type": "stream",
     "text": [
      "0-->100\n",
      "1-->40\n",
      "2-->70\n",
      "3-->90\n",
      "4-->80\n"
     ]
    }
   ],
   "source": [
    "for idx, s in enumerate(score):\n",
    "    print(idx,s, sep=\"-->\")"
   ]
  },
  {
   "cell_type": "code",
   "execution_count": 163,
   "metadata": {},
   "outputs": [],
   "source": [
    "score = [100,40,70,90,80,50, 60, 50,100]"
   ]
  },
  {
   "cell_type": "code",
   "execution_count": 164,
   "metadata": {},
   "outputs": [],
   "source": [
    "def f(x):\n",
    "    return x > 60\n",
    "    "
   ]
  },
  {
   "cell_type": "code",
   "execution_count": 167,
   "metadata": {},
   "outputs": [
    {
     "data": {
      "text/plain": [
       "[100, 70, 90, 80, 100]"
      ]
     },
     "execution_count": 167,
     "metadata": {},
     "output_type": "execute_result"
    }
   ],
   "source": [
    "list(filter(f, score))\n",
    "#tuple(filter(f, score))\n",
    "#set(filter(f, score))"
   ]
  },
  {
   "cell_type": "code",
   "execution_count": 168,
   "metadata": {},
   "outputs": [
    {
     "data": {
      "text/plain": [
       "[100, 70, 90, 80, 100]"
      ]
     },
     "execution_count": 168,
     "metadata": {},
     "output_type": "execute_result"
    }
   ],
   "source": [
    "list(filter(lambda x:x>60, score))"
   ]
  },
  {
   "cell_type": "code",
   "execution_count": 169,
   "metadata": {},
   "outputs": [],
   "source": [
    "def f(x):\n",
    "    return x/2"
   ]
  },
  {
   "cell_type": "code",
   "execution_count": 172,
   "metadata": {},
   "outputs": [
    {
     "data": {
      "text/plain": [
       "[50.0, 20.0, 35.0, 45.0, 40.0, 25.0, 30.0, 25.0, 50.0]"
      ]
     },
     "execution_count": 172,
     "metadata": {},
     "output_type": "execute_result"
    }
   ],
   "source": [
    "list(map(lambda x:x/2, score))"
   ]
  },
  {
   "cell_type": "code",
   "execution_count": 175,
   "metadata": {},
   "outputs": [
    {
     "name": "stdout",
     "output_type": "stream",
     "text": [
      "a=3, b=3, a주소=1888321648, b주소=1888321648\n",
      "a=5, b=3, a주소=1888321712, b주소=1888321648\n"
     ]
    }
   ],
   "source": [
    "a=3\n",
    "b=a\n",
    "print(\"a={}, b={}, a주소={}, b주소={}\".format(a,b,id(a),id(b)))\n",
    "a=5\n",
    "print(\"a={}, b={}, a주소={}, b주소={}\".format(a,b,id(a),id(b)))"
   ]
  },
  {
   "cell_type": "code",
   "execution_count": 177,
   "metadata": {},
   "outputs": [
    {
     "name": "stdout",
     "output_type": "stream",
     "text": [
      "a=[1, 2, 3, 4], b=[1, 2, 3, 4], a주소=2448959240136, b주소=2448959240136\n",
      "a=[1, 99, 3, 4], b=[1, 99, 3, 4], a주소=2448959240136, b주소=2448959240136\n",
      "a=[1, 2, 3, 4], b=[1, 99, 3, 4], a주소=2448959304904, b주소=2448959240136\n"
     ]
    }
   ],
   "source": [
    "a=[1,2,3,4]\n",
    "b=a\n",
    "print(\"a={}, b={}, a주소={}, b주소={}\".format(a,b,id(a),id(b)))\n",
    "a[1] = 99\n",
    "print(\"a={}, b={}, a주소={}, b주소={}\".format(a,b,id(a),id(b)))\n",
    "a = [1,2,3,4]\n",
    "print(\"a={}, b={}, a주소={}, b주소={}\".format(a,b,id(a),id(b)))"
   ]
  },
  {
   "cell_type": "code",
   "execution_count": 179,
   "metadata": {},
   "outputs": [
    {
     "name": "stdout",
     "output_type": "stream",
     "text": [
      "a=[1, 2, 3, 4], b=[1, 2, 3, 4], a주소=2448959362632, b주소=2448953681672\n",
      "a=[1, 99, 3, 4], b=[1, 2, 3, 4], a주소=2448959362632, b주소=2448953681672\n"
     ]
    }
   ],
   "source": [
    "a=[1,2,3,4]\n",
    "#주소공유 \n",
    "#b=a\n",
    "#복사 \n",
    "b = a.copy()\n",
    "print(\"a={}, b={}, a주소={}, b주소={}\".format(a,b,id(a),id(b)))\n",
    "a[1] = 99\n",
    "print(\"a={}, b={}, a주소={}, b주소={}\".format(a,b,id(a),id(b)))"
   ]
  },
  {
   "cell_type": "code",
   "execution_count": 187,
   "metadata": {},
   "outputs": [
    {
     "name": "stdout",
     "output_type": "stream",
     "text": [
      "[[1, 2, 3, 4], 10, 20, 30, 40, 50]\n",
      "[[1, 2, 3, 4], 10, 20, 30, 40, 50]\n",
      "b= [[88, 77, 3, 4], 99, 20, 30, 40, 50]\n",
      "c= [[88, 77, 3, 4], 10, 20, 30, 40, 50]\n"
     ]
    }
   ],
   "source": [
    "import copy\n",
    "\n",
    "a=[1,2,3,4]\n",
    "\n",
    "b=[a, 10,20,30,40,50]\n",
    "\n",
    "c = b.copy()\n",
    "print(b)\n",
    "print(c)\n",
    "b[1] = 99\n",
    "a[0] = 88\n",
    "b[0][1] = 77\n",
    "print(\"b=\", b)\n",
    "print(\"c=\", c)"
   ]
  },
  {
   "cell_type": "code",
   "execution_count": 195,
   "metadata": {},
   "outputs": [
    {
     "name": "stdout",
     "output_type": "stream",
     "text": [
      "[[1, 2, 3], 5, 6, 7]\n",
      "[99, 2, 77]\n",
      "[[99, 2, 77], 88, 6, 7]\n",
      "[[1, 2, 3], 5, 6, 7]\n"
     ]
    }
   ],
   "source": [
    "a=[1,2,3]\n",
    "b=[a,5,6,7]\n",
    "#c = b.copy()\n",
    "c = copy.deepcopy(b)\n",
    "print(b)\n",
    "a[0]=99\n",
    "b[1]=88\n",
    "b[0][2]=77\n",
    "print(a)\n",
    "print(b)\n",
    "print(c)\n"
   ]
  },
  {
   "cell_type": "code",
   "execution_count": 197,
   "metadata": {},
   "outputs": [
    {
     "name": "stdout",
     "output_type": "stream",
     "text": [
      "True\n",
      "False\n"
     ]
    }
   ],
   "source": [
    "a=[1,2,3]\n",
    "b=[a,5,6,7]\n",
    "c = b\n",
    "c2 = b.copy()\n",
    "print( b is c)\n",
    "print( b is c2)"
   ]
  },
  {
   "cell_type": "code",
   "execution_count": 198,
   "metadata": {},
   "outputs": [
    {
     "data": {
      "text/plain": [
       "['C:\\\\Users\\\\user\\\\Anaconda3\\\\envs\\\\encore\\\\python36.zip',\n",
       " 'C:\\\\Users\\\\user\\\\Anaconda3\\\\envs\\\\encore\\\\DLLs',\n",
       " 'C:\\\\Users\\\\user\\\\Anaconda3\\\\envs\\\\encore\\\\lib',\n",
       " 'C:\\\\Users\\\\user\\\\Anaconda3\\\\envs\\\\encore',\n",
       " '',\n",
       " 'C:\\\\Users\\\\user\\\\Anaconda3\\\\envs\\\\encore\\\\lib\\\\site-packages',\n",
       " 'C:\\\\Users\\\\user\\\\Anaconda3\\\\envs\\\\encore\\\\lib\\\\site-packages\\\\IPython\\\\extensions',\n",
       " 'C:\\\\Users\\\\user\\\\.ipython']"
      ]
     },
     "execution_count": 198,
     "metadata": {},
     "output_type": "execute_result"
    }
   ],
   "source": [
    "import sys\n",
    "sys.path"
   ]
  },
  {
   "cell_type": "code",
   "execution_count": 200,
   "metadata": {},
   "outputs": [
    {
     "name": "stdout",
     "output_type": "stream",
     "text": [
      "3.141592653589793\n"
     ]
    }
   ],
   "source": [
    "import math\n",
    "print(math.pi)"
   ]
  },
  {
   "cell_type": "code",
   "execution_count": 202,
   "metadata": {},
   "outputs": [
    {
     "name": "stdout",
     "output_type": "stream",
     "text": [
      "3.141592653589793\n",
      "12\n"
     ]
    },
    {
     "data": {
      "text/plain": [
       "['__doc__',\n",
       " '__loader__',\n",
       " '__name__',\n",
       " '__package__',\n",
       " '__spec__',\n",
       " 'acos',\n",
       " 'acosh',\n",
       " 'asin',\n",
       " 'asinh',\n",
       " 'atan',\n",
       " 'atan2',\n",
       " 'atanh',\n",
       " 'ceil',\n",
       " 'copysign',\n",
       " 'cos',\n",
       " 'cosh',\n",
       " 'degrees',\n",
       " 'e',\n",
       " 'erf',\n",
       " 'erfc',\n",
       " 'exp',\n",
       " 'expm1',\n",
       " 'fabs',\n",
       " 'factorial',\n",
       " 'floor',\n",
       " 'fmod',\n",
       " 'frexp',\n",
       " 'fsum',\n",
       " 'gamma',\n",
       " 'gcd',\n",
       " 'hypot',\n",
       " 'inf',\n",
       " 'isclose',\n",
       " 'isfinite',\n",
       " 'isinf',\n",
       " 'isnan',\n",
       " 'ldexp',\n",
       " 'lgamma',\n",
       " 'log',\n",
       " 'log10',\n",
       " 'log1p',\n",
       " 'log2',\n",
       " 'modf',\n",
       " 'nan',\n",
       " 'pi',\n",
       " 'pow',\n",
       " 'radians',\n",
       " 'sin',\n",
       " 'sinh',\n",
       " 'sqrt',\n",
       " 'tan',\n",
       " 'tanh',\n",
       " 'tau',\n",
       " 'trunc']"
      ]
     },
     "execution_count": 202,
     "metadata": {},
     "output_type": "execute_result"
    }
   ],
   "source": [
    "import sys\n",
    "from math import pi, gcd\n",
    "print(pi)\n",
    "print(gcd(36,12))\n",
    "\n",
    "#dir(math)\n"
   ]
  },
  {
   "cell_type": "code",
   "execution_count": 207,
   "metadata": {},
   "outputs": [
    {
     "name": "stdout",
     "output_type": "stream",
     "text": [
      "Requirement already satisfied: numpy in c:\\users\\user\\anaconda3\\envs\\encore\\lib\\site-packages (1.16.1)\n"
     ]
    }
   ],
   "source": [
    "!pip install numpy"
   ]
  },
  {
   "cell_type": "code",
   "execution_count": 6,
   "metadata": {},
   "outputs": [
    {
     "name": "stdout",
     "output_type": "stream",
     "text": [
      "<module 'os' from 'C:\\\\Users\\\\user\\\\Anaconda3\\\\envs\\\\encore\\\\lib\\\\os.py'>\n",
      "<module 'numpy' from 'C:\\\\Users\\\\user\\\\Anaconda3\\\\envs\\\\encore\\\\lib\\\\site-packages\\\\numpy\\\\__init__.py'>\n"
     ]
    }
   ],
   "source": [
    "import os\n",
    "import sys\n",
    "import numpy\n",
    "print(sys.modules[\"os\"])\n",
    "print(sys.modules[\"numpy\"])"
   ]
  },
  {
   "cell_type": "code",
   "execution_count": 14,
   "metadata": {},
   "outputs": [
    {
     "data": {
      "text/plain": [
       "'ntr'"
      ]
     },
     "execution_count": 14,
     "metadata": {},
     "output_type": "execute_result"
    }
   ],
   "source": [
    "s1 = \"Introduction to Python\"\n",
    "s2 = \"Python is easy\"\n",
    "len(s1)\n",
    "s1 == s1\n",
    "s1 < s2\n",
    "s1.find(\"to2\")\n",
    "s1[1]\n",
    "s1[1:4]\n",
    "# 다음 수식의 결과를 써라. \n",
    "# (1) len(s1)\n",
    "# (2) s1 == s2\n",
    "# (3) 3*s1\n",
    "# (4) s1 < s2\n",
    "# (5) s1.find(\"to\")\n",
    "# (6) s1[1]\n",
    "# (7) s1[1:4]\n"
   ]
  },
  {
   "cell_type": "code",
   "execution_count": 55,
   "metadata": {},
   "outputs": [
    {
     "name": "stdout",
     "output_type": "stream",
     "text": [
      "회문 ['1', '2', '3', '4', '5', '4', '3', '2', '1'] ['1', '2', '3', '4', '5', '4', '3', '2', '1']\n",
      "2133962181384\n",
      "2133962181448\n",
      "False\n"
     ]
    }
   ],
   "source": [
    "#문자열을 입력하시오: abba\n",
    "#회문입니다. (palindrome)\n",
    "#2. 문자열 중에서 앞으로 읽는 것과 뒤로 읽는 것이 동일한 것\n",
    "s = list(\"123454321\")\n",
    "s2 = list(reversed(s)) #reversed는 사용후 소진된다. iter\n",
    "if s == s2:\n",
    "    print(\"회문\", s, s2)\n",
    "else:\n",
    "    print(\"NO\")\n",
    "print(id(s))    \n",
    "print(id(s2))  \n",
    "print(s is s2)"
   ]
  },
  {
   "cell_type": "code",
   "execution_count": 23,
   "metadata": {},
   "outputs": [
    {
     "data": {
      "text/plain": [
       "[]"
      ]
     },
     "execution_count": 23,
     "metadata": {},
     "output_type": "execute_result"
    }
   ],
   "source": [
    "s = \"123454321\"\n",
    "s2 = reversed(s)\n",
    "list(s2)\n",
    "list(s2)"
   ]
  },
  {
   "cell_type": "code",
   "execution_count": 26,
   "metadata": {},
   "outputs": [
    {
     "data": {
      "text/plain": [
       "[0, 1, 2, 3, 4, 5, 6, 7, 8, 9]"
      ]
     },
     "execution_count": 26,
     "metadata": {},
     "output_type": "execute_result"
    }
   ],
   "source": [
    "a = range(10)\n",
    "list(a)\n",
    "list(a)"
   ]
  },
  {
   "cell_type": "code",
   "execution_count": 28,
   "metadata": {},
   "outputs": [
    {
     "data": {
      "text/plain": [
       "['썬', '이', '파']"
      ]
     },
     "execution_count": 28,
     "metadata": {},
     "output_type": "execute_result"
    }
   ],
   "source": [
    "s2 = reversed(\"파이썬\")\n",
    "list(s2)"
   ]
  },
  {
   "cell_type": "code",
   "execution_count": 49,
   "metadata": {},
   "outputs": [],
   "source": [
    "nums = [1,2,3,4]\n",
    "data = iter(nums)"
   ]
  },
  {
   "cell_type": "code",
   "execution_count": 50,
   "metadata": {},
   "outputs": [
    {
     "name": "stdout",
     "output_type": "stream",
     "text": [
      "1\n",
      "2\n",
      "3\n",
      "4\n"
     ]
    }
   ],
   "source": [
    "for i in nums:\n",
    "    print(i)"
   ]
  },
  {
   "cell_type": "code",
   "execution_count": 48,
   "metadata": {},
   "outputs": [
    {
     "name": "stdout",
     "output_type": "stream",
     "text": [
      "1\n",
      "2\n",
      "3\n",
      "4\n",
      "값이 없다...모두 소진됨\n"
     ]
    }
   ],
   "source": [
    "while True:\n",
    "    try:\n",
    "        print(next(data))\n",
    "    except StopIteration:\n",
    "        print(\"값이 없다...모두 소진됨\")\n",
    "        break"
   ]
  },
  {
   "cell_type": "code",
   "execution_count": 58,
   "metadata": {},
   "outputs": [
    {
     "name": "stdout",
     "output_type": "stream",
     "text": [
      "생년월일19991301\n",
      "월 잘못입력\n"
     ]
    }
   ],
   "source": [
    "# 3. 사용자로부터 생년월일을 문자열로 받아서 \n",
    "# 올바른 생년월일인지를 검사하는 프로그램을 작성하라. \n",
    "# 예를 들면 “19991301”과 같은 문자열은 올바른 생년월일이 아니다. \n",
    "# 13월 1일은 올바르지 않다. \n",
    "s = input(\"생년월일\")\n",
    "m = int(s[4:6])\n",
    "d = int(s[6:8])\n",
    "if m <0 or m > 12:\n",
    "    print(\"월 잘못입력\")\n",
    "else:\n",
    "    if d >0 and d<=31:\n",
    "        print(\"OK\")\n",
    "    else:\n",
    "        print(\"일자 오류\")\n",
    "        \n"
   ]
  },
  {
   "cell_type": "code",
   "execution_count": null,
   "metadata": {},
   "outputs": [],
   "source": [
    "4. 사용자가 입력한 문자열에서 특정한 문자의 \n",
    "빈도를 계산하는 프로그램을 작성해보자. 예를 들어서 “Welcome to Python”에서 문자 \n",
    "“o”의 빈도를 계산하는 프로그램을 작성한다. "
   ]
  },
  {
   "cell_type": "code",
   "execution_count": 59,
   "metadata": {},
   "outputs": [
    {
     "name": "stdout",
     "output_type": "stream",
     "text": [
      "문자열을 입력하시오:oooooodsadsdsagoooooooo\n"
     ]
    },
    {
     "data": {
      "text/plain": [
       "14"
      ]
     },
     "execution_count": 59,
     "metadata": {},
     "output_type": "execute_result"
    }
   ],
   "source": [
    "s = input(\"문자열을 입력하시오:\")\n",
    "s.count(\"o\")"
   ]
  },
  {
   "cell_type": "code",
   "execution_count": 82,
   "metadata": {},
   "outputs": [
    {
     "data": {
      "text/plain": [
       "'686237'"
      ]
     },
     "execution_count": 82,
     "metadata": {},
     "output_type": "execute_result"
    }
   ],
   "source": [
    "data = [('abc',2),('def',3),('ghi',4),('jkl',5),('mnp',6),('pqrs',7),('tuv',8),\n",
    "('wxyz',9),]\n",
    "#{\"a\":2, \"b\":2,\"c\":2,\"d\":3................}\n",
    "adic = {aa:v  for k,v in data for aa in k}\n",
    "user_input = \"NUMBER\".lower()\n",
    "[adic.get(k) for k in user_input]\n",
    "''.join(str(adic.get(k)) for k in user_input)"
   ]
  },
  {
   "cell_type": "code",
   "execution_count": 88,
   "metadata": {},
   "outputs": [
    {
     "name": "stdout",
     "output_type": "stream",
     "text": [
      "문자열을 입력하시오:abcd\n",
      "dcba\n",
      "dcba"
     ]
    }
   ],
   "source": [
    "s = input(\"문자열을 입력하시오:\") \n",
    "#방법1\n",
    "print(''.join(reversed(s)))\n",
    "#방법2\n",
    "for aa in reversed(s):\n",
    "    print(aa, end=\"\")"
   ]
  },
  {
   "cell_type": "code",
   "execution_count": 93,
   "metadata": {},
   "outputs": [
    {
     "name": "stdout",
     "output_type": "stream",
     "text": [
      "나이를 입력하시오:20\n",
      "나이==>20\n"
     ]
    }
   ],
   "source": [
    "while True:\n",
    "    age = input(\"나이를 입력하시오:\") \n",
    "    if age.isdecimal():  #숫자형태인가?\n",
    "        break\n",
    "    print(\"숫자로 ~~~~~\")\n",
    "print(\"나이==>{}\".format(age))"
   ]
  },
  {
   "cell_type": "code",
   "execution_count": 92,
   "metadata": {},
   "outputs": [],
   "source": [
    "age=\"888888\"\n",
    "#dir(age)"
   ]
  },
  {
   "cell_type": "code",
   "execution_count": 98,
   "metadata": {},
   "outputs": [
    {
     "name": "stdout",
     "output_type": "stream",
     "text": [
      "ID를 입력하시오:python\n",
      "1234\n"
     ]
    }
   ],
   "source": [
    "user = {\"python\":\"1234\", \"min\":\"dddd\"}\n",
    "aa = input(\"ID를 입력하시오:\") \n",
    "if aa in user:\n",
    "    print(user.get(aa))\n",
    "else:\n",
    "    print(\"ID오류\")"
   ]
  },
  {
   "cell_type": "code",
   "execution_count": 103,
   "metadata": {},
   "outputs": [
    {
     "data": {
      "text/plain": [
       "True"
      ]
     },
     "execution_count": 103,
     "metadata": {},
     "output_type": "execute_result"
    }
   ],
   "source": [
    "alist = [1,2,3,4,5]\n",
    "4 in alist\n",
    "\n",
    "user = {\"python\":\"1234\", \"min\":\"dddd\"}\n",
    "'min2' in user\n",
    "\n",
    "a = (1,2,3,4,5)\n",
    "4 in alist\n",
    "\n",
    "a = {1,2,3,4,5}\n",
    "4 in alist\n"
   ]
  },
  {
   "cell_type": "code",
   "execution_count": 136,
   "metadata": {},
   "outputs": [
    {
     "name": "stdout",
     "output_type": "stream",
     "text": [
      "Overwriting car.py\n"
     ]
    }
   ],
   "source": [
    "%%writefile car.py\n",
    "model = \"BMW520\"\n",
    "speed = 80\n",
    "def speed_display(s):\n",
    "    print('증가된 speed  :', speed + s)\n",
    "\n",
    "if __name__ ==  \"__main__\":   \n",
    "    print(\"car 모듈 시작\")\n",
    "    print(__name__)\n",
    "    print(\"car 모듈 끝\")\n",
    "\n"
   ]
  },
  {
   "cell_type": "code",
   "execution_count": 137,
   "metadata": {},
   "outputs": [
    {
     "name": "stdout",
     "output_type": "stream",
     "text": [
      "증가된 speed  : 160\n"
     ]
    }
   ],
   "source": [
    "import imp\n",
    "imp.reload(car)\n",
    "car.model\n",
    "car.speed\n",
    "car.speed_display(car.speed)"
   ]
  },
  {
   "cell_type": "code",
   "execution_count": 144,
   "metadata": {},
   "outputs": [
    {
     "name": "stdout",
     "output_type": "stream",
     "text": [
      "함수입니다.\n",
      "None\n"
     ]
    }
   ],
   "source": [
    "def f():\n",
    "    print(\"함수입니다.\")\n",
    "     \n",
    "\n",
    "aa = f()\n",
    "print(aa)"
   ]
  },
  {
   "cell_type": "code",
   "execution_count": null,
   "metadata": {},
   "outputs": [],
   "source": []
  },
  {
   "cell_type": "code",
   "execution_count": null,
   "metadata": {},
   "outputs": [],
   "source": []
  },
  {
   "cell_type": "code",
   "execution_count": null,
   "metadata": {},
   "outputs": [],
   "source": []
  },
  {
   "cell_type": "code",
   "execution_count": 129,
   "metadata": {},
   "outputs": [
    {
     "name": "stdout",
     "output_type": "stream",
     "text": [
      "Overwriting mycalc.py\n"
     ]
    }
   ],
   "source": [
    "%%writefile mycalc.py\n",
    "def add(a,b):\n",
    "    return a+b\n",
    "\n",
    "if __name__ == '__main__':\n",
    "    print(1)\n",
    "    print(add(10,20))\n",
    "    print(2)"
   ]
  },
  {
   "cell_type": "code",
   "execution_count": 132,
   "metadata": {},
   "outputs": [
    {
     "name": "stdout",
     "output_type": "stream",
     "text": [
      "30\n"
     ]
    }
   ],
   "source": [
    "from mycalc import add\n",
    "print(add(10,20))"
   ]
  },
  {
   "cell_type": "code",
   "execution_count": 133,
   "metadata": {},
   "outputs": [
    {
     "data": {
      "text/plain": [
       "['__builtins__',\n",
       " '__cached__',\n",
       " '__doc__',\n",
       " '__file__',\n",
       " '__loader__',\n",
       " '__name__',\n",
       " '__package__',\n",
       " '__spec__',\n",
       " 'add']"
      ]
     },
     "execution_count": 133,
     "metadata": {},
     "output_type": "execute_result"
    }
   ],
   "source": [
    "dir(mycalc)"
   ]
  },
  {
   "cell_type": "code",
   "execution_count": null,
   "metadata": {},
   "outputs": [],
   "source": []
  },
  {
   "cell_type": "code",
   "execution_count": null,
   "metadata": {},
   "outputs": [],
   "source": []
  }
 ],
 "metadata": {
  "kernelspec": {
   "display_name": "encore3.6",
   "language": "python",
   "name": "encore"
  },
  "language_info": {
   "codemirror_mode": {
    "name": "ipython",
    "version": 3
   },
   "file_extension": ".py",
   "mimetype": "text/x-python",
   "name": "python",
   "nbconvert_exporter": "python",
   "pygments_lexer": "ipython3",
   "version": "3.6.8"
  }
 },
 "nbformat": 4,
 "nbformat_minor": 2
}
